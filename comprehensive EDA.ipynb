{
 "cells": [
  {
   "cell_type": "markdown",
   "metadata": {},
   "source": [
    "There are multiple questions that are going in my head.\n",
    "\n",
    "1. does win rate change over time? why?\n",
    "\n",
    "2. Nasser club was the cahmpion, now it seems that al hilal is going to take it. what changed?\n",
    "\n",
    "3. does formation matter?\n",
    "\n",
    "4. how important is the coach?\n",
    "\n",
    "5. does the main scorrer participation in small clubs make as much difference as big clubs?\n",
    "\n",
    "6. "
   ]
  },
  {
   "cell_type": "code",
   "execution_count": null,
   "metadata": {},
   "outputs": [],
   "source": []
  }
 ],
 "metadata": {
  "kernelspec": {
   "display_name": "Python 3",
   "language": "python",
   "name": "python3"
  },
  "language_info": {
   "codemirror_mode": {
    "name": "ipython",
    "version": 3
   },
   "file_extension": ".py",
   "mimetype": "text/x-python",
   "name": "python",
   "nbconvert_exporter": "python",
   "pygments_lexer": "ipython3",
   "version": "3.7.6"
  }
 },
 "nbformat": 4,
 "nbformat_minor": 4
}
