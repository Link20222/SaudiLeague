{
 "cells": [
  {
   "cell_type": "markdown",
   "metadata": {},
   "source": [
    "I'll be starting my data analysis nanodegree soon, So I will stop working on this notebook until I can feel comfortable doing some data analysis."
   ]
  },
  {
   "cell_type": "markdown",
   "metadata": {},
   "source": [
    "There are multiple questions that are going in my head.\n",
    "\n",
    "1. does win rate change over time? why?\n",
    "\n",
    "2. Nasir club was the cahmpion, now it seems that al hilal is going to take it. what changed?\n",
    "\n",
    "3. does formation matter?\n",
    "\n",
    "4. how important is the coach?\n",
    "\n",
    "5. does the main scorrer participation in small clubs make as much difference as big clubs?\n",
    "\n",
    "6. does playing in small unpopular venues make any difference?\n",
    "\n",
    "7. how does previous match rating affect the next match result?\n",
    "\n",
    "8. What is more relative, last matche rating, or the last match agains the opposing team rating?\n",
    "\n"
   ]
  },
  {
   "cell_type": "code",
   "execution_count": null,
   "metadata": {},
   "outputs": [],
   "source": []
  }
 ],
 "metadata": {
  "kernelspec": {
   "display_name": "Python 3",
   "language": "python",
   "name": "python3"
  },
  "language_info": {
   "codemirror_mode": {
    "name": "ipython",
    "version": 3
   },
   "file_extension": ".py",
   "mimetype": "text/x-python",
   "name": "python",
   "nbconvert_exporter": "python",
   "pygments_lexer": "ipython3",
   "version": "3.7.6"
  }
 },
 "nbformat": 4,
 "nbformat_minor": 4
}
