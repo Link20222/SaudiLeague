{
 "cells": [
  {
   "cell_type": "code",
   "execution_count": 2,
   "metadata": {},
   "outputs": [],
   "source": [
    "import pandas as pd\n",
    "import numpy as np"
   ]
  },
  {
   "cell_type": "code",
   "execution_count": 3,
   "metadata": {},
   "outputs": [],
   "source": [
    "df = pd.read_csv(\"season2018 v3.csv\").drop(\"Unnamed: 0\", axis= 1)"
   ]
  },
  {
   "cell_type": "code",
   "execution_count": 4,
   "metadata": {},
   "outputs": [
    {
     "data": {
      "text/html": [
       "<div>\n",
       "<style scoped>\n",
       "    .dataframe tbody tr th:only-of-type {\n",
       "        vertical-align: middle;\n",
       "    }\n",
       "\n",
       "    .dataframe tbody tr th {\n",
       "        vertical-align: top;\n",
       "    }\n",
       "\n",
       "    .dataframe thead th {\n",
       "        text-align: right;\n",
       "    }\n",
       "</style>\n",
       "<table border=\"1\" class=\"dataframe\">\n",
       "  <thead>\n",
       "    <tr style=\"text-align: right;\">\n",
       "      <th></th>\n",
       "      <th>fixture_id</th>\n",
       "      <th>home_team</th>\n",
       "      <th>away_team</th>\n",
       "      <th>home_goals</th>\n",
       "      <th>away_goals</th>\n",
       "      <th>venue</th>\n",
       "      <th>referee</th>\n",
       "      <th>date</th>\n",
       "      <th>season</th>\n",
       "      <th>home_coach</th>\n",
       "      <th>away_coach</th>\n",
       "      <th>home_formation</th>\n",
       "      <th>away_formation</th>\n",
       "      <th>home_players</th>\n",
       "      <th>away_players</th>\n",
       "      <th>round</th>\n",
       "    </tr>\n",
       "  </thead>\n",
       "  <tbody>\n",
       "    <tr>\n",
       "      <th>0</th>\n",
       "      <td>151695</td>\n",
       "      <td>Al-Ettifaq</td>\n",
       "      <td>Al-Raed</td>\n",
       "      <td>1</td>\n",
       "      <td>1</td>\n",
       "      <td>Prince Mohamed Bin Fahd Stadium</td>\n",
       "      <td>NaN</td>\n",
       "      <td>2018-08-30T18:40:00+03:00</td>\n",
       "      <td>2018/2019</td>\n",
       "      <td>L. Ramos</td>\n",
       "      <td>B. Hasi</td>\n",
       "      <td>4-2-3-1</td>\n",
       "      <td>4-2-3-1</td>\n",
       "      <td>[(\"R. M'Bolhi\", 'G'), ('R. Arias', 'D'), ('Hus...</td>\n",
       "      <td>[('A. Doukha', 'G'), ('H. Belkaroui', 'D'), ('...</td>\n",
       "      <td>1</td>\n",
       "    </tr>\n",
       "    <tr>\n",
       "      <th>1</th>\n",
       "      <td>151696</td>\n",
       "      <td>Al-Hazm</td>\n",
       "      <td>Al Wehda Club</td>\n",
       "      <td>0</td>\n",
       "      <td>0</td>\n",
       "      <td>King Abdul Aziz Stadium</td>\n",
       "      <td>NaN</td>\n",
       "      <td>2018-08-30T19:05:00+03:00</td>\n",
       "      <td>2018/2019</td>\n",
       "      <td>D. Isăilă</td>\n",
       "      <td>Fábio Carille</td>\n",
       "      <td>4-2-3-1</td>\n",
       "      <td>4-4-2</td>\n",
       "      <td>[('M. Asselah', None), ('Alemão', None), ('Kha...</td>\n",
       "      <td>[('Mohamed Awad', None), ('Osama Hawsawi', Non...</td>\n",
       "      <td>1</td>\n",
       "    </tr>\n",
       "    <tr>\n",
       "      <th>2</th>\n",
       "      <td>151697</td>\n",
       "      <td>Ohod</td>\n",
       "      <td>Al-Nassr</td>\n",
       "      <td>1</td>\n",
       "      <td>2</td>\n",
       "      <td>Prince Mohammed bin Abdul Aziz Stadium</td>\n",
       "      <td>NaN</td>\n",
       "      <td>2018-08-30T19:15:00+03:00</td>\n",
       "      <td>2018/2019</td>\n",
       "      <td>F. Arce</td>\n",
       "      <td>D. Carreño</td>\n",
       "      <td>4-2-3-1</td>\n",
       "      <td>4-2-3-1</td>\n",
       "      <td>[('Z. Laaroubi', 'G'), ('Hussein Abdul Ghani',...</td>\n",
       "      <td>[('B. Jones', 'G'), ('Bruno Uvini', 'D'), ('Om...</td>\n",
       "      <td>1</td>\n",
       "    </tr>\n",
       "    <tr>\n",
       "      <th>3</th>\n",
       "      <td>151698</td>\n",
       "      <td>Al-Qadisiyah FC</td>\n",
       "      <td>Al-Fateh</td>\n",
       "      <td>0</td>\n",
       "      <td>0</td>\n",
       "      <td>Prince Saud bin Jalawi Stadium</td>\n",
       "      <td>Mark Clattenburg, England</td>\n",
       "      <td>2018-08-31T18:40:00+03:00</td>\n",
       "      <td>2018/2019</td>\n",
       "      <td>A. Stanojević</td>\n",
       "      <td>F. Al Jabal</td>\n",
       "      <td>4-4-2</td>\n",
       "      <td>4-2-3-1</td>\n",
       "      <td>[('J. Duncan', 'G'), ('Adnan Falatah', None), ...</td>\n",
       "      <td>[('M. Koval', 'G'), ('M. Aguirregaray', 'D'), ...</td>\n",
       "      <td>1</td>\n",
       "    </tr>\n",
       "    <tr>\n",
       "      <th>4</th>\n",
       "      <td>151699</td>\n",
       "      <td>Al-Hilal Saudi FC</td>\n",
       "      <td>Al-Fayha</td>\n",
       "      <td>1</td>\n",
       "      <td>0</td>\n",
       "      <td>King Fahd Stadium</td>\n",
       "      <td>NaN</td>\n",
       "      <td>2018-08-31T18:55:00+03:00</td>\n",
       "      <td>2018/2019</td>\n",
       "      <td>Jorge Jesus</td>\n",
       "      <td>G. Costas</td>\n",
       "      <td>4-1-4-1</td>\n",
       "      <td>4-3-3</td>\n",
       "      <td>[('Ali Al Habsi', 'G'), ('Botía', 'D'), ('Yasi...</td>\n",
       "      <td>[('C. Bonilla', 'G'), ('Naldo', 'M'), ('Gêgê',...</td>\n",
       "      <td>1</td>\n",
       "    </tr>\n",
       "  </tbody>\n",
       "</table>\n",
       "</div>"
      ],
      "text/plain": [
       "   fixture_id          home_team      away_team  home_goals  away_goals  \\\n",
       "0      151695         Al-Ettifaq        Al-Raed           1           1   \n",
       "1      151696            Al-Hazm  Al Wehda Club           0           0   \n",
       "2      151697               Ohod       Al-Nassr           1           2   \n",
       "3      151698    Al-Qadisiyah FC       Al-Fateh           0           0   \n",
       "4      151699  Al-Hilal Saudi FC       Al-Fayha           1           0   \n",
       "\n",
       "                                    venue                    referee  \\\n",
       "0         Prince Mohamed Bin Fahd Stadium                        NaN   \n",
       "1                 King Abdul Aziz Stadium                        NaN   \n",
       "2  Prince Mohammed bin Abdul Aziz Stadium                        NaN   \n",
       "3          Prince Saud bin Jalawi Stadium  Mark Clattenburg, England   \n",
       "4                       King Fahd Stadium                        NaN   \n",
       "\n",
       "                        date     season     home_coach     away_coach  \\\n",
       "0  2018-08-30T18:40:00+03:00  2018/2019       L. Ramos        B. Hasi   \n",
       "1  2018-08-30T19:05:00+03:00  2018/2019      D. Isăilă  Fábio Carille   \n",
       "2  2018-08-30T19:15:00+03:00  2018/2019        F. Arce     D. Carreño   \n",
       "3  2018-08-31T18:40:00+03:00  2018/2019  A. Stanojević    F. Al Jabal   \n",
       "4  2018-08-31T18:55:00+03:00  2018/2019    Jorge Jesus      G. Costas   \n",
       "\n",
       "  home_formation away_formation  \\\n",
       "0        4-2-3-1        4-2-3-1   \n",
       "1        4-2-3-1          4-4-2   \n",
       "2        4-2-3-1        4-2-3-1   \n",
       "3          4-4-2        4-2-3-1   \n",
       "4        4-1-4-1          4-3-3   \n",
       "\n",
       "                                        home_players  \\\n",
       "0  [(\"R. M'Bolhi\", 'G'), ('R. Arias', 'D'), ('Hus...   \n",
       "1  [('M. Asselah', None), ('Alemão', None), ('Kha...   \n",
       "2  [('Z. Laaroubi', 'G'), ('Hussein Abdul Ghani',...   \n",
       "3  [('J. Duncan', 'G'), ('Adnan Falatah', None), ...   \n",
       "4  [('Ali Al Habsi', 'G'), ('Botía', 'D'), ('Yasi...   \n",
       "\n",
       "                                        away_players  round  \n",
       "0  [('A. Doukha', 'G'), ('H. Belkaroui', 'D'), ('...      1  \n",
       "1  [('Mohamed Awad', None), ('Osama Hawsawi', Non...      1  \n",
       "2  [('B. Jones', 'G'), ('Bruno Uvini', 'D'), ('Om...      1  \n",
       "3  [('M. Koval', 'G'), ('M. Aguirregaray', 'D'), ...      1  \n",
       "4  [('C. Bonilla', 'G'), ('Naldo', 'M'), ('Gêgê',...      1  "
      ]
     },
     "execution_count": 4,
     "metadata": {},
     "output_type": "execute_result"
    }
   ],
   "source": [
    "df.head()"
   ]
  },
  {
   "cell_type": "code",
   "execution_count": 7,
   "metadata": {
    "scrolled": true
   },
   "outputs": [
    {
     "data": {
      "text/plain": [
       "549"
      ]
     },
     "execution_count": 7,
     "metadata": {},
     "output_type": "execute_result"
    }
   ],
   "source": [
    "df.isnull().sum().sum()"
   ]
  },
  {
   "cell_type": "code",
   "execution_count": null,
   "metadata": {},
   "outputs": [],
   "source": [
    "df = pd.concat([sesaon2018, season2019])"
   ]
  },
  {
   "cell_type": "markdown",
   "metadata": {},
   "source": [
    "# Data Cleaning"
   ]
  },
  {
   "cell_type": "code",
   "execution_count": null,
   "metadata": {},
   "outputs": [],
   "source": []
  },
  {
   "cell_type": "markdown",
   "metadata": {},
   "source": [
    "# Feature Engineering"
   ]
  },
  {
   "cell_type": "code",
   "execution_count": 5,
   "metadata": {},
   "outputs": [
    {
     "data": {
      "text/plain": [
       "Index(['fixture_id', 'home_team', 'away_team', 'home_goals', 'away_goals',\n",
       "       'venue', 'referee', 'date', 'season', 'home_coach', 'away_coach',\n",
       "       'home_formation', 'away_formation', 'home_players', 'away_players',\n",
       "       'round'],\n",
       "      dtype='object')"
      ]
     },
     "execution_count": 5,
     "metadata": {},
     "output_type": "execute_result"
    }
   ],
   "source": [
    "df.columns"
   ]
  },
  {
   "cell_type": "code",
   "execution_count": 6,
   "metadata": {},
   "outputs": [],
   "source": [
    "# Adding the current points feature"
   ]
  },
  {
   "cell_type": "code",
   "execution_count": null,
   "metadata": {},
   "outputs": [],
   "source": [
    "# Adding the current points feature"
   ]
  },
  {
   "cell_type": "code",
   "execution_count": null,
   "metadata": {},
   "outputs": [],
   "source": [
    "# Adding the final state feature"
   ]
  },
  {
   "cell_type": "code",
   "execution_count": 7,
   "metadata": {},
   "outputs": [],
   "source": [
    "# Adding the last game performance"
   ]
  },
  {
   "cell_type": "code",
   "execution_count": null,
   "metadata": {},
   "outputs": [],
   "source": [
    "# Adding the last game agains the other team performance"
   ]
  }
 ],
 "metadata": {
  "kernelspec": {
   "display_name": "Python 3",
   "language": "python",
   "name": "python3"
  },
  "language_info": {
   "codemirror_mode": {
    "name": "ipython",
    "version": 3
   },
   "file_extension": ".py",
   "mimetype": "text/x-python",
   "name": "python",
   "nbconvert_exporter": "python",
   "pygments_lexer": "ipython3",
   "version": "3.7.6"
  }
 },
 "nbformat": 4,
 "nbformat_minor": 4
}
