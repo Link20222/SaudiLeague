{
 "cells": [
  {
   "cell_type": "code",
   "execution_count": 2,
   "metadata": {},
   "outputs": [],
   "source": [
    "import pandas as pd\n",
    "import numpy as np"
   ]
  },
  {
   "cell_type": "code",
   "execution_count": 6,
   "metadata": {},
   "outputs": [],
   "source": [
    "season2018 = pd.read_csv(\"season2018 v5.csv\").drop(\"Unnamed: 0\", axis=1)\n",
    "season2019 = pd.read_csv(\"season2019 v4.csv\").drop(\"Unnamed: 0\", axis=1)\n",
    "\n",
    "df = pd.concat([season2018, season2019])"
   ]
  },
  {
   "cell_type": "code",
   "execution_count": 7,
   "metadata": {},
   "outputs": [
    {
     "data": {
      "text/plain": [
       "fixture_id          int64\n",
       "home_team          object\n",
       "away_team          object\n",
       "home_goals        float64\n",
       "away_goals        float64\n",
       "venue              object\n",
       "referee            object\n",
       "date               object\n",
       "season             object\n",
       "home_coach         object\n",
       "away_coach         object\n",
       "home_formation     object\n",
       "away_formation     object\n",
       "home_players       object\n",
       "away_players       object\n",
       "round               int64\n",
       "status             object\n",
       "H_avg_ratings     float64\n",
       "A_avg_ratings     float64\n",
       "dtype: object"
      ]
     },
     "execution_count": 7,
     "metadata": {},
     "output_type": "execute_result"
    }
   ],
   "source": [
    "df.dtypes"
   ]
  },
  {
   "cell_type": "markdown",
   "metadata": {},
   "source": [
    "# Data Cleaning"
   ]
  },
  {
   "cell_type": "markdown",
   "metadata": {},
   "source": [
    "#### missing values"
   ]
  },
  {
   "cell_type": "markdown",
   "metadata": {},
   "source": [
    "since there are lots of unfinished matches registerd in the dataframe, let's fill in the missings within the finished matches"
   ]
  },
  {
   "cell_type": "code",
   "execution_count": 26,
   "metadata": {},
   "outputs": [
    {
     "data": {
      "text/html": [
       "<div>\n",
       "<style scoped>\n",
       "    .dataframe tbody tr th:only-of-type {\n",
       "        vertical-align: middle;\n",
       "    }\n",
       "\n",
       "    .dataframe tbody tr th {\n",
       "        vertical-align: top;\n",
       "    }\n",
       "\n",
       "    .dataframe thead th {\n",
       "        text-align: right;\n",
       "    }\n",
       "</style>\n",
       "<table border=\"1\" class=\"dataframe\">\n",
       "  <thead>\n",
       "    <tr style=\"text-align: right;\">\n",
       "      <th></th>\n",
       "      <th>fixture_id</th>\n",
       "      <th>home_team</th>\n",
       "      <th>away_team</th>\n",
       "      <th>home_goals</th>\n",
       "      <th>away_goals</th>\n",
       "      <th>venue</th>\n",
       "      <th>referee</th>\n",
       "      <th>date</th>\n",
       "      <th>season</th>\n",
       "      <th>home_coach</th>\n",
       "      <th>away_coach</th>\n",
       "      <th>home_formation</th>\n",
       "      <th>away_formation</th>\n",
       "      <th>home_players</th>\n",
       "      <th>away_players</th>\n",
       "      <th>round</th>\n",
       "      <th>status</th>\n",
       "      <th>H_avg_ratings</th>\n",
       "      <th>A_avg_ratings</th>\n",
       "    </tr>\n",
       "  </thead>\n",
       "  <tbody>\n",
       "    <tr>\n",
       "      <th>0</th>\n",
       "      <td>234777</td>\n",
       "      <td>Al-Nassr</td>\n",
       "      <td>Dhamk</td>\n",
       "      <td>2.0</td>\n",
       "      <td>0.0</td>\n",
       "      <td>King Fahd International Stadium</td>\n",
       "      <td>M. Conger</td>\n",
       "      <td>2019-08-22T19:00:00+03:00</td>\n",
       "      <td>2019/2020</td>\n",
       "      <td>Rui Vitória</td>\n",
       "      <td>M. Kouki</td>\n",
       "      <td>4-2-3-1</td>\n",
       "      <td>4-3-3</td>\n",
       "      <td>[('B. Jones', 'G'), ('Maicon', 'D'), ('Abdulra...</td>\n",
       "      <td>[('C. Rahmani', 'G'), ('Jorge Fellipe', 'D'), ...</td>\n",
       "      <td>1</td>\n",
       "      <td>Match Finished</td>\n",
       "      <td>NaN</td>\n",
       "      <td>NaN</td>\n",
       "    </tr>\n",
       "    <tr>\n",
       "      <th>1</th>\n",
       "      <td>234778</td>\n",
       "      <td>Al-Ahli Jeddah</td>\n",
       "      <td>Al-Adalah</td>\n",
       "      <td>1.0</td>\n",
       "      <td>1.0</td>\n",
       "      <td>King Abdullah Sports City</td>\n",
       "      <td>B. Gassama</td>\n",
       "      <td>2019-08-22T20:50:00+03:00</td>\n",
       "      <td>2019/2020</td>\n",
       "      <td>B. Ivanković</td>\n",
       "      <td>S. Kasri</td>\n",
       "      <td>4-4-2</td>\n",
       "      <td>4-3-3</td>\n",
       "      <td>[('Mohammed Al-Owais', 'G'), ('Hussein Abdul G...</td>\n",
       "      <td>[('A. Mathlouthi', 'G'), ('A. Ali Guechi', 'D'...</td>\n",
       "      <td>1</td>\n",
       "      <td>Match Finished</td>\n",
       "      <td>NaN</td>\n",
       "      <td>NaN</td>\n",
       "    </tr>\n",
       "    <tr>\n",
       "      <th>2</th>\n",
       "      <td>234779</td>\n",
       "      <td>Al-Hilal Saudi FC</td>\n",
       "      <td>Abha</td>\n",
       "      <td>4.0</td>\n",
       "      <td>2.0</td>\n",
       "      <td>King Saud University Stadium</td>\n",
       "      <td>D. Higler</td>\n",
       "      <td>2019-08-23T19:00:00+03:00</td>\n",
       "      <td>2019/2020</td>\n",
       "      <td>R. Lucescu</td>\n",
       "      <td>A. Chebbi</td>\n",
       "      <td>4-2-3-1</td>\n",
       "      <td>4-2-3-1</td>\n",
       "      <td>[('Abdullah Al Maiouf', 'G'), ('Mohammed Jahfa...</td>\n",
       "      <td>[(\"A. M'Hamdi\", 'G'), ('Karam Barnawi', 'D'), ...</td>\n",
       "      <td>1</td>\n",
       "      <td>Match Finished</td>\n",
       "      <td>NaN</td>\n",
       "      <td>NaN</td>\n",
       "    </tr>\n",
       "    <tr>\n",
       "      <th>3</th>\n",
       "      <td>234780</td>\n",
       "      <td>Al Taawon</td>\n",
       "      <td>Al-Hazm</td>\n",
       "      <td>1.0</td>\n",
       "      <td>1.0</td>\n",
       "      <td>King Abdullah Sport City Stadium</td>\n",
       "      <td>Luis Godinho</td>\n",
       "      <td>2019-08-23T19:10:00+03:00</td>\n",
       "      <td>2019/2020</td>\n",
       "      <td>Paulo Sérgio</td>\n",
       "      <td>D. Isăilă</td>\n",
       "      <td>4-4-2</td>\n",
       "      <td>4-2-3-1</td>\n",
       "      <td>[('Cássio', 'G'), ('Ricardo Machado', 'D'), ('...</td>\n",
       "      <td>[('M. Asselah', 'G'), ('Naif Al-Mousa', 'D'), ...</td>\n",
       "      <td>1</td>\n",
       "      <td>Match Finished</td>\n",
       "      <td>NaN</td>\n",
       "      <td>NaN</td>\n",
       "    </tr>\n",
       "    <tr>\n",
       "      <th>4</th>\n",
       "      <td>234781</td>\n",
       "      <td>Al-Ittihad FC</td>\n",
       "      <td>Al-Raed</td>\n",
       "      <td>3.0</td>\n",
       "      <td>1.0</td>\n",
       "      <td>King Abdullah Sports City</td>\n",
       "      <td>S. Moen</td>\n",
       "      <td>2019-08-23T20:50:00+03:00</td>\n",
       "      <td>2019/2020</td>\n",
       "      <td>J. Sierra</td>\n",
       "      <td>B. Hasi</td>\n",
       "      <td>4-3-3</td>\n",
       "      <td>4-3-3</td>\n",
       "      <td>[('Fawaz Al Qarni', 'G'), ('M. da Costa', 'D')...</td>\n",
       "      <td>[('A. Doukha', 'G'), ('Hussein Al Shuwaish', '...</td>\n",
       "      <td>1</td>\n",
       "      <td>Match Finished</td>\n",
       "      <td>NaN</td>\n",
       "      <td>NaN</td>\n",
       "    </tr>\n",
       "    <tr>\n",
       "      <th>...</th>\n",
       "      <td>...</td>\n",
       "      <td>...</td>\n",
       "      <td>...</td>\n",
       "      <td>...</td>\n",
       "      <td>...</td>\n",
       "      <td>...</td>\n",
       "      <td>...</td>\n",
       "      <td>...</td>\n",
       "      <td>...</td>\n",
       "      <td>...</td>\n",
       "      <td>...</td>\n",
       "      <td>...</td>\n",
       "      <td>...</td>\n",
       "      <td>...</td>\n",
       "      <td>...</td>\n",
       "      <td>...</td>\n",
       "      <td>...</td>\n",
       "      <td>...</td>\n",
       "      <td>...</td>\n",
       "    </tr>\n",
       "    <tr>\n",
       "      <th>195</th>\n",
       "      <td>312933</td>\n",
       "      <td>Al-Ittihad FC</td>\n",
       "      <td>Al-Ettifaq</td>\n",
       "      <td>1.0</td>\n",
       "      <td>0.0</td>\n",
       "      <td>King Abdullah Sports City</td>\n",
       "      <td>NaN</td>\n",
       "      <td>2020-08-14T20:50:00+03:00</td>\n",
       "      <td>2019/2020</td>\n",
       "      <td>Fábio Carille</td>\n",
       "      <td>Khaled Al Atawi</td>\n",
       "      <td>4-3-3</td>\n",
       "      <td>4-1-4-1</td>\n",
       "      <td>[('Marcelo Grohe', 'G'), ('Saud Abdulhamid', '...</td>\n",
       "      <td>[(\"Raïs M'Bolhi\", 'G'), ('Saleh Al Qumayzi', '...</td>\n",
       "      <td>25</td>\n",
       "      <td>Match Finished</td>\n",
       "      <td>NaN</td>\n",
       "      <td>NaN</td>\n",
       "    </tr>\n",
       "    <tr>\n",
       "      <th>196</th>\n",
       "      <td>312926</td>\n",
       "      <td>Al-Adalah</td>\n",
       "      <td>Al-Hilal Saudi FC</td>\n",
       "      <td>0.0</td>\n",
       "      <td>4.0</td>\n",
       "      <td>Prince Abdullah bin Jalawi Sports City Stadium</td>\n",
       "      <td>NaN</td>\n",
       "      <td>2020-08-15T18:55:00+03:00</td>\n",
       "      <td>2019/2020</td>\n",
       "      <td>N. Beyaoui</td>\n",
       "      <td>R. Lucescu</td>\n",
       "      <td>4-4-2</td>\n",
       "      <td>4-2-3-1</td>\n",
       "      <td>[('Ali Al-Mazidi', 'G'), ('Awadh Khrees', 'D')...</td>\n",
       "      <td>[('Abdullah Al-Mayouf', 'G'), ('Madallah Al-Ol...</td>\n",
       "      <td>25</td>\n",
       "      <td>Match Finished</td>\n",
       "      <td>NaN</td>\n",
       "      <td>NaN</td>\n",
       "    </tr>\n",
       "    <tr>\n",
       "      <th>197</th>\n",
       "      <td>312928</td>\n",
       "      <td>Al-Faisaly FC</td>\n",
       "      <td>Al-Ahli Jeddah</td>\n",
       "      <td>2.0</td>\n",
       "      <td>0.0</td>\n",
       "      <td>Al Majma'ah Sports City Stadium</td>\n",
       "      <td>NaN</td>\n",
       "      <td>2020-08-15T19:10:00+03:00</td>\n",
       "      <td>2019/2020</td>\n",
       "      <td>Péricles Chamusca</td>\n",
       "      <td>V. Milojević</td>\n",
       "      <td>4-4-2</td>\n",
       "      <td>4-2-3-1</td>\n",
       "      <td>[('Mustafa Malaika', 'G'), ('Khaled Al-Ghamdi'...</td>\n",
       "      <td>[('Mohammed Al-Owais', 'G'), ('Hassoun', 'D'),...</td>\n",
       "      <td>25</td>\n",
       "      <td>Match Finished</td>\n",
       "      <td>NaN</td>\n",
       "      <td>NaN</td>\n",
       "    </tr>\n",
       "    <tr>\n",
       "      <th>198</th>\n",
       "      <td>312929</td>\n",
       "      <td>Al Taawon</td>\n",
       "      <td>Dhamk</td>\n",
       "      <td>0.0</td>\n",
       "      <td>2.0</td>\n",
       "      <td>King Abdullah Sport City Stadium</td>\n",
       "      <td>NaN</td>\n",
       "      <td>2020-08-15T19:15:00+03:00</td>\n",
       "      <td>2019/2020</td>\n",
       "      <td>Vítor Campelos</td>\n",
       "      <td>N. Zekri</td>\n",
       "      <td>4-2-3-1</td>\n",
       "      <td>4-1-4-1</td>\n",
       "      <td>[('Cássio', 'G'), ('Faisal Darwish', 'D'), ('A...</td>\n",
       "      <td>[('Khaled Mohammed Shraheli', 'G'), ('Majed Ha...</td>\n",
       "      <td>25</td>\n",
       "      <td>Match Finished</td>\n",
       "      <td>NaN</td>\n",
       "      <td>NaN</td>\n",
       "    </tr>\n",
       "    <tr>\n",
       "      <th>199</th>\n",
       "      <td>312927</td>\n",
       "      <td>Al-Nassr</td>\n",
       "      <td>Al Wehda Club</td>\n",
       "      <td>1.0</td>\n",
       "      <td>0.0</td>\n",
       "      <td>Prince Faisal bin Fahd Stadium</td>\n",
       "      <td>NaN</td>\n",
       "      <td>2020-08-15T20:50:00+03:00</td>\n",
       "      <td>2019/2020</td>\n",
       "      <td>NaN</td>\n",
       "      <td>NaN</td>\n",
       "      <td>NaN</td>\n",
       "      <td>NaN</td>\n",
       "      <td>NaN</td>\n",
       "      <td>NaN</td>\n",
       "      <td>25</td>\n",
       "      <td>Match Finished</td>\n",
       "      <td>NaN</td>\n",
       "      <td>NaN</td>\n",
       "    </tr>\n",
       "  </tbody>\n",
       "</table>\n",
       "<p>200 rows × 19 columns</p>\n",
       "</div>"
      ],
      "text/plain": [
       "     fixture_id          home_team          away_team  home_goals  away_goals  \\\n",
       "0        234777           Al-Nassr              Dhamk         2.0         0.0   \n",
       "1        234778     Al-Ahli Jeddah          Al-Adalah         1.0         1.0   \n",
       "2        234779  Al-Hilal Saudi FC               Abha         4.0         2.0   \n",
       "3        234780          Al Taawon            Al-Hazm         1.0         1.0   \n",
       "4        234781      Al-Ittihad FC            Al-Raed         3.0         1.0   \n",
       "..          ...                ...                ...         ...         ...   \n",
       "195      312933      Al-Ittihad FC         Al-Ettifaq         1.0         0.0   \n",
       "196      312926          Al-Adalah  Al-Hilal Saudi FC         0.0         4.0   \n",
       "197      312928      Al-Faisaly FC     Al-Ahli Jeddah         2.0         0.0   \n",
       "198      312929          Al Taawon              Dhamk         0.0         2.0   \n",
       "199      312927           Al-Nassr      Al Wehda Club         1.0         0.0   \n",
       "\n",
       "                                              venue       referee  \\\n",
       "0                   King Fahd International Stadium     M. Conger   \n",
       "1                         King Abdullah Sports City    B. Gassama   \n",
       "2                      King Saud University Stadium     D. Higler   \n",
       "3                  King Abdullah Sport City Stadium  Luis Godinho   \n",
       "4                         King Abdullah Sports City       S. Moen   \n",
       "..                                              ...           ...   \n",
       "195                       King Abdullah Sports City           NaN   \n",
       "196  Prince Abdullah bin Jalawi Sports City Stadium           NaN   \n",
       "197                 Al Majma'ah Sports City Stadium           NaN   \n",
       "198                King Abdullah Sport City Stadium           NaN   \n",
       "199                  Prince Faisal bin Fahd Stadium           NaN   \n",
       "\n",
       "                          date     season         home_coach       away_coach  \\\n",
       "0    2019-08-22T19:00:00+03:00  2019/2020        Rui Vitória         M. Kouki   \n",
       "1    2019-08-22T20:50:00+03:00  2019/2020       B. Ivanković         S. Kasri   \n",
       "2    2019-08-23T19:00:00+03:00  2019/2020         R. Lucescu        A. Chebbi   \n",
       "3    2019-08-23T19:10:00+03:00  2019/2020       Paulo Sérgio        D. Isăilă   \n",
       "4    2019-08-23T20:50:00+03:00  2019/2020          J. Sierra          B. Hasi   \n",
       "..                         ...        ...                ...              ...   \n",
       "195  2020-08-14T20:50:00+03:00  2019/2020      Fábio Carille  Khaled Al Atawi   \n",
       "196  2020-08-15T18:55:00+03:00  2019/2020         N. Beyaoui       R. Lucescu   \n",
       "197  2020-08-15T19:10:00+03:00  2019/2020  Péricles Chamusca     V. Milojević   \n",
       "198  2020-08-15T19:15:00+03:00  2019/2020     Vítor Campelos         N. Zekri   \n",
       "199  2020-08-15T20:50:00+03:00  2019/2020                NaN              NaN   \n",
       "\n",
       "    home_formation away_formation  \\\n",
       "0          4-2-3-1          4-3-3   \n",
       "1            4-4-2          4-3-3   \n",
       "2          4-2-3-1        4-2-3-1   \n",
       "3            4-4-2        4-2-3-1   \n",
       "4            4-3-3          4-3-3   \n",
       "..             ...            ...   \n",
       "195          4-3-3        4-1-4-1   \n",
       "196          4-4-2        4-2-3-1   \n",
       "197          4-4-2        4-2-3-1   \n",
       "198        4-2-3-1        4-1-4-1   \n",
       "199            NaN            NaN   \n",
       "\n",
       "                                          home_players  \\\n",
       "0    [('B. Jones', 'G'), ('Maicon', 'D'), ('Abdulra...   \n",
       "1    [('Mohammed Al-Owais', 'G'), ('Hussein Abdul G...   \n",
       "2    [('Abdullah Al Maiouf', 'G'), ('Mohammed Jahfa...   \n",
       "3    [('Cássio', 'G'), ('Ricardo Machado', 'D'), ('...   \n",
       "4    [('Fawaz Al Qarni', 'G'), ('M. da Costa', 'D')...   \n",
       "..                                                 ...   \n",
       "195  [('Marcelo Grohe', 'G'), ('Saud Abdulhamid', '...   \n",
       "196  [('Ali Al-Mazidi', 'G'), ('Awadh Khrees', 'D')...   \n",
       "197  [('Mustafa Malaika', 'G'), ('Khaled Al-Ghamdi'...   \n",
       "198  [('Cássio', 'G'), ('Faisal Darwish', 'D'), ('A...   \n",
       "199                                                NaN   \n",
       "\n",
       "                                          away_players  round          status  \\\n",
       "0    [('C. Rahmani', 'G'), ('Jorge Fellipe', 'D'), ...      1  Match Finished   \n",
       "1    [('A. Mathlouthi', 'G'), ('A. Ali Guechi', 'D'...      1  Match Finished   \n",
       "2    [(\"A. M'Hamdi\", 'G'), ('Karam Barnawi', 'D'), ...      1  Match Finished   \n",
       "3    [('M. Asselah', 'G'), ('Naif Al-Mousa', 'D'), ...      1  Match Finished   \n",
       "4    [('A. Doukha', 'G'), ('Hussein Al Shuwaish', '...      1  Match Finished   \n",
       "..                                                 ...    ...             ...   \n",
       "195  [(\"Raïs M'Bolhi\", 'G'), ('Saleh Al Qumayzi', '...     25  Match Finished   \n",
       "196  [('Abdullah Al-Mayouf', 'G'), ('Madallah Al-Ol...     25  Match Finished   \n",
       "197  [('Mohammed Al-Owais', 'G'), ('Hassoun', 'D'),...     25  Match Finished   \n",
       "198  [('Khaled Mohammed Shraheli', 'G'), ('Majed Ha...     25  Match Finished   \n",
       "199                                                NaN     25  Match Finished   \n",
       "\n",
       "     H_avg_ratings  A_avg_ratings  \n",
       "0              NaN            NaN  \n",
       "1              NaN            NaN  \n",
       "2              NaN            NaN  \n",
       "3              NaN            NaN  \n",
       "4              NaN            NaN  \n",
       "..             ...            ...  \n",
       "195            NaN            NaN  \n",
       "196            NaN            NaN  \n",
       "197            NaN            NaN  \n",
       "198            NaN            NaN  \n",
       "199            NaN            NaN  \n",
       "\n",
       "[200 rows x 19 columns]"
      ]
     },
     "execution_count": 26,
     "metadata": {},
     "output_type": "execute_result"
    }
   ],
   "source": [
    "finished_df.loc[(finished_df[\"season\"]==\"2019/2020\") & (finished_df[\"status\"]==\"Match Finished\")]"
   ]
  },
  {
   "cell_type": "code",
   "execution_count": 11,
   "metadata": {
    "scrolled": true
   },
   "outputs": [
    {
     "data": {
      "text/plain": [
       "432"
      ]
     },
     "execution_count": 11,
     "metadata": {},
     "output_type": "execute_result"
    }
   ],
   "source": [
    "finished_df = df.loc[df[\"status\"] == \"Match Finished\"].copy()\n",
    "finished_df.isnull().sum().sum()"
   ]
  },
  {
   "cell_type": "code",
   "execution_count": 12,
   "metadata": {},
   "outputs": [
    {
     "data": {
      "text/plain": [
       "fixture_id          0\n",
       "home_team           0\n",
       "away_team           0\n",
       "home_goals          0\n",
       "away_goals          0\n",
       "venue               0\n",
       "referee            24\n",
       "date                0\n",
       "season              0\n",
       "home_coach          1\n",
       "away_coach          1\n",
       "home_formation      2\n",
       "away_formation      2\n",
       "home_players        1\n",
       "away_players        1\n",
       "round               0\n",
       "status              0\n",
       "H_avg_ratings     200\n",
       "A_avg_ratings     200\n",
       "dtype: int64"
      ]
     },
     "execution_count": 12,
     "metadata": {},
     "output_type": "execute_result"
    }
   ],
   "source": [
    "finished_df.isnull().sum()"
   ]
  },
  {
   "cell_type": "markdown",
   "metadata": {},
   "source": [
    "changing the type of the date feature"
   ]
  },
  {
   "cell_type": "code",
   "execution_count": 26,
   "metadata": {},
   "outputs": [
    {
     "data": {
      "text/plain": [
       "'2018-08-30T18:40:00+03:00'"
      ]
     },
     "execution_count": 26,
     "metadata": {},
     "output_type": "execute_result"
    }
   ],
   "source": [
    "df.loc[0, \"date\"]"
   ]
  },
  {
   "cell_type": "code",
   "execution_count": 33,
   "metadata": {},
   "outputs": [],
   "source": [
    "#deleting the +03:00 part & the T off the dates\n",
    "df[\"date\"] = [date[:-6].replace(\"T\", \" \") for date in df[\"date\"]]"
   ]
  },
  {
   "cell_type": "code",
   "execution_count": 35,
   "metadata": {},
   "outputs": [
    {
     "data": {
      "text/plain": [
       "'2018-08-30 18:40:00'"
      ]
     },
     "execution_count": 35,
     "metadata": {},
     "output_type": "execute_result"
    }
   ],
   "source": [
    "df.loc[0, \"date\"]"
   ]
  },
  {
   "cell_type": "markdown",
   "metadata": {},
   "source": [
    "Now it looks more readable, lets change its type"
   ]
  },
  {
   "cell_type": "code",
   "execution_count": 42,
   "metadata": {},
   "outputs": [],
   "source": [
    "df[\"date\"] = pd.to_datetime(df[\"date\"], format=\"%Y-%m-%d %H:%M:%S\")\n"
   ]
  },
  {
   "cell_type": "code",
   "execution_count": null,
   "metadata": {},
   "outputs": [],
   "source": []
  },
  {
   "cell_type": "code",
   "execution_count": 51,
   "metadata": {},
   "outputs": [
    {
     "data": {
      "text/plain": [
       "fixture_id                 int64\n",
       "home_team                 object\n",
       "away_team                 object\n",
       "home_goals                 int64\n",
       "away_goals                 int64\n",
       "venue                     object\n",
       "referee                   object\n",
       "date              datetime64[ns]\n",
       "season                    object\n",
       "home_coach                object\n",
       "away_coach                object\n",
       "home_formation            object\n",
       "away_formation            object\n",
       "home_players              object\n",
       "away_players              object\n",
       "round                      int64\n",
       "status                    object\n",
       "dtype: object"
      ]
     },
     "execution_count": 51,
     "metadata": {},
     "output_type": "execute_result"
    }
   ],
   "source": [
    "df.dtypes"
   ]
  },
  {
   "cell_type": "markdown",
   "metadata": {},
   "source": [
    "# Feature Engineering"
   ]
  },
  {
   "cell_type": "code",
   "execution_count": 5,
   "metadata": {},
   "outputs": [
    {
     "data": {
      "text/plain": [
       "Index(['fixture_id', 'home_team', 'away_team', 'home_goals', 'away_goals',\n",
       "       'venue', 'referee', 'date', 'season', 'home_coach', 'away_coach',\n",
       "       'home_formation', 'away_formation', 'home_players', 'away_players',\n",
       "       'round'],\n",
       "      dtype='object')"
      ]
     },
     "execution_count": 5,
     "metadata": {},
     "output_type": "execute_result"
    }
   ],
   "source": [
    "df.columns"
   ]
  },
  {
   "cell_type": "code",
   "execution_count": 6,
   "metadata": {},
   "outputs": [],
   "source": [
    "# Adding the current points feature"
   ]
  },
  {
   "cell_type": "code",
   "execution_count": null,
   "metadata": {},
   "outputs": [],
   "source": [
    "# Adding the current points feature"
   ]
  },
  {
   "cell_type": "code",
   "execution_count": null,
   "metadata": {},
   "outputs": [],
   "source": [
    "# Adding the final state feature"
   ]
  },
  {
   "cell_type": "code",
   "execution_count": 7,
   "metadata": {},
   "outputs": [],
   "source": [
    "# Adding the last game performance"
   ]
  },
  {
   "cell_type": "code",
   "execution_count": null,
   "metadata": {},
   "outputs": [],
   "source": [
    "# Adding the last game agains the other team performance"
   ]
  }
 ],
 "metadata": {
  "kernelspec": {
   "display_name": "Python 3",
   "language": "python",
   "name": "python3"
  },
  "language_info": {
   "codemirror_mode": {
    "name": "ipython",
    "version": 3
   },
   "file_extension": ".py",
   "mimetype": "text/x-python",
   "name": "python",
   "nbconvert_exporter": "python",
   "pygments_lexer": "ipython3",
   "version": "3.7.6"
  }
 },
 "nbformat": 4,
 "nbformat_minor": 4
}
