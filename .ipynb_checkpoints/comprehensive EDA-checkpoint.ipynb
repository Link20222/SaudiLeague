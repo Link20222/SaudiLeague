{
 "cells": [
  {
   "cell_type": "markdown",
   "metadata": {},
   "source": [
    "There are multiple questions that are going in my head.\n",
    "\n",
    "1. does win rate change over time? why?\n",
    "\n",
    "2. Nasir club was the champion of the 2018/2019 season, Al hilal is the 2019/2020 season. What makes a champ?\n",
    "\n",
    "3. does formation matter?\n",
    "\n",
    "4. how important is the coach?\n",
    "\n",
    "5. does the main scorrer participation in small clubs make as much difference as big clubs?\n",
    "\n",
    "6. does playing in small unpopular venues make any difference?\n",
    "\n",
    "7. how does previous match rating affect the next match result?\n",
    "\n",
    "8. What is more relative, last matche rating, or the last match against the opposing team rating?\n",
    "\n",
    "9. Does playing in unpopular venues have an effect on peformance?\n",
    "\n"
   ]
  },
  {
   "cell_type": "code",
   "execution_count": 63,
   "metadata": {},
   "outputs": [],
   "source": [
    "import pandas as pd\n",
    "import numpy as np\n",
    "import matplotlib.pyplot as plt\n",
    "import sklearn\n",
    "from sklearn.model_selection import train_test_split\n",
    "\n",
    "np.random.seed(42)\n",
    "%matplotlib inline"
   ]
  },
  {
   "cell_type": "code",
   "execution_count": 64,
   "metadata": {},
   "outputs": [],
   "source": [
    "season2018 = pd.read_csv(\"Season2018.csv\").drop(\"Unnamed: 0\", axis=1)\n",
    "season2019 = pd.read_csv(\"Season2019.csv\").drop(\"Unnamed: 0\", axis=1)\n",
    "season2020 = pd.read_csv(\"Season2020.csv\")\n",
    "\n",
    "df = pd.concat([season2018, season2019, season2020]).reset_index(drop = True)"
   ]
  },
  {
   "cell_type": "code",
   "execution_count": 65,
   "metadata": {
    "scrolled": true
   },
   "outputs": [
    {
     "data": {
      "text/html": [
       "<div>\n",
       "<style scoped>\n",
       "    .dataframe tbody tr th:only-of-type {\n",
       "        vertical-align: middle;\n",
       "    }\n",
       "\n",
       "    .dataframe tbody tr th {\n",
       "        vertical-align: top;\n",
       "    }\n",
       "\n",
       "    .dataframe thead th {\n",
       "        text-align: right;\n",
       "    }\n",
       "</style>\n",
       "<table border=\"1\" class=\"dataframe\">\n",
       "  <thead>\n",
       "    <tr style=\"text-align: right;\">\n",
       "      <th></th>\n",
       "      <th>fixture_id</th>\n",
       "      <th>home_team</th>\n",
       "      <th>away_team</th>\n",
       "      <th>home_goals</th>\n",
       "      <th>away_goals</th>\n",
       "      <th>venue</th>\n",
       "      <th>referee</th>\n",
       "      <th>date</th>\n",
       "      <th>season</th>\n",
       "      <th>home_coach</th>\n",
       "      <th>away_coach</th>\n",
       "      <th>home_formation</th>\n",
       "      <th>away_formation</th>\n",
       "      <th>home_players</th>\n",
       "      <th>away_players</th>\n",
       "      <th>round</th>\n",
       "      <th>status</th>\n",
       "      <th>H_avg_ratings</th>\n",
       "      <th>A_avg_ratings</th>\n",
       "    </tr>\n",
       "  </thead>\n",
       "  <tbody>\n",
       "    <tr>\n",
       "      <th>0</th>\n",
       "      <td>151695</td>\n",
       "      <td>Al-Ettifaq</td>\n",
       "      <td>Al-Raed</td>\n",
       "      <td>1.0</td>\n",
       "      <td>1.0</td>\n",
       "      <td>Prince Mohamed Bin Fahd Stadium</td>\n",
       "      <td>NaN</td>\n",
       "      <td>2018-08-30T18:40:00+03:00</td>\n",
       "      <td>2018/2019</td>\n",
       "      <td>L. Ramos</td>\n",
       "      <td>B. Hasi</td>\n",
       "      <td>4-2-3-1</td>\n",
       "      <td>4-2-3-1</td>\n",
       "      <td>[(\"R. M'Bolhi\", 'G'), ('R. Arias', 'D'), ('Hus...</td>\n",
       "      <td>[('A. Doukha', 'G'), ('H. Belkaroui', 'D'), ('...</td>\n",
       "      <td>1</td>\n",
       "      <td>Match Finished</td>\n",
       "      <td>7.00</td>\n",
       "      <td>6.98</td>\n",
       "    </tr>\n",
       "    <tr>\n",
       "      <th>1</th>\n",
       "      <td>151696</td>\n",
       "      <td>Al-Hazm</td>\n",
       "      <td>Al Wehda Club</td>\n",
       "      <td>0.0</td>\n",
       "      <td>0.0</td>\n",
       "      <td>King Abdul Aziz Stadium</td>\n",
       "      <td>NaN</td>\n",
       "      <td>2018-08-30T19:05:00+03:00</td>\n",
       "      <td>2018/2019</td>\n",
       "      <td>D. Isăilă</td>\n",
       "      <td>Fábio Carille</td>\n",
       "      <td>4-2-3-1</td>\n",
       "      <td>4-4-2</td>\n",
       "      <td>[('M. Asselah', None), ('Alemão', None), ('Kha...</td>\n",
       "      <td>[('Mohamed Awad', None), ('Osama Hawsawi', Non...</td>\n",
       "      <td>1</td>\n",
       "      <td>Match Finished</td>\n",
       "      <td>6.97</td>\n",
       "      <td>6.77</td>\n",
       "    </tr>\n",
       "    <tr>\n",
       "      <th>2</th>\n",
       "      <td>151697</td>\n",
       "      <td>Ohod</td>\n",
       "      <td>Al-Nassr</td>\n",
       "      <td>1.0</td>\n",
       "      <td>2.0</td>\n",
       "      <td>Prince Mohammed bin Abdul Aziz Stadium</td>\n",
       "      <td>NaN</td>\n",
       "      <td>2018-08-30T19:15:00+03:00</td>\n",
       "      <td>2018/2019</td>\n",
       "      <td>F. Arce</td>\n",
       "      <td>D. Carreño</td>\n",
       "      <td>4-2-3-1</td>\n",
       "      <td>4-2-3-1</td>\n",
       "      <td>[('Z. Laaroubi', 'G'), ('Hussein Abdul Ghani',...</td>\n",
       "      <td>[('B. Jones', 'G'), ('Bruno Uvini', 'D'), ('Om...</td>\n",
       "      <td>1</td>\n",
       "      <td>Match Finished</td>\n",
       "      <td>6.64</td>\n",
       "      <td>6.83</td>\n",
       "    </tr>\n",
       "    <tr>\n",
       "      <th>3</th>\n",
       "      <td>151698</td>\n",
       "      <td>Al-Qadisiyah FC</td>\n",
       "      <td>Al-Fateh</td>\n",
       "      <td>0.0</td>\n",
       "      <td>0.0</td>\n",
       "      <td>Prince Saud bin Jalawi Stadium</td>\n",
       "      <td>Mark Clattenburg, England</td>\n",
       "      <td>2018-08-31T18:40:00+03:00</td>\n",
       "      <td>2018/2019</td>\n",
       "      <td>A. Stanojević</td>\n",
       "      <td>F. Al Jabal</td>\n",
       "      <td>4-4-2</td>\n",
       "      <td>4-2-3-1</td>\n",
       "      <td>[('J. Duncan', 'G'), ('Adnan Falatah', None), ...</td>\n",
       "      <td>[('M. Koval', 'G'), ('M. Aguirregaray', 'D'), ...</td>\n",
       "      <td>1</td>\n",
       "      <td>Match Finished</td>\n",
       "      <td>6.96</td>\n",
       "      <td>7.01</td>\n",
       "    </tr>\n",
       "    <tr>\n",
       "      <th>4</th>\n",
       "      <td>151699</td>\n",
       "      <td>Al-Hilal Saudi FC</td>\n",
       "      <td>Al-Fayha</td>\n",
       "      <td>1.0</td>\n",
       "      <td>0.0</td>\n",
       "      <td>King Fahd Stadium</td>\n",
       "      <td>NaN</td>\n",
       "      <td>2018-08-31T18:55:00+03:00</td>\n",
       "      <td>2018/2019</td>\n",
       "      <td>Jorge Jesus</td>\n",
       "      <td>G. Costas</td>\n",
       "      <td>4-1-4-1</td>\n",
       "      <td>4-3-3</td>\n",
       "      <td>[('Ali Al Habsi', 'G'), ('Botía', 'D'), ('Yasi...</td>\n",
       "      <td>[('C. Bonilla', 'G'), ('Naldo', 'M'), ('Gêgê',...</td>\n",
       "      <td>1</td>\n",
       "      <td>Match Finished</td>\n",
       "      <td>7.07</td>\n",
       "      <td>6.55</td>\n",
       "    </tr>\n",
       "  </tbody>\n",
       "</table>\n",
       "</div>"
      ],
      "text/plain": [
       "   fixture_id          home_team      away_team  home_goals  away_goals  \\\n",
       "0      151695         Al-Ettifaq        Al-Raed         1.0         1.0   \n",
       "1      151696            Al-Hazm  Al Wehda Club         0.0         0.0   \n",
       "2      151697               Ohod       Al-Nassr         1.0         2.0   \n",
       "3      151698    Al-Qadisiyah FC       Al-Fateh         0.0         0.0   \n",
       "4      151699  Al-Hilal Saudi FC       Al-Fayha         1.0         0.0   \n",
       "\n",
       "                                    venue                    referee  \\\n",
       "0         Prince Mohamed Bin Fahd Stadium                        NaN   \n",
       "1                 King Abdul Aziz Stadium                        NaN   \n",
       "2  Prince Mohammed bin Abdul Aziz Stadium                        NaN   \n",
       "3          Prince Saud bin Jalawi Stadium  Mark Clattenburg, England   \n",
       "4                       King Fahd Stadium                        NaN   \n",
       "\n",
       "                        date     season     home_coach     away_coach  \\\n",
       "0  2018-08-30T18:40:00+03:00  2018/2019       L. Ramos        B. Hasi   \n",
       "1  2018-08-30T19:05:00+03:00  2018/2019      D. Isăilă  Fábio Carille   \n",
       "2  2018-08-30T19:15:00+03:00  2018/2019        F. Arce     D. Carreño   \n",
       "3  2018-08-31T18:40:00+03:00  2018/2019  A. Stanojević    F. Al Jabal   \n",
       "4  2018-08-31T18:55:00+03:00  2018/2019    Jorge Jesus      G. Costas   \n",
       "\n",
       "  home_formation away_formation  \\\n",
       "0        4-2-3-1        4-2-3-1   \n",
       "1        4-2-3-1          4-4-2   \n",
       "2        4-2-3-1        4-2-3-1   \n",
       "3          4-4-2        4-2-3-1   \n",
       "4        4-1-4-1          4-3-3   \n",
       "\n",
       "                                        home_players  \\\n",
       "0  [(\"R. M'Bolhi\", 'G'), ('R. Arias', 'D'), ('Hus...   \n",
       "1  [('M. Asselah', None), ('Alemão', None), ('Kha...   \n",
       "2  [('Z. Laaroubi', 'G'), ('Hussein Abdul Ghani',...   \n",
       "3  [('J. Duncan', 'G'), ('Adnan Falatah', None), ...   \n",
       "4  [('Ali Al Habsi', 'G'), ('Botía', 'D'), ('Yasi...   \n",
       "\n",
       "                                        away_players  round          status  \\\n",
       "0  [('A. Doukha', 'G'), ('H. Belkaroui', 'D'), ('...      1  Match Finished   \n",
       "1  [('Mohamed Awad', None), ('Osama Hawsawi', Non...      1  Match Finished   \n",
       "2  [('B. Jones', 'G'), ('Bruno Uvini', 'D'), ('Om...      1  Match Finished   \n",
       "3  [('M. Koval', 'G'), ('M. Aguirregaray', 'D'), ...      1  Match Finished   \n",
       "4  [('C. Bonilla', 'G'), ('Naldo', 'M'), ('Gêgê',...      1  Match Finished   \n",
       "\n",
       "   H_avg_ratings  A_avg_ratings  \n",
       "0           7.00           6.98  \n",
       "1           6.97           6.77  \n",
       "2           6.64           6.83  \n",
       "3           6.96           7.01  \n",
       "4           7.07           6.55  "
      ]
     },
     "execution_count": 65,
     "metadata": {},
     "output_type": "execute_result"
    }
   ],
   "source": [
    "df.head()"
   ]
  },
  {
   "cell_type": "markdown",
   "metadata": {},
   "source": [
    "let's first isolate a portion of the matches (test set) so that it doesn't affect our decision making in the exploration phase"
   ]
  },
  {
   "cell_type": "markdown",
   "metadata": {},
   "source": [
    "* I'll isolate 20% of the data.\n",
    "* and i'll isolate it so that we have 20% of each season in our test set\n",
    "* I'll not use indices i'll use fixture_ids\n"
   ]
  },
  {
   "cell_type": "code",
   "execution_count": 66,
   "metadata": {
    "scrolled": true
   },
   "outputs": [
    {
     "name": "stdout",
     "output_type": "stream",
     "text": [
      "(720, 19)\n",
      "(240, 19)\n",
      "(240, 19)\n",
      "(240, 19)\n"
     ]
    }
   ],
   "source": [
    "print(df.shape)\n",
    "print(season2018.shape)\n",
    "print(season2019.shape)\n",
    "print(season2020.shape)"
   ]
  },
  {
   "cell_type": "code",
   "execution_count": 86,
   "metadata": {},
   "outputs": [],
   "source": [
    "np.random.seed(42)\n",
    "season2018_test = np.random.permutation(season2018[\"fixture_id\"])[:48]\n",
    "season2019_test = np.random.permutation(season2019[\"fixture_id\"])[:48]\n",
    "season2020_test = np.random.permutation(season2020[\"fixture_id\"])[:48]\n",
    "test_fixtures = np.append(np.append(season2018_test, season2019_test), season2020_test)"
   ]
  },
  {
   "cell_type": "code",
   "execution_count": 41,
   "metadata": {},
   "outputs": [
    {
     "data": {
      "text/plain": [
       "144"
      ]
     },
     "execution_count": 41,
     "metadata": {},
     "output_type": "execute_result"
    }
   ],
   "source": [
    "len(test_fixtures)"
   ]
  },
  {
   "cell_type": "code",
   "execution_count": 87,
   "metadata": {},
   "outputs": [
    {
     "data": {
      "text/plain": [
       "array([151719, 151701, 151790, 151805, 151800, 151867, 151929, 151783,\n",
       "       151704, 151838])"
      ]
     },
     "execution_count": 87,
     "metadata": {},
     "output_type": "execute_result"
    }
   ],
   "source": [
    "test_fixtures[:10]"
   ]
  },
  {
   "cell_type": "code",
   "execution_count": 89,
   "metadata": {},
   "outputs": [],
   "source": [
    "test_set = df.loc[df[\"fixture_id\"].isin(test_fixtures)]"
   ]
  },
  {
   "cell_type": "code",
   "execution_count": 90,
   "metadata": {},
   "outputs": [
    {
     "data": {
      "text/plain": [
       "144"
      ]
     },
     "execution_count": 90,
     "metadata": {},
     "output_type": "execute_result"
    }
   ],
   "source": [
    "len(test_set)"
   ]
  },
  {
   "cell_type": "code",
   "execution_count": 91,
   "metadata": {},
   "outputs": [],
   "source": [
    "df = df.loc[~(df[\"fixture_id\"].isin(test_fixtures))]"
   ]
  },
  {
   "cell_type": "code",
   "execution_count": 92,
   "metadata": {},
   "outputs": [
    {
     "data": {
      "text/plain": [
       "576"
      ]
     },
     "execution_count": 92,
     "metadata": {},
     "output_type": "execute_result"
    }
   ],
   "source": [
    "len(df)"
   ]
  },
  {
   "cell_type": "markdown",
   "metadata": {},
   "source": [
    "# Initial data exploration"
   ]
  },
  {
   "cell_type": "markdown",
   "metadata": {},
   "source": [
    "finding tredns & insights, and identifying flaws."
   ]
  },
  {
   "cell_type": "code",
   "execution_count": 101,
   "metadata": {},
   "outputs": [
    {
     "data": {
      "text/html": [
       "<div>\n",
       "<style scoped>\n",
       "    .dataframe tbody tr th:only-of-type {\n",
       "        vertical-align: middle;\n",
       "    }\n",
       "\n",
       "    .dataframe tbody tr th {\n",
       "        vertical-align: top;\n",
       "    }\n",
       "\n",
       "    .dataframe thead th {\n",
       "        text-align: right;\n",
       "    }\n",
       "</style>\n",
       "<table border=\"1\" class=\"dataframe\">\n",
       "  <thead>\n",
       "    <tr style=\"text-align: right;\">\n",
       "      <th></th>\n",
       "      <th>fixture_id</th>\n",
       "      <th>home_team</th>\n",
       "      <th>away_team</th>\n",
       "      <th>home_goals</th>\n",
       "      <th>away_goals</th>\n",
       "      <th>venue</th>\n",
       "      <th>referee</th>\n",
       "      <th>date</th>\n",
       "      <th>season</th>\n",
       "      <th>home_coach</th>\n",
       "      <th>away_coach</th>\n",
       "      <th>home_formation</th>\n",
       "      <th>away_formation</th>\n",
       "      <th>home_players</th>\n",
       "      <th>away_players</th>\n",
       "      <th>round</th>\n",
       "      <th>status</th>\n",
       "      <th>H_avg_ratings</th>\n",
       "      <th>A_avg_ratings</th>\n",
       "    </tr>\n",
       "  </thead>\n",
       "  <tbody>\n",
       "    <tr>\n",
       "      <th>0</th>\n",
       "      <td>151695</td>\n",
       "      <td>Al-Ettifaq</td>\n",
       "      <td>Al-Raed</td>\n",
       "      <td>1.0</td>\n",
       "      <td>1.0</td>\n",
       "      <td>Prince Mohamed Bin Fahd Stadium</td>\n",
       "      <td>NaN</td>\n",
       "      <td>2018-08-30 18:40:00</td>\n",
       "      <td>2018/2019</td>\n",
       "      <td>L. Ramos</td>\n",
       "      <td>B. Hasi</td>\n",
       "      <td>4-2-3-1</td>\n",
       "      <td>4-2-3-1</td>\n",
       "      <td>[(\"R. M'Bolhi\", 'G'), ('R. Arias', 'D'), ('Hus...</td>\n",
       "      <td>[('A. Doukha', 'G'), ('H. Belkaroui', 'D'), ('...</td>\n",
       "      <td>1</td>\n",
       "      <td>Match Finished</td>\n",
       "      <td>7.00</td>\n",
       "      <td>6.98</td>\n",
       "    </tr>\n",
       "    <tr>\n",
       "      <th>1</th>\n",
       "      <td>151696</td>\n",
       "      <td>Al-Hazm</td>\n",
       "      <td>Al Wehda Club</td>\n",
       "      <td>0.0</td>\n",
       "      <td>0.0</td>\n",
       "      <td>King Abdul Aziz Stadium</td>\n",
       "      <td>NaN</td>\n",
       "      <td>2018-08-30 19:05:00</td>\n",
       "      <td>2018/2019</td>\n",
       "      <td>D. Isăilă</td>\n",
       "      <td>Fábio Carille</td>\n",
       "      <td>4-2-3-1</td>\n",
       "      <td>4-4-2</td>\n",
       "      <td>[('M. Asselah', None), ('Alemão', None), ('Kha...</td>\n",
       "      <td>[('Mohamed Awad', None), ('Osama Hawsawi', Non...</td>\n",
       "      <td>1</td>\n",
       "      <td>Match Finished</td>\n",
       "      <td>6.97</td>\n",
       "      <td>6.77</td>\n",
       "    </tr>\n",
       "    <tr>\n",
       "      <th>2</th>\n",
       "      <td>151697</td>\n",
       "      <td>Ohod</td>\n",
       "      <td>Al-Nassr</td>\n",
       "      <td>1.0</td>\n",
       "      <td>2.0</td>\n",
       "      <td>Prince Mohammed bin Abdul Aziz Stadium</td>\n",
       "      <td>NaN</td>\n",
       "      <td>2018-08-30 19:15:00</td>\n",
       "      <td>2018/2019</td>\n",
       "      <td>F. Arce</td>\n",
       "      <td>D. Carreño</td>\n",
       "      <td>4-2-3-1</td>\n",
       "      <td>4-2-3-1</td>\n",
       "      <td>[('Z. Laaroubi', 'G'), ('Hussein Abdul Ghani',...</td>\n",
       "      <td>[('B. Jones', 'G'), ('Bruno Uvini', 'D'), ('Om...</td>\n",
       "      <td>1</td>\n",
       "      <td>Match Finished</td>\n",
       "      <td>6.64</td>\n",
       "      <td>6.83</td>\n",
       "    </tr>\n",
       "    <tr>\n",
       "      <th>3</th>\n",
       "      <td>151698</td>\n",
       "      <td>Al-Qadisiyah FC</td>\n",
       "      <td>Al-Fateh</td>\n",
       "      <td>0.0</td>\n",
       "      <td>0.0</td>\n",
       "      <td>Prince Saud bin Jalawi Stadium</td>\n",
       "      <td>Mark Clattenburg, England</td>\n",
       "      <td>2018-08-31 18:40:00</td>\n",
       "      <td>2018/2019</td>\n",
       "      <td>A. Stanojević</td>\n",
       "      <td>F. Al Jabal</td>\n",
       "      <td>4-4-2</td>\n",
       "      <td>4-2-3-1</td>\n",
       "      <td>[('J. Duncan', 'G'), ('Adnan Falatah', None), ...</td>\n",
       "      <td>[('M. Koval', 'G'), ('M. Aguirregaray', 'D'), ...</td>\n",
       "      <td>1</td>\n",
       "      <td>Match Finished</td>\n",
       "      <td>6.96</td>\n",
       "      <td>7.01</td>\n",
       "    </tr>\n",
       "    <tr>\n",
       "      <th>4</th>\n",
       "      <td>151699</td>\n",
       "      <td>Al-Hilal Saudi FC</td>\n",
       "      <td>Al-Fayha</td>\n",
       "      <td>1.0</td>\n",
       "      <td>0.0</td>\n",
       "      <td>King Fahd Stadium</td>\n",
       "      <td>NaN</td>\n",
       "      <td>2018-08-31 18:55:00</td>\n",
       "      <td>2018/2019</td>\n",
       "      <td>Jorge Jesus</td>\n",
       "      <td>G. Costas</td>\n",
       "      <td>4-1-4-1</td>\n",
       "      <td>4-3-3</td>\n",
       "      <td>[('Ali Al Habsi', 'G'), ('Botía', 'D'), ('Yasi...</td>\n",
       "      <td>[('C. Bonilla', 'G'), ('Naldo', 'M'), ('Gêgê',...</td>\n",
       "      <td>1</td>\n",
       "      <td>Match Finished</td>\n",
       "      <td>7.07</td>\n",
       "      <td>6.55</td>\n",
       "    </tr>\n",
       "  </tbody>\n",
       "</table>\n",
       "</div>"
      ],
      "text/plain": [
       "   fixture_id          home_team      away_team  home_goals  away_goals  \\\n",
       "0      151695         Al-Ettifaq        Al-Raed         1.0         1.0   \n",
       "1      151696            Al-Hazm  Al Wehda Club         0.0         0.0   \n",
       "2      151697               Ohod       Al-Nassr         1.0         2.0   \n",
       "3      151698    Al-Qadisiyah FC       Al-Fateh         0.0         0.0   \n",
       "4      151699  Al-Hilal Saudi FC       Al-Fayha         1.0         0.0   \n",
       "\n",
       "                                    venue                    referee  \\\n",
       "0         Prince Mohamed Bin Fahd Stadium                        NaN   \n",
       "1                 King Abdul Aziz Stadium                        NaN   \n",
       "2  Prince Mohammed bin Abdul Aziz Stadium                        NaN   \n",
       "3          Prince Saud bin Jalawi Stadium  Mark Clattenburg, England   \n",
       "4                       King Fahd Stadium                        NaN   \n",
       "\n",
       "                  date     season     home_coach     away_coach  \\\n",
       "0  2018-08-30 18:40:00  2018/2019       L. Ramos        B. Hasi   \n",
       "1  2018-08-30 19:05:00  2018/2019      D. Isăilă  Fábio Carille   \n",
       "2  2018-08-30 19:15:00  2018/2019        F. Arce     D. Carreño   \n",
       "3  2018-08-31 18:40:00  2018/2019  A. Stanojević    F. Al Jabal   \n",
       "4  2018-08-31 18:55:00  2018/2019    Jorge Jesus      G. Costas   \n",
       "\n",
       "  home_formation away_formation  \\\n",
       "0        4-2-3-1        4-2-3-1   \n",
       "1        4-2-3-1          4-4-2   \n",
       "2        4-2-3-1        4-2-3-1   \n",
       "3          4-4-2        4-2-3-1   \n",
       "4        4-1-4-1          4-3-3   \n",
       "\n",
       "                                        home_players  \\\n",
       "0  [(\"R. M'Bolhi\", 'G'), ('R. Arias', 'D'), ('Hus...   \n",
       "1  [('M. Asselah', None), ('Alemão', None), ('Kha...   \n",
       "2  [('Z. Laaroubi', 'G'), ('Hussein Abdul Ghani',...   \n",
       "3  [('J. Duncan', 'G'), ('Adnan Falatah', None), ...   \n",
       "4  [('Ali Al Habsi', 'G'), ('Botía', 'D'), ('Yasi...   \n",
       "\n",
       "                                        away_players  round          status  \\\n",
       "0  [('A. Doukha', 'G'), ('H. Belkaroui', 'D'), ('...      1  Match Finished   \n",
       "1  [('Mohamed Awad', None), ('Osama Hawsawi', Non...      1  Match Finished   \n",
       "2  [('B. Jones', 'G'), ('Bruno Uvini', 'D'), ('Om...      1  Match Finished   \n",
       "3  [('M. Koval', 'G'), ('M. Aguirregaray', 'D'), ...      1  Match Finished   \n",
       "4  [('C. Bonilla', 'G'), ('Naldo', 'M'), ('Gêgê',...      1  Match Finished   \n",
       "\n",
       "   H_avg_ratings  A_avg_ratings  \n",
       "0           7.00           6.98  \n",
       "1           6.97           6.77  \n",
       "2           6.64           6.83  \n",
       "3           6.96           7.01  \n",
       "4           7.07           6.55  "
      ]
     },
     "execution_count": 101,
     "metadata": {},
     "output_type": "execute_result"
    }
   ],
   "source": [
    "df.head()"
   ]
  },
  {
   "cell_type": "code",
   "execution_count": 93,
   "metadata": {},
   "outputs": [
    {
     "data": {
      "text/plain": [
       "fixture_id         0\n",
       "home_team          0\n",
       "away_team          0\n",
       "home_goals        18\n",
       "away_goals        18\n",
       "venue              0\n",
       "referee           63\n",
       "date               0\n",
       "season             0\n",
       "home_coach        45\n",
       "away_coach        43\n",
       "home_formation    31\n",
       "away_formation    31\n",
       "home_players      18\n",
       "away_players      18\n",
       "round              0\n",
       "status             0\n",
       "H_avg_ratings     97\n",
       "A_avg_ratings     97\n",
       "dtype: int64"
      ]
     },
     "execution_count": 93,
     "metadata": {},
     "output_type": "execute_result"
    }
   ],
   "source": [
    "#Let's first do the most basic operations \n",
    "df.isnull().sum()"
   ]
  },
  {
   "cell_type": "markdown",
   "metadata": {},
   "source": [
    "since only 18 matches are 'Uncollected yet' let's subtract 18 from the results. Negative entries mean no missing data"
   ]
  },
  {
   "cell_type": "code",
   "execution_count": 94,
   "metadata": {},
   "outputs": [
    {
     "data": {
      "text/plain": [
       "fixture_id       -18\n",
       "home_team        -18\n",
       "away_team        -18\n",
       "home_goals         0\n",
       "away_goals         0\n",
       "venue            -18\n",
       "referee           45\n",
       "date             -18\n",
       "season           -18\n",
       "home_coach        27\n",
       "away_coach        25\n",
       "home_formation    13\n",
       "away_formation    13\n",
       "home_players       0\n",
       "away_players       0\n",
       "round            -18\n",
       "status           -18\n",
       "H_avg_ratings     79\n",
       "A_avg_ratings     79\n",
       "dtype: int64"
      ]
     },
     "execution_count": 94,
     "metadata": {},
     "output_type": "execute_result"
    }
   ],
   "source": [
    "df.isnull().sum() - 18"
   ]
  },
  {
   "cell_type": "markdown",
   "metadata": {},
   "source": [
    "* We have 45 missing referees, 52 coaches if you add home & away teams. 13 formations, 79 ratings (great portion of them is uncollected yet)"
   ]
  },
  {
   "cell_type": "code",
   "execution_count": 102,
   "metadata": {},
   "outputs": [
    {
     "name": "stdout",
     "output_type": "stream",
     "text": [
      "<class 'pandas.core.frame.DataFrame'>\n",
      "Int64Index: 576 entries, 0 to 719\n",
      "Data columns (total 19 columns):\n",
      " #   Column          Non-Null Count  Dtype  \n",
      "---  ------          --------------  -----  \n",
      " 0   fixture_id      576 non-null    int64  \n",
      " 1   home_team       576 non-null    object \n",
      " 2   away_team       576 non-null    object \n",
      " 3   home_goals      558 non-null    float64\n",
      " 4   away_goals      558 non-null    float64\n",
      " 5   venue           576 non-null    object \n",
      " 6   referee         513 non-null    object \n",
      " 7   date            576 non-null    object \n",
      " 8   season          576 non-null    object \n",
      " 9   home_coach      531 non-null    object \n",
      " 10  away_coach      533 non-null    object \n",
      " 11  home_formation  545 non-null    object \n",
      " 12  away_formation  545 non-null    object \n",
      " 13  home_players    558 non-null    object \n",
      " 14  away_players    558 non-null    object \n",
      " 15  round           576 non-null    int64  \n",
      " 16  status          576 non-null    object \n",
      " 17  H_avg_ratings   479 non-null    float64\n",
      " 18  A_avg_ratings   479 non-null    float64\n",
      "dtypes: float64(4), int64(2), object(13)\n",
      "memory usage: 90.0+ KB\n"
     ]
    }
   ],
   "source": [
    "df.info()"
   ]
  },
  {
   "cell_type": "markdown",
   "metadata": {},
   "source": [
    "* date column must be converted to datetime"
   ]
  },
  {
   "cell_type": "code",
   "execution_count": 97,
   "metadata": {},
   "outputs": [
    {
     "data": {
      "text/html": [
       "<div>\n",
       "<style scoped>\n",
       "    .dataframe tbody tr th:only-of-type {\n",
       "        vertical-align: middle;\n",
       "    }\n",
       "\n",
       "    .dataframe tbody tr th {\n",
       "        vertical-align: top;\n",
       "    }\n",
       "\n",
       "    .dataframe thead th {\n",
       "        text-align: right;\n",
       "    }\n",
       "</style>\n",
       "<table border=\"1\" class=\"dataframe\">\n",
       "  <thead>\n",
       "    <tr style=\"text-align: right;\">\n",
       "      <th></th>\n",
       "      <th>fixture_id</th>\n",
       "      <th>home_goals</th>\n",
       "      <th>away_goals</th>\n",
       "      <th>round</th>\n",
       "      <th>H_avg_ratings</th>\n",
       "      <th>A_avg_ratings</th>\n",
       "    </tr>\n",
       "  </thead>\n",
       "  <tbody>\n",
       "    <tr>\n",
       "      <th>count</th>\n",
       "      <td>576.000000</td>\n",
       "      <td>558.000000</td>\n",
       "      <td>558.000000</td>\n",
       "      <td>576.000000</td>\n",
       "      <td>479.000000</td>\n",
       "      <td>479.000000</td>\n",
       "    </tr>\n",
       "    <tr>\n",
       "      <th>mean</th>\n",
       "      <td>357680.144097</td>\n",
       "      <td>1.553763</td>\n",
       "      <td>1.370968</td>\n",
       "      <td>15.432292</td>\n",
       "      <td>6.865261</td>\n",
       "      <td>6.819833</td>\n",
       "    </tr>\n",
       "    <tr>\n",
       "      <th>std</th>\n",
       "      <td>211801.638593</td>\n",
       "      <td>1.256857</td>\n",
       "      <td>1.183527</td>\n",
       "      <td>8.671328</td>\n",
       "      <td>0.230950</td>\n",
       "      <td>0.234582</td>\n",
       "    </tr>\n",
       "    <tr>\n",
       "      <th>min</th>\n",
       "      <td>151695.000000</td>\n",
       "      <td>0.000000</td>\n",
       "      <td>0.000000</td>\n",
       "      <td>1.000000</td>\n",
       "      <td>6.100000</td>\n",
       "      <td>6.150000</td>\n",
       "    </tr>\n",
       "    <tr>\n",
       "      <th>25%</th>\n",
       "      <td>151874.750000</td>\n",
       "      <td>1.000000</td>\n",
       "      <td>1.000000</td>\n",
       "      <td>8.000000</td>\n",
       "      <td>6.720000</td>\n",
       "      <td>6.675000</td>\n",
       "    </tr>\n",
       "    <tr>\n",
       "      <th>50%</th>\n",
       "      <td>312858.500000</td>\n",
       "      <td>1.000000</td>\n",
       "      <td>1.000000</td>\n",
       "      <td>15.000000</td>\n",
       "      <td>6.870000</td>\n",
       "      <td>6.830000</td>\n",
       "    </tr>\n",
       "    <tr>\n",
       "      <th>75%</th>\n",
       "      <td>635921.250000</td>\n",
       "      <td>2.000000</td>\n",
       "      <td>2.000000</td>\n",
       "      <td>23.000000</td>\n",
       "      <td>7.020000</td>\n",
       "      <td>6.980000</td>\n",
       "    </tr>\n",
       "    <tr>\n",
       "      <th>max</th>\n",
       "      <td>657882.000000</td>\n",
       "      <td>7.000000</td>\n",
       "      <td>6.000000</td>\n",
       "      <td>30.000000</td>\n",
       "      <td>7.500000</td>\n",
       "      <td>7.570000</td>\n",
       "    </tr>\n",
       "  </tbody>\n",
       "</table>\n",
       "</div>"
      ],
      "text/plain": [
       "          fixture_id  home_goals  away_goals       round  H_avg_ratings  \\\n",
       "count     576.000000  558.000000  558.000000  576.000000     479.000000   \n",
       "mean   357680.144097    1.553763    1.370968   15.432292       6.865261   \n",
       "std    211801.638593    1.256857    1.183527    8.671328       0.230950   \n",
       "min    151695.000000    0.000000    0.000000    1.000000       6.100000   \n",
       "25%    151874.750000    1.000000    1.000000    8.000000       6.720000   \n",
       "50%    312858.500000    1.000000    1.000000   15.000000       6.870000   \n",
       "75%    635921.250000    2.000000    2.000000   23.000000       7.020000   \n",
       "max    657882.000000    7.000000    6.000000   30.000000       7.500000   \n",
       "\n",
       "       A_avg_ratings  \n",
       "count     479.000000  \n",
       "mean        6.819833  \n",
       "std         0.234582  \n",
       "min         6.150000  \n",
       "25%         6.675000  \n",
       "50%         6.830000  \n",
       "75%         6.980000  \n",
       "max         7.570000  "
      ]
     },
     "execution_count": 97,
     "metadata": {},
     "output_type": "execute_result"
    }
   ],
   "source": [
    "df.describe()"
   ]
  },
  {
   "cell_type": "markdown",
   "metadata": {},
   "source": [
    "we notice that the mean of the home team ratings is slightly greater than the away team which might mean that being home or not is a good predictor"
   ]
  },
  {
   "cell_type": "code",
   "execution_count": 100,
   "metadata": {},
   "outputs": [
    {
     "data": {
      "text/plain": [
       "0      2018-08-30 18:40:00\n",
       "1      2018-08-30 19:05:00\n",
       "2      2018-08-30 19:15:00\n",
       "3      2018-08-31 18:40:00\n",
       "4      2018-08-31 18:55:00\n",
       "              ...         \n",
       "714    2021-05-30 21:00:00\n",
       "715    2021-05-30 21:00:00\n",
       "716    2021-05-30 21:00:00\n",
       "718    2021-05-30 21:00:00\n",
       "719    2021-05-30 21:00:00\n",
       "Name: date, Length: 576, dtype: object"
      ]
     },
     "execution_count": 100,
     "metadata": {},
     "output_type": "execute_result"
    }
   ],
   "source": [
    "df.date"
   ]
  },
  {
   "cell_type": "code",
   "execution_count": null,
   "metadata": {},
   "outputs": [],
   "source": []
  },
  {
   "cell_type": "markdown",
   "metadata": {},
   "source": [
    "to possibly change the structure of the data run the following cells"
   ]
  },
  {
   "cell_type": "markdown",
   "metadata": {},
   "source": [
    "### Little discussion"
   ]
  },
  {
   "cell_type": "code",
   "execution_count": 110,
   "metadata": {},
   "outputs": [
    {
     "data": {
      "text/plain": [
       "Index(['fixture_id', 'home_team', 'away_team', 'home_goals', 'away_goals',\n",
       "       'venue', 'referee', 'date', 'season', 'home_coach', 'away_coach',\n",
       "       'home_formation', 'away_formation', 'home_players', 'away_players',\n",
       "       'round', 'status', 'H_avg_ratings', 'A_avg_ratings'],\n",
       "      dtype='object')"
      ]
     },
     "execution_count": 110,
     "metadata": {},
     "output_type": "execute_result"
    }
   ],
   "source": [
    "df.columns"
   ]
  },
  {
   "cell_type": "markdown",
   "metadata": {},
   "source": [
    "I am not sure if this is the optimal format for the data, I am worried that since entries are split between Home & Away, when we want to perform some eda or predict the outcome we would have 2 target variables to work against. \n",
    "Another thing is that the machine would probably consider being home or away as significantly different when it is not.\n",
    "Maybe we should change the format so that we have the following \n",
    "* [Team, Current points, IsHome, opponent, opponent current points, Vinue, coach, opponent coach, formation, opponnet formation, average ratings, opponent ratings, Date, Season, referee, Goals Scored]\n",
    "\n",
    "Now the target variable is goals scored.\n",
    "we can try to predict the final outcome of the match by running the model twice on both teams, then by comparing the goals we give the final result as Win, defeat, draw. "
   ]
  },
  {
   "cell_type": "markdown",
   "metadata": {},
   "source": [
    "# Data Cleaning "
   ]
  },
  {
   "cell_type": "markdown",
   "metadata": {},
   "source": [
    "* Fixing the date column"
   ]
  },
  {
   "cell_type": "code",
   "execution_count": 104,
   "metadata": {},
   "outputs": [
    {
     "data": {
      "text/plain": [
       "Timestamp('2018-08-30 18:40:00')"
      ]
     },
     "execution_count": 104,
     "metadata": {},
     "output_type": "execute_result"
    }
   ],
   "source": [
    "df.loc[0, \"date\"]"
   ]
  },
  {
   "cell_type": "code",
   "execution_count": 99,
   "metadata": {},
   "outputs": [
    {
     "name": "stderr",
     "output_type": "stream",
     "text": [
      "/Users/yazeed/anaconda3/lib/python3.7/site-packages/ipykernel_launcher.py:1: SettingWithCopyWarning: \n",
      "A value is trying to be set on a copy of a slice from a DataFrame.\n",
      "Try using .loc[row_indexer,col_indexer] = value instead\n",
      "\n",
      "See the caveats in the documentation: https://pandas.pydata.org/pandas-docs/stable/user_guide/indexing.html#returning-a-view-versus-a-copy\n",
      "  \"\"\"Entry point for launching an IPython kernel.\n"
     ]
    }
   ],
   "source": [
    "df[\"date\"] = [date[:-6].replace(\"T\", \" \") for date in df[\"date\"]]"
   ]
  },
  {
   "cell_type": "code",
   "execution_count": 103,
   "metadata": {
    "scrolled": true
   },
   "outputs": [
    {
     "name": "stderr",
     "output_type": "stream",
     "text": [
      "/Users/yazeed/anaconda3/lib/python3.7/site-packages/ipykernel_launcher.py:1: SettingWithCopyWarning: \n",
      "A value is trying to be set on a copy of a slice from a DataFrame.\n",
      "Try using .loc[row_indexer,col_indexer] = value instead\n",
      "\n",
      "See the caveats in the documentation: https://pandas.pydata.org/pandas-docs/stable/user_guide/indexing.html#returning-a-view-versus-a-copy\n",
      "  \"\"\"Entry point for launching an IPython kernel.\n"
     ]
    }
   ],
   "source": [
    "df[\"date\"] = pd.to_datetime(df[\"date\"], format=\"%Y-%m-%d %H:%M:%S\")\n"
   ]
  },
  {
   "cell_type": "markdown",
   "metadata": {},
   "source": [
    "* changing the strucutre of the data"
   ]
  },
  {
   "cell_type": "code",
   "execution_count": null,
   "metadata": {},
   "outputs": [],
   "source": [
    "# since every entry now is based on home I'll create a feature called IsHome and set it to 1\n",
    "\n",
    "df[\"IsHome\"] = 1"
   ]
  },
  {
   "cell_type": "code",
   "execution_count": null,
   "metadata": {},
   "outputs": [],
   "source": [
    "len([x for x in range(0, len(df)*2, 2)])"
   ]
  },
  {
   "cell_type": "code",
   "execution_count": null,
   "metadata": {},
   "outputs": [],
   "source": [
    "len(df)"
   ]
  },
  {
   "cell_type": "code",
   "execution_count": null,
   "metadata": {},
   "outputs": [],
   "source": [
    "df.index = [x for x in range(0, len(df) * 2, 2)]"
   ]
  },
  {
   "cell_type": "code",
   "execution_count": null,
   "metadata": {},
   "outputs": [],
   "source": [
    "df.columns"
   ]
  },
  {
   "cell_type": "markdown",
   "metadata": {},
   "source": [
    "I'll change the order of the columns so that it is close to the desired format"
   ]
  },
  {
   "cell_type": "code",
   "execution_count": null,
   "metadata": {},
   "outputs": [],
   "source": [
    "df = df[[\"home\", \"home_format\", \"IsHome\", \"away\", \"away_format\", \"players\",\"referee\", \"season\", \"home_goals\", \"away_goals\"]]"
   ]
  },
  {
   "cell_type": "code",
   "execution_count": null,
   "metadata": {},
   "outputs": [],
   "source": [
    "for i in [x for x in range(1, len(df) * 2 + 1, 2)]:\n",
    "    old_entry = df.loc[i-1]\n",
    "    df.loc[i] = [old_entry.away, old_entry.away_format, 0, old_entry.home, old_entry.home_format, old_entry.players, old_entry.referee, old_entry.season, old_entry.away_goals, np.nan]\n",
    "    "
   ]
  },
  {
   "cell_type": "code",
   "execution_count": null,
   "metadata": {},
   "outputs": [],
   "source": [
    "df.sort_index(inplace=True)"
   ]
  },
  {
   "cell_type": "code",
   "execution_count": null,
   "metadata": {},
   "outputs": [],
   "source": [
    "# Now we will change the columns so that it aligns with our format\n",
    "\n",
    "df.drop(\"away_goals\", inplace=True, axis=1)\n",
    "\n",
    "df.columns = [\"Team1\", \"format\", \"IsHome\", \"Opponent\", \"Opponent_format\", \"Players\", \"Referee\", \"Season\", \"GoalsScored\"]"
   ]
  },
  {
   "cell_type": "code",
   "execution_count": null,
   "metadata": {},
   "outputs": [],
   "source": [
    "df.GoalsScored = df.GoalsScored.astype(\"int64\")"
   ]
  },
  {
   "cell_type": "markdown",
   "metadata": {},
   "source": [
    "# Feature Engineering"
   ]
  },
  {
   "cell_type": "code",
   "execution_count": null,
   "metadata": {},
   "outputs": [],
   "source": [
    "df[\"pts\"] = 0\n",
    "df[\"opponent_pts\"] = 0\n",
    "df[\"result\"] = 0"
   ]
  },
  {
   "cell_type": "code",
   "execution_count": 105,
   "metadata": {},
   "outputs": [],
   "source": [
    "#Adding the current points feature\n",
    "\n",
    "for season in [\"2018/2019\", \"2019/2020\", \"2020/2021\"]:\n",
    "    \n",
    "    season_df = df.loc[(df[\"Season\"] == season )]\n",
    "\n",
    "    points = {}\n",
    "\n",
    "    for team in season_df.home_team.unique():\n",
    "    points[team] = 0\n",
    "    \n",
    "    \n",
    "    for i in season_df.index:\n",
    "        if i % 2 == 0 :\n",
    "            Team1 = season_df.loc[i, \"Team1\"]\n",
    "            Team2 = season_df.loc[i, \"Opponent\"]\n",
    "\n",
    "\n",
    "            season_df.loc[i,\"pts\"] = points[Team1]\n",
    "            season_df.loc[i, \"opponent_pts\"] = points[Team1]\n",
    "\n",
    "            season_df.loc[i+1,\"pts\"] = points[Team2]\n",
    "            season_df.loc[i+1, \"opponent_pts\"] = points[Team1]\n",
    "\n",
    "\n",
    "            if season_df.loc[i, \"GoalsScored\"] > season_df.loc[i+1, \"GoalsScored\"]:\n",
    "                points[Team1] += 3\n",
    "                season_df.loc[i, \"result\"] = \"Win\"\n",
    "                season_df.loc[i+1, \"result\"] = \"Defeat\"\n",
    "            \n",
    "            elif season_df.loc[i, \"GoalsScored\"] == season_df.loc[i+1, \"GoalsScored\"]:\n",
    "                points[Team1] += 1\n",
    "                points[Team2] += 1\n",
    "                season_df.loc[i, \"result\"] = \"Draw\"\n",
    "                season_df.loc[i+1, \"result\"] = \"Draw\"\n",
    "\n",
    "            else:\n",
    "                points[Team2] += 3\n",
    "                season_df.loc[i, \"result\"] = \"Defeat\"\n",
    "                season_df.loc[i+1, \"result\"] = \"Win\"\n",
    "\n",
    "        df.loc[df[\"Season\"] == season] = season_df\n",
    "\n",
    "\n"
   ]
  },
  {
   "cell_type": "code",
   "execution_count": 106,
   "metadata": {},
   "outputs": [],
   "source": [
    "# Adding the final state feature"
   ]
  },
  {
   "cell_type": "code",
   "execution_count": 107,
   "metadata": {},
   "outputs": [],
   "source": [
    "# Adding the last game performance"
   ]
  },
  {
   "cell_type": "code",
   "execution_count": 108,
   "metadata": {},
   "outputs": [],
   "source": [
    "# Adding the last game agains the other team performance"
   ]
  },
  {
   "cell_type": "code",
   "execution_count": null,
   "metadata": {},
   "outputs": [],
   "source": []
  }
 ],
 "metadata": {
  "kernelspec": {
   "display_name": "Python 3",
   "language": "python",
   "name": "python3"
  },
  "language_info": {
   "codemirror_mode": {
    "name": "ipython",
    "version": 3
   },
   "file_extension": ".py",
   "mimetype": "text/x-python",
   "name": "python",
   "nbconvert_exporter": "python",
   "pygments_lexer": "ipython3",
   "version": "3.7.6"
  }
 },
 "nbformat": 4,
 "nbformat_minor": 4
}
