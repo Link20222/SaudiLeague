{
 "cells": [
  {
   "cell_type": "markdown",
   "metadata": {},
   "source": [
    "### Defining the purpose\n"
   ]
  },
  {
   "cell_type": "markdown",
   "metadata": {},
   "source": [
    "\n",
    "The goal of the project is to build a machine learning model that can predict the outcome of the remaining matches of 2019/2020 season, and the next season.\n",
    "Why?\n",
    "This is my first unguided project and the goal of the project was the topic of a previous saudi hacathon, so I want to compare my results as a beginer in this field to the top10 teams of the hacathon."
   ]
  },
  {
   "cell_type": "markdown",
   "metadata": {},
   "source": [
    "### What data do I need?"
   ]
  },
  {
   "cell_type": "markdown",
   "metadata": {},
   "source": [
    "Must Get:\n",
    "\n",
    "1. home team name\n",
    "2. home team players\n",
    "4. home team coach\n",
    "5. home team gaols scorred\n",
    "6. home team coach name\n",
    "7. away team name\n",
    "8. away team scorer participation\n",
    "9. away team goal keeper participation\n",
    "10. away team coach\n",
    "11. away team gaols scorred\n",
    "12. away team coach name\n",
    "13. referee\n",
    "14. date\n",
    "15. season\n",
    "16. round\n",
    "\n",
    "Would be nice to get:\n",
    "1. player performance rating\n",
    "2. game stats\n",
    "\n"
   ]
  },
  {
   "cell_type": "markdown",
   "metadata": {},
   "source": [
    "### Where can I get the data?\n"
   ]
  },
  {
   "cell_type": "markdown",
   "metadata": {},
   "source": [
    "\n",
    "Well, since there is no public dataset available for the saudi league i'll have to contact people to get it. to decide  who to contact, we must answer the folloing questions.\n",
    "\n",
    "1. What are the best football stats websites?\n",
    "2. Is it legal to webscrape these websites?\n",
    "3. Is there an api for foorball data?\n",
    "4. What apis are out there? and how much do they cost?\n",
    "5. Is it easy to request data from these apis?"
   ]
  },
  {
   "cell_type": "markdown",
   "metadata": {},
   "source": [
    "After doing some reasearch I think the most insightful websites are:\n",
    "1. International\n",
    "    * soccerstats.com\n",
    "    * flashscore.com\n",
    "2. Local\n",
    "    * spl.com.sa\n",
    "    * dwariplus.com\n",
    "    * kooora.com\n",
    "    * SaudiLeague.com\n",
    "    * SlStats.com\n",
    "    * Jdwel.com\n"
   ]
  },
  {
   "cell_type": "markdown",
   "metadata": {},
   "source": [
    "After checking the websites and reading the terms of services I found that.\n",
    "1. Soccer stats doesn't allow systamtic data collection.\n",
    "2. flashscore doesn't allow any kind of data collection without prior consent.\n",
    "3. SaudiLeague.com didn't mention anything about data collection, but it is not as good as other websites\n",
    "4. spl.com.sa also didn't mention anything\n",
    "5. kooora.com strictly disapprovbe any kind of data collection\n",
    "6. DawriPlus didn't specificly mention statistics, but they genrally don't allow any kind of data collection of their content.\n",
    "7. SlStas was colsed but stills offers data for those interested via emaiol.\n",
    "8. Jdwel didn't mention anything about collecting data.\n"
   ]
  },
  {
   "cell_type": "markdown",
   "metadata": {},
   "source": [
    "I contacted flashscore, SlStats, Kooora, spl.com.sa, and Jdwel to get access to the data.\n"
   ]
  },
  {
   "cell_type": "markdown",
   "metadata": {},
   "source": [
    "I got an email from Jdwel with the data but it only has 6 features. and it is porrly written.\n"
   ]
  },
  {
   "cell_type": "markdown",
   "metadata": {},
   "source": [
    "After looking up different APIs I found that many people suggest football-api, And it has a free plan that is limited to 100 requests per day."
   ]
  },
  {
   "cell_type": "markdown",
   "metadata": {},
   "source": [
    "### conclusion: "
   ]
  },
  {
   "cell_type": "markdown",
   "metadata": {},
   "source": [
    "I will initially go with football-api."
   ]
  },
  {
   "cell_type": "markdown",
   "metadata": {},
   "source": [
    "### Analytical Aproach"
   ]
  },
  {
   "cell_type": "markdown",
   "metadata": {},
   "source": [
    "For this problem we could use a classification model If we just want to predict the final outcome of a match as (win, draw, defeat), but we want to predict the score of each team, this means that we need a regression model to predict how many goals will each team score.\n",
    "\n",
    "The exact algorithm is yet to be choosen, We will you try different algorithms, we will also try applying deep learning on our data using tensorflow"
   ]
  },
  {
   "cell_type": "code",
   "execution_count": null,
   "metadata": {},
   "outputs": [],
   "source": []
  }
 ],
 "metadata": {
  "kernelspec": {
   "display_name": "Python 3",
   "language": "python",
   "name": "python3"
  },
  "language_info": {
   "codemirror_mode": {
    "name": "ipython",
    "version": 3
   },
   "file_extension": ".py",
   "mimetype": "text/x-python",
   "name": "python",
   "nbconvert_exporter": "python",
   "pygments_lexer": "ipython3",
   "version": "3.7.6"
  }
 },
 "nbformat": 4,
 "nbformat_minor": 4
}
