{
 "cells": [
  {
   "cell_type": "code",
   "execution_count": 1,
   "metadata": {},
   "outputs": [],
   "source": [
    "import pandas as pd\n",
    "import numpy as np\n",
    "import torch"
   ]
  },
  {
   "cell_type": "code",
   "execution_count": 3,
   "metadata": {},
   "outputs": [],
   "source": [
    "season2018 = pd.read_csv(\"Season2018.csv\")\n",
    "season2019 = pd.read_csv(\"Season2019.csv\")\n",
    "season2020 = pd.read_csv(\"Season2020.csv\")"
   ]
  },
  {
   "cell_type": "code",
   "execution_count": 4,
   "metadata": {},
   "outputs": [],
   "source": [
    "np.random.seed(42)\n",
    "season2018_test = np.random.permutation(season2018[\"fixture_id\"])[:48]\n",
    "season2019_test = np.random.permutation(season2019[\"fixture_id\"])[:48]\n",
    "season2020_test = np.random.permutation(season2020[\"fixture_id\"])[:48]"
   ]
  },
  {
   "cell_type": "code",
   "execution_count": 5,
   "metadata": {},
   "outputs": [],
   "source": [
    "test_fixtures = np.append(np.append(season2018_test, season2019_test), season2020_test)"
   ]
  },
  {
   "cell_type": "code",
   "execution_count": 6,
   "metadata": {},
   "outputs": [],
   "source": [
    "df = pd.read_csv(\"SaudiLeague.csv\")"
   ]
  },
  {
   "cell_type": "code",
   "execution_count": 7,
   "metadata": {
    "scrolled": true
   },
   "outputs": [
    {
     "data": {
      "text/html": [
       "<div>\n",
       "<style scoped>\n",
       "    .dataframe tbody tr th:only-of-type {\n",
       "        vertical-align: middle;\n",
       "    }\n",
       "\n",
       "    .dataframe tbody tr th {\n",
       "        vertical-align: top;\n",
       "    }\n",
       "\n",
       "    .dataframe thead th {\n",
       "        text-align: right;\n",
       "    }\n",
       "</style>\n",
       "<table border=\"1\" class=\"dataframe\">\n",
       "  <thead>\n",
       "    <tr style=\"text-align: right;\">\n",
       "      <th></th>\n",
       "      <th>fixture_id</th>\n",
       "      <th>team</th>\n",
       "      <th>formation</th>\n",
       "      <th>coach</th>\n",
       "      <th>players</th>\n",
       "      <th>isHome</th>\n",
       "      <th>rating</th>\n",
       "      <th>opponent</th>\n",
       "      <th>opponent_formation</th>\n",
       "      <th>opponent_coach</th>\n",
       "      <th>...</th>\n",
       "      <th>pts</th>\n",
       "      <th>opponent_pts</th>\n",
       "      <th>result</th>\n",
       "      <th>last_performance</th>\n",
       "      <th>opponent_last_performance</th>\n",
       "      <th>last_against_performance</th>\n",
       "      <th>opponent_last_against_performance</th>\n",
       "      <th>pts_difference</th>\n",
       "      <th>pts_after</th>\n",
       "      <th>opponent_pts_after</th>\n",
       "    </tr>\n",
       "  </thead>\n",
       "  <tbody>\n",
       "    <tr>\n",
       "      <th>0</th>\n",
       "      <td>151695</td>\n",
       "      <td>Al-Ettifaq</td>\n",
       "      <td>4-2-3-1</td>\n",
       "      <td>L. Ramos</td>\n",
       "      <td>[(\"R. M'Bolhi\", 'G'), ('R. Arias', 'D'), ('Hus...</td>\n",
       "      <td>1</td>\n",
       "      <td>7.00</td>\n",
       "      <td>Al-Raed</td>\n",
       "      <td>4-2-3-1</td>\n",
       "      <td>B. Hasi</td>\n",
       "      <td>...</td>\n",
       "      <td>0</td>\n",
       "      <td>0</td>\n",
       "      <td>Draw</td>\n",
       "      <td>6.74</td>\n",
       "      <td>6.81</td>\n",
       "      <td>6.90</td>\n",
       "      <td>6.72</td>\n",
       "      <td>0</td>\n",
       "      <td>1</td>\n",
       "      <td>1</td>\n",
       "    </tr>\n",
       "    <tr>\n",
       "      <th>1</th>\n",
       "      <td>151695</td>\n",
       "      <td>Al-Raed</td>\n",
       "      <td>4-2-3-1</td>\n",
       "      <td>B. Hasi</td>\n",
       "      <td>[('A. Doukha', 'G'), ('H. Belkaroui', 'D'), ('...</td>\n",
       "      <td>0</td>\n",
       "      <td>6.98</td>\n",
       "      <td>Al-Ettifaq</td>\n",
       "      <td>4-2-3-1</td>\n",
       "      <td>L. Ramos</td>\n",
       "      <td>...</td>\n",
       "      <td>0</td>\n",
       "      <td>0</td>\n",
       "      <td>Draw</td>\n",
       "      <td>6.81</td>\n",
       "      <td>6.74</td>\n",
       "      <td>6.72</td>\n",
       "      <td>6.90</td>\n",
       "      <td>0</td>\n",
       "      <td>1</td>\n",
       "      <td>1</td>\n",
       "    </tr>\n",
       "    <tr>\n",
       "      <th>2</th>\n",
       "      <td>151696</td>\n",
       "      <td>Al-Hazm</td>\n",
       "      <td>4-2-3-1</td>\n",
       "      <td>D. Isăilă</td>\n",
       "      <td>[('M. Asselah', None), ('Alemão', None), ('Kha...</td>\n",
       "      <td>1</td>\n",
       "      <td>6.97</td>\n",
       "      <td>Al Wehda Club</td>\n",
       "      <td>4-4-2</td>\n",
       "      <td>Fábio Carille</td>\n",
       "      <td>...</td>\n",
       "      <td>0</td>\n",
       "      <td>0</td>\n",
       "      <td>Draw</td>\n",
       "      <td>6.82</td>\n",
       "      <td>6.86</td>\n",
       "      <td>6.81</td>\n",
       "      <td>7.02</td>\n",
       "      <td>0</td>\n",
       "      <td>1</td>\n",
       "      <td>1</td>\n",
       "    </tr>\n",
       "    <tr>\n",
       "      <th>3</th>\n",
       "      <td>151696</td>\n",
       "      <td>Al Wehda Club</td>\n",
       "      <td>4-4-2</td>\n",
       "      <td>Fábio Carille</td>\n",
       "      <td>[('Mohamed Awad', None), ('Osama Hawsawi', Non...</td>\n",
       "      <td>0</td>\n",
       "      <td>6.77</td>\n",
       "      <td>Al-Hazm</td>\n",
       "      <td>4-2-3-1</td>\n",
       "      <td>D. Isăilă</td>\n",
       "      <td>...</td>\n",
       "      <td>0</td>\n",
       "      <td>0</td>\n",
       "      <td>Draw</td>\n",
       "      <td>6.86</td>\n",
       "      <td>6.82</td>\n",
       "      <td>7.02</td>\n",
       "      <td>6.81</td>\n",
       "      <td>0</td>\n",
       "      <td>1</td>\n",
       "      <td>1</td>\n",
       "    </tr>\n",
       "    <tr>\n",
       "      <th>4</th>\n",
       "      <td>151697</td>\n",
       "      <td>Ohod</td>\n",
       "      <td>4-2-3-1</td>\n",
       "      <td>F. Arce</td>\n",
       "      <td>[('Z. Laaroubi', 'G'), ('Hussein Abdul Ghani',...</td>\n",
       "      <td>1</td>\n",
       "      <td>6.64</td>\n",
       "      <td>Al-Nassr</td>\n",
       "      <td>4-2-3-1</td>\n",
       "      <td>D. Carreño</td>\n",
       "      <td>...</td>\n",
       "      <td>0</td>\n",
       "      <td>0</td>\n",
       "      <td>Defeat</td>\n",
       "      <td>6.72</td>\n",
       "      <td>7.01</td>\n",
       "      <td>6.52</td>\n",
       "      <td>7.07</td>\n",
       "      <td>0</td>\n",
       "      <td>0</td>\n",
       "      <td>3</td>\n",
       "    </tr>\n",
       "  </tbody>\n",
       "</table>\n",
       "<p>5 rows × 29 columns</p>\n",
       "</div>"
      ],
      "text/plain": [
       "   fixture_id           team formation          coach  \\\n",
       "0      151695     Al-Ettifaq   4-2-3-1       L. Ramos   \n",
       "1      151695        Al-Raed   4-2-3-1        B. Hasi   \n",
       "2      151696        Al-Hazm   4-2-3-1      D. Isăilă   \n",
       "3      151696  Al Wehda Club     4-4-2  Fábio Carille   \n",
       "4      151697           Ohod   4-2-3-1        F. Arce   \n",
       "\n",
       "                                             players  isHome  rating  \\\n",
       "0  [(\"R. M'Bolhi\", 'G'), ('R. Arias', 'D'), ('Hus...       1    7.00   \n",
       "1  [('A. Doukha', 'G'), ('H. Belkaroui', 'D'), ('...       0    6.98   \n",
       "2  [('M. Asselah', None), ('Alemão', None), ('Kha...       1    6.97   \n",
       "3  [('Mohamed Awad', None), ('Osama Hawsawi', Non...       0    6.77   \n",
       "4  [('Z. Laaroubi', 'G'), ('Hussein Abdul Ghani',...       1    6.64   \n",
       "\n",
       "        opponent opponent_formation opponent_coach  ... pts  opponent_pts  \\\n",
       "0        Al-Raed            4-2-3-1        B. Hasi  ...   0             0   \n",
       "1     Al-Ettifaq            4-2-3-1       L. Ramos  ...   0             0   \n",
       "2  Al Wehda Club              4-4-2  Fábio Carille  ...   0             0   \n",
       "3        Al-Hazm            4-2-3-1      D. Isăilă  ...   0             0   \n",
       "4       Al-Nassr            4-2-3-1     D. Carreño  ...   0             0   \n",
       "\n",
       "   result last_performance opponent_last_performance last_against_performance  \\\n",
       "0    Draw             6.74                      6.81                     6.90   \n",
       "1    Draw             6.81                      6.74                     6.72   \n",
       "2    Draw             6.82                      6.86                     6.81   \n",
       "3    Draw             6.86                      6.82                     7.02   \n",
       "4  Defeat             6.72                      7.01                     6.52   \n",
       "\n",
       "   opponent_last_against_performance  pts_difference  pts_after  \\\n",
       "0                               6.72               0          1   \n",
       "1                               6.90               0          1   \n",
       "2                               7.02               0          1   \n",
       "3                               6.81               0          1   \n",
       "4                               7.07               0          0   \n",
       "\n",
       "   opponent_pts_after  \n",
       "0                   1  \n",
       "1                   1  \n",
       "2                   1  \n",
       "3                   1  \n",
       "4                   3  \n",
       "\n",
       "[5 rows x 29 columns]"
      ]
     },
     "execution_count": 7,
     "metadata": {},
     "output_type": "execute_result"
    }
   ],
   "source": [
    "df.head()"
   ]
  },
  {
   "cell_type": "code",
   "execution_count": 12,
   "metadata": {},
   "outputs": [
    {
     "data": {
      "text/plain": [
       "Index(['fixture_id', 'team', 'formation', 'coach', 'players', 'isHome',\n",
       "       'rating', 'opponent', 'opponent_formation', 'opponent_coach',\n",
       "       'opponent_players', 'opponent_rating', 'season', 'date', 'venue',\n",
       "       'status', 'round', 'team_goals', 'opponent_goals', 'pts',\n",
       "       'opponent_pts', 'result', 'last_performance',\n",
       "       'opponent_last_performance', 'last_against_performance',\n",
       "       'opponent_last_against_performance', 'pts_difference', 'pts_after',\n",
       "       'opponent_pts_after'],\n",
       "      dtype='object')"
      ]
     },
     "execution_count": 12,
     "metadata": {},
     "output_type": "execute_result"
    }
   ],
   "source": [
    "df.columns"
   ]
  },
  {
   "cell_type": "code",
   "execution_count": 13,
   "metadata": {},
   "outputs": [],
   "source": [
    "df.drop(columns=[\"date\", \"venue\", \"venue\"], inplace=True)"
   ]
  },
  {
   "cell_type": "code",
   "execution_count": 8,
   "metadata": {},
   "outputs": [],
   "source": [
    "train = df.loc[~df[\"fixture_id\"].isin(test_fixtures)]"
   ]
  },
  {
   "cell_type": "code",
   "execution_count": 9,
   "metadata": {},
   "outputs": [
    {
     "data": {
      "text/plain": [
       "(1152, 29)"
      ]
     },
     "execution_count": 9,
     "metadata": {},
     "output_type": "execute_result"
    }
   ],
   "source": [
    "train.shape"
   ]
  },
  {
   "cell_type": "code",
   "execution_count": 10,
   "metadata": {},
   "outputs": [],
   "source": [
    "test = df.loc[df[\"fixture_id\"].isin(test_fixtures)]"
   ]
  },
  {
   "cell_type": "code",
   "execution_count": 11,
   "metadata": {},
   "outputs": [
    {
     "data": {
      "text/plain": [
       "(288, 29)"
      ]
     },
     "execution_count": 11,
     "metadata": {},
     "output_type": "execute_result"
    }
   ],
   "source": [
    "test.shape"
   ]
  },
  {
   "cell_type": "code",
   "execution_count": null,
   "metadata": {},
   "outputs": [],
   "source": []
  }
 ],
 "metadata": {
  "kernelspec": {
   "display_name": "Python 3",
   "language": "python",
   "name": "python3"
  },
  "language_info": {
   "codemirror_mode": {
    "name": "ipython",
    "version": 3
   },
   "file_extension": ".py",
   "mimetype": "text/x-python",
   "name": "python",
   "nbconvert_exporter": "python",
   "pygments_lexer": "ipython3",
   "version": "3.8.10"
  }
 },
 "nbformat": 4,
 "nbformat_minor": 4
}
