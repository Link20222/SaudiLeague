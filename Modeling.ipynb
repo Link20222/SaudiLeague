{
 "cells": [
  {
   "cell_type": "code",
   "execution_count": 1,
   "metadata": {},
   "outputs": [],
   "source": [
    "import pandas as pd\n",
    "import numpy as np\n",
    "import torch\n",
    "import sklearn\n",
    "\n",
    "cuda_available = torch.cuda.is_available()"
   ]
  },
  {
   "cell_type": "code",
   "execution_count": 2,
   "metadata": {},
   "outputs": [],
   "source": [
    "season2018 = pd.read_csv(\"Season2018.csv\")\n",
    "season2019 = pd.read_csv(\"Season2019.csv\")\n",
    "season2020 = pd.read_csv(\"Season2020.csv\")"
   ]
  },
  {
   "cell_type": "code",
   "execution_count": 3,
   "metadata": {},
   "outputs": [],
   "source": [
    "np.random.seed(42)\n",
    "season2018_test = np.random.permutation(season2018[\"fixture_id\"])[:48]\n",
    "season2019_test = np.random.permutation(season2019[\"fixture_id\"])[:48]\n",
    "season2020_test = np.random.permutation(season2020[\"fixture_id\"])[:48]"
   ]
  },
  {
   "cell_type": "code",
   "execution_count": 4,
   "metadata": {},
   "outputs": [],
   "source": [
    "test_fixtures = np.append(np.append(season2018_test, season2019_test), season2020_test)"
   ]
  },
  {
   "cell_type": "code",
   "execution_count": 5,
   "metadata": {},
   "outputs": [],
   "source": [
    "df = pd.read_csv(\"SaudiLeague.csv\")"
   ]
  },
  {
   "cell_type": "code",
   "execution_count": 6,
   "metadata": {
    "scrolled": true
   },
   "outputs": [
    {
     "data": {
      "text/html": [
       "<div>\n",
       "<style scoped>\n",
       "    .dataframe tbody tr th:only-of-type {\n",
       "        vertical-align: middle;\n",
       "    }\n",
       "\n",
       "    .dataframe tbody tr th {\n",
       "        vertical-align: top;\n",
       "    }\n",
       "\n",
       "    .dataframe thead th {\n",
       "        text-align: right;\n",
       "    }\n",
       "</style>\n",
       "<table border=\"1\" class=\"dataframe\">\n",
       "  <thead>\n",
       "    <tr style=\"text-align: right;\">\n",
       "      <th></th>\n",
       "      <th>fixture_id</th>\n",
       "      <th>team</th>\n",
       "      <th>formation</th>\n",
       "      <th>coach</th>\n",
       "      <th>players</th>\n",
       "      <th>isHome</th>\n",
       "      <th>rating</th>\n",
       "      <th>opponent</th>\n",
       "      <th>opponent_formation</th>\n",
       "      <th>opponent_coach</th>\n",
       "      <th>...</th>\n",
       "      <th>opponent_last_against_performance</th>\n",
       "      <th>pts_difference</th>\n",
       "      <th>pts_after</th>\n",
       "      <th>opponent_pts_after</th>\n",
       "      <th>top_scorrer</th>\n",
       "      <th>main_gk</th>\n",
       "      <th>main_captain</th>\n",
       "      <th>opponent_top_scorrer</th>\n",
       "      <th>opponent_main_gk</th>\n",
       "      <th>opponent_main_captain</th>\n",
       "    </tr>\n",
       "  </thead>\n",
       "  <tbody>\n",
       "    <tr>\n",
       "      <th>0</th>\n",
       "      <td>151695</td>\n",
       "      <td>Al-Ettifaq</td>\n",
       "      <td>4-2-3-1</td>\n",
       "      <td>L. Ramos</td>\n",
       "      <td>R. M'Bolhi, 'R. Arias', 'Hussein Al Sayed', 'S...</td>\n",
       "      <td>1</td>\n",
       "      <td>7.00</td>\n",
       "      <td>Al-Raed</td>\n",
       "      <td>4-2-3-1</td>\n",
       "      <td>B. Hasi</td>\n",
       "      <td>...</td>\n",
       "      <td>6.72</td>\n",
       "      <td>0</td>\n",
       "      <td>1</td>\n",
       "      <td>1</td>\n",
       "      <td>1</td>\n",
       "      <td>1</td>\n",
       "      <td>0</td>\n",
       "      <td>1</td>\n",
       "      <td>0</td>\n",
       "      <td>0</td>\n",
       "    </tr>\n",
       "    <tr>\n",
       "      <th>1</th>\n",
       "      <td>151695</td>\n",
       "      <td>Al-Raed</td>\n",
       "      <td>4-2-3-1</td>\n",
       "      <td>B. Hasi</td>\n",
       "      <td>'A. Doukha', 'H. Belkaroui', 'Mohammed Al Amri...</td>\n",
       "      <td>0</td>\n",
       "      <td>6.98</td>\n",
       "      <td>Al-Ettifaq</td>\n",
       "      <td>4-2-3-1</td>\n",
       "      <td>L. Ramos</td>\n",
       "      <td>...</td>\n",
       "      <td>6.90</td>\n",
       "      <td>0</td>\n",
       "      <td>1</td>\n",
       "      <td>1</td>\n",
       "      <td>1</td>\n",
       "      <td>0</td>\n",
       "      <td>0</td>\n",
       "      <td>1</td>\n",
       "      <td>1</td>\n",
       "      <td>0</td>\n",
       "    </tr>\n",
       "    <tr>\n",
       "      <th>2</th>\n",
       "      <td>151696</td>\n",
       "      <td>Al-Hazm</td>\n",
       "      <td>4-2-3-1</td>\n",
       "      <td>D. Isăilă</td>\n",
       "      <td>'M. Asselah', 'Alemão', 'Khaled Al Barakah', '...</td>\n",
       "      <td>1</td>\n",
       "      <td>6.97</td>\n",
       "      <td>Al Wehda Club</td>\n",
       "      <td>4-4-2</td>\n",
       "      <td>Fábio Carille</td>\n",
       "      <td>...</td>\n",
       "      <td>7.02</td>\n",
       "      <td>0</td>\n",
       "      <td>1</td>\n",
       "      <td>1</td>\n",
       "      <td>0</td>\n",
       "      <td>0</td>\n",
       "      <td>0</td>\n",
       "      <td>1</td>\n",
       "      <td>0</td>\n",
       "      <td>0</td>\n",
       "    </tr>\n",
       "    <tr>\n",
       "      <th>3</th>\n",
       "      <td>151696</td>\n",
       "      <td>Al Wehda Club</td>\n",
       "      <td>4-4-2</td>\n",
       "      <td>Fábio Carille</td>\n",
       "      <td>'Mohamed Awad', 'Osama Hawsawi', 'Renato Chave...</td>\n",
       "      <td>0</td>\n",
       "      <td>6.77</td>\n",
       "      <td>Al-Hazm</td>\n",
       "      <td>4-2-3-1</td>\n",
       "      <td>D. Isăilă</td>\n",
       "      <td>...</td>\n",
       "      <td>6.81</td>\n",
       "      <td>0</td>\n",
       "      <td>1</td>\n",
       "      <td>1</td>\n",
       "      <td>1</td>\n",
       "      <td>0</td>\n",
       "      <td>0</td>\n",
       "      <td>0</td>\n",
       "      <td>0</td>\n",
       "      <td>0</td>\n",
       "    </tr>\n",
       "    <tr>\n",
       "      <th>4</th>\n",
       "      <td>151697</td>\n",
       "      <td>Ohod</td>\n",
       "      <td>4-2-3-1</td>\n",
       "      <td>F. Arce</td>\n",
       "      <td>'Z. Laaroubi', 'Hussein Abdul Ghani', 'Apodi',...</td>\n",
       "      <td>1</td>\n",
       "      <td>6.64</td>\n",
       "      <td>Al-Nassr</td>\n",
       "      <td>4-2-3-1</td>\n",
       "      <td>D. Carreño</td>\n",
       "      <td>...</td>\n",
       "      <td>7.07</td>\n",
       "      <td>0</td>\n",
       "      <td>0</td>\n",
       "      <td>3</td>\n",
       "      <td>1</td>\n",
       "      <td>0</td>\n",
       "      <td>0</td>\n",
       "      <td>0</td>\n",
       "      <td>0</td>\n",
       "      <td>0</td>\n",
       "    </tr>\n",
       "  </tbody>\n",
       "</table>\n",
       "<p>5 rows × 35 columns</p>\n",
       "</div>"
      ],
      "text/plain": [
       "   fixture_id           team formation          coach  \\\n",
       "0      151695     Al-Ettifaq   4-2-3-1       L. Ramos   \n",
       "1      151695        Al-Raed   4-2-3-1        B. Hasi   \n",
       "2      151696        Al-Hazm   4-2-3-1      D. Isăilă   \n",
       "3      151696  Al Wehda Club     4-4-2  Fábio Carille   \n",
       "4      151697           Ohod   4-2-3-1        F. Arce   \n",
       "\n",
       "                                             players  isHome  rating  \\\n",
       "0  R. M'Bolhi, 'R. Arias', 'Hussein Al Sayed', 'S...       1    7.00   \n",
       "1  'A. Doukha', 'H. Belkaroui', 'Mohammed Al Amri...       0    6.98   \n",
       "2  'M. Asselah', 'Alemão', 'Khaled Al Barakah', '...       1    6.97   \n",
       "3  'Mohamed Awad', 'Osama Hawsawi', 'Renato Chave...       0    6.77   \n",
       "4  'Z. Laaroubi', 'Hussein Abdul Ghani', 'Apodi',...       1    6.64   \n",
       "\n",
       "        opponent opponent_formation opponent_coach  ...  \\\n",
       "0        Al-Raed            4-2-3-1        B. Hasi  ...   \n",
       "1     Al-Ettifaq            4-2-3-1       L. Ramos  ...   \n",
       "2  Al Wehda Club              4-4-2  Fábio Carille  ...   \n",
       "3        Al-Hazm            4-2-3-1      D. Isăilă  ...   \n",
       "4       Al-Nassr            4-2-3-1     D. Carreño  ...   \n",
       "\n",
       "  opponent_last_against_performance  pts_difference pts_after  \\\n",
       "0                              6.72               0         1   \n",
       "1                              6.90               0         1   \n",
       "2                              7.02               0         1   \n",
       "3                              6.81               0         1   \n",
       "4                              7.07               0         0   \n",
       "\n",
       "  opponent_pts_after top_scorrer main_gk  main_captain  opponent_top_scorrer  \\\n",
       "0                  1           1       1             0                     1   \n",
       "1                  1           1       0             0                     1   \n",
       "2                  1           0       0             0                     1   \n",
       "3                  1           1       0             0                     0   \n",
       "4                  3           1       0             0                     0   \n",
       "\n",
       "   opponent_main_gk  opponent_main_captain  \n",
       "0                 0                      0  \n",
       "1                 1                      0  \n",
       "2                 0                      0  \n",
       "3                 0                      0  \n",
       "4                 0                      0  \n",
       "\n",
       "[5 rows x 35 columns]"
      ]
     },
     "execution_count": 6,
     "metadata": {},
     "output_type": "execute_result"
    }
   ],
   "source": [
    "df.head()"
   ]
  },
  {
   "cell_type": "code",
   "execution_count": 7,
   "metadata": {},
   "outputs": [
    {
     "data": {
      "text/plain": [
       "Index(['fixture_id', 'team', 'formation', 'coach', 'players', 'isHome',\n",
       "       'rating', 'opponent', 'opponent_formation', 'opponent_coach',\n",
       "       'opponent_players', 'opponent_rating', 'season', 'date', 'venue',\n",
       "       'status', 'round', 'team_goals', 'opponent_goals', 'pts',\n",
       "       'opponent_pts', 'result', 'last_performance',\n",
       "       'opponent_last_performance', 'last_against_performance',\n",
       "       'opponent_last_against_performance', 'pts_difference', 'pts_after',\n",
       "       'opponent_pts_after', 'top_scorrer', 'main_gk', 'main_captain',\n",
       "       'opponent_top_scorrer', 'opponent_main_gk', 'opponent_main_captain'],\n",
       "      dtype='object')"
      ]
     },
     "execution_count": 7,
     "metadata": {},
     "output_type": "execute_result"
    }
   ],
   "source": [
    "df.columns"
   ]
  },
  {
   "cell_type": "markdown",
   "metadata": {},
   "source": [
    "Let's perform all preprocessing steps then export the data into seperate CSVs"
   ]
  },
  {
   "cell_type": "markdown",
   "metadata": {},
   "source": [
    "* What actions do we want to make on the data before modeling?\n",
    "    1. Drop unnecessary columns \n",
    "    2. Scale numeric variables \n",
    "    3. Create dummy variables for categorical variables"
   ]
  },
  {
   "cell_type": "markdown",
   "metadata": {},
   "source": [
    "##### 1.  dropping columns (columns that are not significant or can not be collected before the match)"
   ]
  },
  {
   "cell_type": "code",
   "execution_count": 8,
   "metadata": {},
   "outputs": [
    {
     "data": {
      "text/plain": [
       "Index(['fixture_id', 'team', 'formation', 'coach', 'players', 'isHome',\n",
       "       'rating', 'opponent', 'opponent_formation', 'opponent_coach',\n",
       "       'opponent_players', 'opponent_rating', 'season', 'date', 'venue',\n",
       "       'status', 'round', 'team_goals', 'opponent_goals', 'pts',\n",
       "       'opponent_pts', 'result', 'last_performance',\n",
       "       'opponent_last_performance', 'last_against_performance',\n",
       "       'opponent_last_against_performance', 'pts_difference', 'pts_after',\n",
       "       'opponent_pts_after', 'top_scorrer', 'main_gk', 'main_captain',\n",
       "       'opponent_top_scorrer', 'opponent_main_gk', 'opponent_main_captain'],\n",
       "      dtype='object')"
      ]
     },
     "execution_count": 8,
     "metadata": {},
     "output_type": "execute_result"
    }
   ],
   "source": [
    "df.columns"
   ]
  },
  {
   "cell_type": "code",
   "execution_count": 9,
   "metadata": {},
   "outputs": [],
   "source": [
    "df.drop(columns=[\"players\", \"rating\", \"opponent_players\", \"opponent_rating\", \"date\", \"venue\",\n",
    "                'status', \"result\", \"pts_after\",\"opponent_pts_after\"], inplace=True)"
   ]
  },
  {
   "cell_type": "code",
   "execution_count": 10,
   "metadata": {},
   "outputs": [
    {
     "data": {
      "text/plain": [
       "Index(['fixture_id', 'team', 'formation', 'coach', 'isHome', 'opponent',\n",
       "       'opponent_formation', 'opponent_coach', 'season', 'round', 'team_goals',\n",
       "       'opponent_goals', 'pts', 'opponent_pts', 'last_performance',\n",
       "       'opponent_last_performance', 'last_against_performance',\n",
       "       'opponent_last_against_performance', 'pts_difference', 'top_scorrer',\n",
       "       'main_gk', 'main_captain', 'opponent_top_scorrer', 'opponent_main_gk',\n",
       "       'opponent_main_captain'],\n",
       "      dtype='object')"
      ]
     },
     "execution_count": 10,
     "metadata": {},
     "output_type": "execute_result"
    }
   ],
   "source": [
    "df.columns"
   ]
  },
  {
   "cell_type": "markdown",
   "metadata": {},
   "source": [
    "##### 2. Numeric variables scaling (based on metrics from the training data)"
   ]
  },
  {
   "cell_type": "code",
   "execution_count": 11,
   "metadata": {},
   "outputs": [],
   "source": [
    "from sklearn import preprocessing\n",
    "min_max_scaler = preprocessing.MinMaxScaler()"
   ]
  },
  {
   "cell_type": "markdown",
   "metadata": {},
   "source": [
    "#####  let's define the training data to use it for fitting the scaler "
   ]
  },
  {
   "cell_type": "code",
   "execution_count": 57,
   "metadata": {},
   "outputs": [],
   "source": [
    "train_data = df.loc[~df[\"fixture_id\"].isin(test_fixtures)]"
   ]
  },
  {
   "cell_type": "code",
   "execution_count": 58,
   "metadata": {},
   "outputs": [
    {
     "data": {
      "text/plain": [
       "(1152, 25)"
      ]
     },
     "execution_count": 58,
     "metadata": {},
     "output_type": "execute_result"
    }
   ],
   "source": [
    "train_data.shape"
   ]
  },
  {
   "cell_type": "code",
   "execution_count": 60,
   "metadata": {},
   "outputs": [
    {
     "name": "stderr",
     "output_type": "stream",
     "text": [
      "/Users/yazeed/anaconda3/lib/python3.7/site-packages/ipykernel_launcher.py:6: SettingWithCopyWarning: \n",
      "A value is trying to be set on a copy of a slice from a DataFrame.\n",
      "Try using .loc[row_indexer,col_indexer] = value instead\n",
      "\n",
      "See the caveats in the documentation: https://pandas.pydata.org/pandas-docs/stable/user_guide/indexing.html#returning-a-view-versus-a-copy\n",
      "  \n",
      "/Users/yazeed/anaconda3/lib/python3.7/site-packages/pandas/core/indexing.py:1738: SettingWithCopyWarning: \n",
      "A value is trying to be set on a copy of a slice from a DataFrame.\n",
      "Try using .loc[row_indexer,col_indexer] = value instead\n",
      "\n",
      "See the caveats in the documentation: https://pandas.pydata.org/pandas-docs/stable/user_guide/indexing.html#returning-a-view-versus-a-copy\n",
      "  self._setitem_single_column(loc, value[:, i].tolist(), pi)\n"
     ]
    }
   ],
   "source": [
    "train_data[[\"round\", \"pts\", \"opponent_pts\", \"last_performance\",\n",
    "            \"opponent_last_performance\",'last_against_performance', 'opponent_last_against_performance',\n",
    "            'pts_difference',]] = min_max_scaler.fit_transform(train_data[[\"round\", \"pts\", \"opponent_pts\",\n",
    "                                                      \"last_performance\",\"opponent_last_performance\",\n",
    "                                                      'last_against_performance', 'pts_difference',\n",
    "                                                      'opponent_last_against_performance']])"
   ]
  },
  {
   "cell_type": "code",
   "execution_count": 51,
   "metadata": {},
   "outputs": [
    {
     "data": {
      "text/html": [
       "<div>\n",
       "<style scoped>\n",
       "    .dataframe tbody tr th:only-of-type {\n",
       "        vertical-align: middle;\n",
       "    }\n",
       "\n",
       "    .dataframe tbody tr th {\n",
       "        vertical-align: top;\n",
       "    }\n",
       "\n",
       "    .dataframe thead th {\n",
       "        text-align: right;\n",
       "    }\n",
       "</style>\n",
       "<table border=\"1\" class=\"dataframe\">\n",
       "  <thead>\n",
       "    <tr style=\"text-align: right;\">\n",
       "      <th></th>\n",
       "      <th>fixture_id</th>\n",
       "      <th>team</th>\n",
       "      <th>formation</th>\n",
       "      <th>coach</th>\n",
       "      <th>isHome</th>\n",
       "      <th>opponent</th>\n",
       "      <th>opponent_formation</th>\n",
       "      <th>opponent_coach</th>\n",
       "      <th>season</th>\n",
       "      <th>round</th>\n",
       "      <th>...</th>\n",
       "      <th>opponent_last_performance</th>\n",
       "      <th>last_against_performance</th>\n",
       "      <th>opponent_last_against_performance</th>\n",
       "      <th>pts_difference</th>\n",
       "      <th>top_scorrer</th>\n",
       "      <th>main_gk</th>\n",
       "      <th>main_captain</th>\n",
       "      <th>opponent_top_scorrer</th>\n",
       "      <th>opponent_main_gk</th>\n",
       "      <th>opponent_main_captain</th>\n",
       "    </tr>\n",
       "  </thead>\n",
       "  <tbody>\n",
       "    <tr>\n",
       "      <th>0</th>\n",
       "      <td>151695</td>\n",
       "      <td>Al-Ettifaq</td>\n",
       "      <td>4-2-3-1</td>\n",
       "      <td>L. Ramos</td>\n",
       "      <td>1</td>\n",
       "      <td>Al-Raed</td>\n",
       "      <td>4-2-3-1</td>\n",
       "      <td>B. Hasi</td>\n",
       "      <td>2018/2019</td>\n",
       "      <td>0.0</td>\n",
       "      <td>...</td>\n",
       "      <td>0.558140</td>\n",
       "      <td>0.610465</td>\n",
       "      <td>0.5</td>\n",
       "      <td>0.505814</td>\n",
       "      <td>1</td>\n",
       "      <td>1</td>\n",
       "      <td>0</td>\n",
       "      <td>1</td>\n",
       "      <td>0</td>\n",
       "      <td>0</td>\n",
       "    </tr>\n",
       "    <tr>\n",
       "      <th>1</th>\n",
       "      <td>151695</td>\n",
       "      <td>Al-Raed</td>\n",
       "      <td>4-2-3-1</td>\n",
       "      <td>B. Hasi</td>\n",
       "      <td>0</td>\n",
       "      <td>Al-Ettifaq</td>\n",
       "      <td>4-2-3-1</td>\n",
       "      <td>L. Ramos</td>\n",
       "      <td>2018/2019</td>\n",
       "      <td>0.0</td>\n",
       "      <td>...</td>\n",
       "      <td>0.517442</td>\n",
       "      <td>0.505814</td>\n",
       "      <td>0.5</td>\n",
       "      <td>0.610465</td>\n",
       "      <td>1</td>\n",
       "      <td>0</td>\n",
       "      <td>0</td>\n",
       "      <td>1</td>\n",
       "      <td>1</td>\n",
       "      <td>0</td>\n",
       "    </tr>\n",
       "    <tr>\n",
       "      <th>2</th>\n",
       "      <td>151696</td>\n",
       "      <td>Al-Hazm</td>\n",
       "      <td>4-2-3-1</td>\n",
       "      <td>D. Isăilă</td>\n",
       "      <td>1</td>\n",
       "      <td>Al Wehda Club</td>\n",
       "      <td>4-4-2</td>\n",
       "      <td>Fábio Carille</td>\n",
       "      <td>2018/2019</td>\n",
       "      <td>0.0</td>\n",
       "      <td>...</td>\n",
       "      <td>0.587209</td>\n",
       "      <td>0.558140</td>\n",
       "      <td>0.5</td>\n",
       "      <td>0.680233</td>\n",
       "      <td>0</td>\n",
       "      <td>0</td>\n",
       "      <td>0</td>\n",
       "      <td>1</td>\n",
       "      <td>0</td>\n",
       "      <td>0</td>\n",
       "    </tr>\n",
       "    <tr>\n",
       "      <th>3</th>\n",
       "      <td>151696</td>\n",
       "      <td>Al Wehda Club</td>\n",
       "      <td>4-4-2</td>\n",
       "      <td>Fábio Carille</td>\n",
       "      <td>0</td>\n",
       "      <td>Al-Hazm</td>\n",
       "      <td>4-2-3-1</td>\n",
       "      <td>D. Isăilă</td>\n",
       "      <td>2018/2019</td>\n",
       "      <td>0.0</td>\n",
       "      <td>...</td>\n",
       "      <td>0.563953</td>\n",
       "      <td>0.680233</td>\n",
       "      <td>0.5</td>\n",
       "      <td>0.558140</td>\n",
       "      <td>1</td>\n",
       "      <td>0</td>\n",
       "      <td>0</td>\n",
       "      <td>0</td>\n",
       "      <td>0</td>\n",
       "      <td>0</td>\n",
       "    </tr>\n",
       "    <tr>\n",
       "      <th>4</th>\n",
       "      <td>151697</td>\n",
       "      <td>Ohod</td>\n",
       "      <td>4-2-3-1</td>\n",
       "      <td>F. Arce</td>\n",
       "      <td>1</td>\n",
       "      <td>Al-Nassr</td>\n",
       "      <td>4-2-3-1</td>\n",
       "      <td>D. Carreño</td>\n",
       "      <td>2018/2019</td>\n",
       "      <td>0.0</td>\n",
       "      <td>...</td>\n",
       "      <td>0.674419</td>\n",
       "      <td>0.389535</td>\n",
       "      <td>0.5</td>\n",
       "      <td>0.709302</td>\n",
       "      <td>1</td>\n",
       "      <td>0</td>\n",
       "      <td>0</td>\n",
       "      <td>0</td>\n",
       "      <td>0</td>\n",
       "      <td>0</td>\n",
       "    </tr>\n",
       "  </tbody>\n",
       "</table>\n",
       "<p>5 rows × 25 columns</p>\n",
       "</div>"
      ],
      "text/plain": [
       "   fixture_id           team formation          coach  isHome       opponent  \\\n",
       "0      151695     Al-Ettifaq   4-2-3-1       L. Ramos       1        Al-Raed   \n",
       "1      151695        Al-Raed   4-2-3-1        B. Hasi       0     Al-Ettifaq   \n",
       "2      151696        Al-Hazm   4-2-3-1      D. Isăilă       1  Al Wehda Club   \n",
       "3      151696  Al Wehda Club     4-4-2  Fábio Carille       0        Al-Hazm   \n",
       "4      151697           Ohod   4-2-3-1        F. Arce       1       Al-Nassr   \n",
       "\n",
       "  opponent_formation opponent_coach     season  round  ...  \\\n",
       "0            4-2-3-1        B. Hasi  2018/2019    0.0  ...   \n",
       "1            4-2-3-1       L. Ramos  2018/2019    0.0  ...   \n",
       "2              4-4-2  Fábio Carille  2018/2019    0.0  ...   \n",
       "3            4-2-3-1      D. Isăilă  2018/2019    0.0  ...   \n",
       "4            4-2-3-1     D. Carreño  2018/2019    0.0  ...   \n",
       "\n",
       "   opponent_last_performance  last_against_performance  \\\n",
       "0                   0.558140                  0.610465   \n",
       "1                   0.517442                  0.505814   \n",
       "2                   0.587209                  0.558140   \n",
       "3                   0.563953                  0.680233   \n",
       "4                   0.674419                  0.389535   \n",
       "\n",
       "   opponent_last_against_performance  pts_difference  top_scorrer  main_gk  \\\n",
       "0                                0.5        0.505814            1        1   \n",
       "1                                0.5        0.610465            1        0   \n",
       "2                                0.5        0.680233            0        0   \n",
       "3                                0.5        0.558140            1        0   \n",
       "4                                0.5        0.709302            1        0   \n",
       "\n",
       "   main_captain  opponent_top_scorrer  opponent_main_gk  opponent_main_captain  \n",
       "0             0                     1                 0                      0  \n",
       "1             0                     1                 1                      0  \n",
       "2             0                     1                 0                      0  \n",
       "3             0                     0                 0                      0  \n",
       "4             0                     0                 0                      0  \n",
       "\n",
       "[5 rows x 25 columns]"
      ]
     },
     "execution_count": 51,
     "metadata": {},
     "output_type": "execute_result"
    }
   ],
   "source": [
    "train_data.head()"
   ]
  },
  {
   "cell_type": "code",
   "execution_count": 61,
   "metadata": {},
   "outputs": [],
   "source": [
    "df[[\"round\", \"pts\", \"opponent_pts\", \"last_performance\",\n",
    "            \"opponent_last_performance\",'last_against_performance', 'opponent_last_against_performance',\n",
    "            'pts_difference']] = min_max_scaler.transform(df[[\"round\", \"pts\", \"opponent_pts\",\n",
    "                                                      \"last_performance\",\"opponent_last_performance\",\n",
    "                                                      'last_against_performance', 'pts_difference',\n",
    "                                                      'opponent_last_against_performance']])"
   ]
  },
  {
   "cell_type": "code",
   "execution_count": 62,
   "metadata": {},
   "outputs": [
    {
     "data": {
      "text/html": [
       "<div>\n",
       "<style scoped>\n",
       "    .dataframe tbody tr th:only-of-type {\n",
       "        vertical-align: middle;\n",
       "    }\n",
       "\n",
       "    .dataframe tbody tr th {\n",
       "        vertical-align: top;\n",
       "    }\n",
       "\n",
       "    .dataframe thead th {\n",
       "        text-align: right;\n",
       "    }\n",
       "</style>\n",
       "<table border=\"1\" class=\"dataframe\">\n",
       "  <thead>\n",
       "    <tr style=\"text-align: right;\">\n",
       "      <th></th>\n",
       "      <th>fixture_id</th>\n",
       "      <th>team</th>\n",
       "      <th>formation</th>\n",
       "      <th>coach</th>\n",
       "      <th>isHome</th>\n",
       "      <th>opponent</th>\n",
       "      <th>opponent_formation</th>\n",
       "      <th>opponent_coach</th>\n",
       "      <th>season</th>\n",
       "      <th>round</th>\n",
       "      <th>...</th>\n",
       "      <th>opponent_last_performance</th>\n",
       "      <th>last_against_performance</th>\n",
       "      <th>opponent_last_against_performance</th>\n",
       "      <th>pts_difference</th>\n",
       "      <th>top_scorrer</th>\n",
       "      <th>main_gk</th>\n",
       "      <th>main_captain</th>\n",
       "      <th>opponent_top_scorrer</th>\n",
       "      <th>opponent_main_gk</th>\n",
       "      <th>opponent_main_captain</th>\n",
       "    </tr>\n",
       "  </thead>\n",
       "  <tbody>\n",
       "    <tr>\n",
       "      <th>0</th>\n",
       "      <td>151695</td>\n",
       "      <td>Al-Ettifaq</td>\n",
       "      <td>4-2-3-1</td>\n",
       "      <td>L. Ramos</td>\n",
       "      <td>1</td>\n",
       "      <td>Al-Raed</td>\n",
       "      <td>4-2-3-1</td>\n",
       "      <td>B. Hasi</td>\n",
       "      <td>2018/2019</td>\n",
       "      <td>0.0</td>\n",
       "      <td>...</td>\n",
       "      <td>0.558140</td>\n",
       "      <td>0.610465</td>\n",
       "      <td>0.5</td>\n",
       "      <td>0.505814</td>\n",
       "      <td>1</td>\n",
       "      <td>1</td>\n",
       "      <td>0</td>\n",
       "      <td>1</td>\n",
       "      <td>0</td>\n",
       "      <td>0</td>\n",
       "    </tr>\n",
       "    <tr>\n",
       "      <th>1</th>\n",
       "      <td>151695</td>\n",
       "      <td>Al-Raed</td>\n",
       "      <td>4-2-3-1</td>\n",
       "      <td>B. Hasi</td>\n",
       "      <td>0</td>\n",
       "      <td>Al-Ettifaq</td>\n",
       "      <td>4-2-3-1</td>\n",
       "      <td>L. Ramos</td>\n",
       "      <td>2018/2019</td>\n",
       "      <td>0.0</td>\n",
       "      <td>...</td>\n",
       "      <td>0.517442</td>\n",
       "      <td>0.505814</td>\n",
       "      <td>0.5</td>\n",
       "      <td>0.610465</td>\n",
       "      <td>1</td>\n",
       "      <td>0</td>\n",
       "      <td>0</td>\n",
       "      <td>1</td>\n",
       "      <td>1</td>\n",
       "      <td>0</td>\n",
       "    </tr>\n",
       "    <tr>\n",
       "      <th>2</th>\n",
       "      <td>151696</td>\n",
       "      <td>Al-Hazm</td>\n",
       "      <td>4-2-3-1</td>\n",
       "      <td>D. Isăilă</td>\n",
       "      <td>1</td>\n",
       "      <td>Al Wehda Club</td>\n",
       "      <td>4-4-2</td>\n",
       "      <td>Fábio Carille</td>\n",
       "      <td>2018/2019</td>\n",
       "      <td>0.0</td>\n",
       "      <td>...</td>\n",
       "      <td>0.587209</td>\n",
       "      <td>0.558140</td>\n",
       "      <td>0.5</td>\n",
       "      <td>0.680233</td>\n",
       "      <td>0</td>\n",
       "      <td>0</td>\n",
       "      <td>0</td>\n",
       "      <td>1</td>\n",
       "      <td>0</td>\n",
       "      <td>0</td>\n",
       "    </tr>\n",
       "    <tr>\n",
       "      <th>3</th>\n",
       "      <td>151696</td>\n",
       "      <td>Al Wehda Club</td>\n",
       "      <td>4-4-2</td>\n",
       "      <td>Fábio Carille</td>\n",
       "      <td>0</td>\n",
       "      <td>Al-Hazm</td>\n",
       "      <td>4-2-3-1</td>\n",
       "      <td>D. Isăilă</td>\n",
       "      <td>2018/2019</td>\n",
       "      <td>0.0</td>\n",
       "      <td>...</td>\n",
       "      <td>0.563953</td>\n",
       "      <td>0.680233</td>\n",
       "      <td>0.5</td>\n",
       "      <td>0.558140</td>\n",
       "      <td>1</td>\n",
       "      <td>0</td>\n",
       "      <td>0</td>\n",
       "      <td>0</td>\n",
       "      <td>0</td>\n",
       "      <td>0</td>\n",
       "    </tr>\n",
       "    <tr>\n",
       "      <th>4</th>\n",
       "      <td>151697</td>\n",
       "      <td>Ohod</td>\n",
       "      <td>4-2-3-1</td>\n",
       "      <td>F. Arce</td>\n",
       "      <td>1</td>\n",
       "      <td>Al-Nassr</td>\n",
       "      <td>4-2-3-1</td>\n",
       "      <td>D. Carreño</td>\n",
       "      <td>2018/2019</td>\n",
       "      <td>0.0</td>\n",
       "      <td>...</td>\n",
       "      <td>0.674419</td>\n",
       "      <td>0.389535</td>\n",
       "      <td>0.5</td>\n",
       "      <td>0.709302</td>\n",
       "      <td>1</td>\n",
       "      <td>0</td>\n",
       "      <td>0</td>\n",
       "      <td>0</td>\n",
       "      <td>0</td>\n",
       "      <td>0</td>\n",
       "    </tr>\n",
       "  </tbody>\n",
       "</table>\n",
       "<p>5 rows × 25 columns</p>\n",
       "</div>"
      ],
      "text/plain": [
       "   fixture_id           team formation          coach  isHome       opponent  \\\n",
       "0      151695     Al-Ettifaq   4-2-3-1       L. Ramos       1        Al-Raed   \n",
       "1      151695        Al-Raed   4-2-3-1        B. Hasi       0     Al-Ettifaq   \n",
       "2      151696        Al-Hazm   4-2-3-1      D. Isăilă       1  Al Wehda Club   \n",
       "3      151696  Al Wehda Club     4-4-2  Fábio Carille       0        Al-Hazm   \n",
       "4      151697           Ohod   4-2-3-1        F. Arce       1       Al-Nassr   \n",
       "\n",
       "  opponent_formation opponent_coach     season  round  ...  \\\n",
       "0            4-2-3-1        B. Hasi  2018/2019    0.0  ...   \n",
       "1            4-2-3-1       L. Ramos  2018/2019    0.0  ...   \n",
       "2              4-4-2  Fábio Carille  2018/2019    0.0  ...   \n",
       "3            4-2-3-1      D. Isăilă  2018/2019    0.0  ...   \n",
       "4            4-2-3-1     D. Carreño  2018/2019    0.0  ...   \n",
       "\n",
       "   opponent_last_performance  last_against_performance  \\\n",
       "0                   0.558140                  0.610465   \n",
       "1                   0.517442                  0.505814   \n",
       "2                   0.587209                  0.558140   \n",
       "3                   0.563953                  0.680233   \n",
       "4                   0.674419                  0.389535   \n",
       "\n",
       "   opponent_last_against_performance  pts_difference  top_scorrer  main_gk  \\\n",
       "0                                0.5        0.505814            1        1   \n",
       "1                                0.5        0.610465            1        0   \n",
       "2                                0.5        0.680233            0        0   \n",
       "3                                0.5        0.558140            1        0   \n",
       "4                                0.5        0.709302            1        0   \n",
       "\n",
       "   main_captain  opponent_top_scorrer  opponent_main_gk  opponent_main_captain  \n",
       "0             0                     1                 0                      0  \n",
       "1             0                     1                 1                      0  \n",
       "2             0                     1                 0                      0  \n",
       "3             0                     0                 0                      0  \n",
       "4             0                     0                 0                      0  \n",
       "\n",
       "[5 rows x 25 columns]"
      ]
     },
     "execution_count": 62,
     "metadata": {},
     "output_type": "execute_result"
    }
   ],
   "source": [
    "df.head()"
   ]
  },
  {
   "cell_type": "markdown",
   "metadata": {},
   "source": [
    "##### 3. dummy variables"
   ]
  },
  {
   "cell_type": "code",
   "execution_count": 63,
   "metadata": {},
   "outputs": [
    {
     "data": {
      "text/plain": [
       "Index(['fixture_id', 'team', 'formation', 'coach', 'isHome', 'opponent',\n",
       "       'opponent_formation', 'opponent_coach', 'season', 'round', 'team_goals',\n",
       "       'opponent_goals', 'pts', 'opponent_pts', 'last_performance',\n",
       "       'opponent_last_performance', 'last_against_performance',\n",
       "       'opponent_last_against_performance', 'pts_difference', 'top_scorrer',\n",
       "       'main_gk', 'main_captain', 'opponent_top_scorrer', 'opponent_main_gk',\n",
       "       'opponent_main_captain'],\n",
       "      dtype='object')"
      ]
     },
     "execution_count": 63,
     "metadata": {},
     "output_type": "execute_result"
    }
   ],
   "source": [
    "df.columns"
   ]
  },
  {
   "cell_type": "code",
   "execution_count": 66,
   "metadata": {},
   "outputs": [
    {
     "data": {
      "text/plain": [
       "(1440, 25)"
      ]
     },
     "execution_count": 66,
     "metadata": {},
     "output_type": "execute_result"
    }
   ],
   "source": [
    "df.shape"
   ]
  },
  {
   "cell_type": "code",
   "execution_count": 64,
   "metadata": {},
   "outputs": [],
   "source": [
    "dummy = pd.get_dummies(df[['team', 'formation', \"coach\", \"opponent\",\n",
    "                           \"opponent_formation\", \"opponent_coach\",\"season\"]])"
   ]
  },
  {
   "cell_type": "code",
   "execution_count": 65,
   "metadata": {},
   "outputs": [
    {
     "data": {
      "text/html": [
       "<div>\n",
       "<style scoped>\n",
       "    .dataframe tbody tr th:only-of-type {\n",
       "        vertical-align: middle;\n",
       "    }\n",
       "\n",
       "    .dataframe tbody tr th {\n",
       "        vertical-align: top;\n",
       "    }\n",
       "\n",
       "    .dataframe thead th {\n",
       "        text-align: right;\n",
       "    }\n",
       "</style>\n",
       "<table border=\"1\" class=\"dataframe\">\n",
       "  <thead>\n",
       "    <tr style=\"text-align: right;\">\n",
       "      <th></th>\n",
       "      <th>team_Abha</th>\n",
       "      <th>team_Al Baten</th>\n",
       "      <th>team_Al Shabab</th>\n",
       "      <th>team_Al Taawon</th>\n",
       "      <th>team_Al Wehda Club</th>\n",
       "      <th>team_Al-Adalah</th>\n",
       "      <th>team_Al-Ahli Jeddah</th>\n",
       "      <th>team_Al-Ain</th>\n",
       "      <th>team_Al-Ettifaq</th>\n",
       "      <th>team_Al-Faisaly FC</th>\n",
       "      <th>...</th>\n",
       "      <th>opponent_coach_V. Milojević</th>\n",
       "      <th>opponent_coach_Vítor Campelos</th>\n",
       "      <th>opponent_coach_Y. Al Mannai</th>\n",
       "      <th>opponent_coach_Y. Ferrera</th>\n",
       "      <th>opponent_coach_Yousef Alghadeer</th>\n",
       "      <th>opponent_coach_Youssef Anbar</th>\n",
       "      <th>opponent_coach_Z. Mamić</th>\n",
       "      <th>season_2018/2019</th>\n",
       "      <th>season_2019/2020</th>\n",
       "      <th>season_2020/2021</th>\n",
       "    </tr>\n",
       "  </thead>\n",
       "  <tbody>\n",
       "    <tr>\n",
       "      <th>0</th>\n",
       "      <td>0</td>\n",
       "      <td>0</td>\n",
       "      <td>0</td>\n",
       "      <td>0</td>\n",
       "      <td>0</td>\n",
       "      <td>0</td>\n",
       "      <td>0</td>\n",
       "      <td>0</td>\n",
       "      <td>1</td>\n",
       "      <td>0</td>\n",
       "      <td>...</td>\n",
       "      <td>0</td>\n",
       "      <td>0</td>\n",
       "      <td>0</td>\n",
       "      <td>0</td>\n",
       "      <td>0</td>\n",
       "      <td>0</td>\n",
       "      <td>0</td>\n",
       "      <td>1</td>\n",
       "      <td>0</td>\n",
       "      <td>0</td>\n",
       "    </tr>\n",
       "    <tr>\n",
       "      <th>1</th>\n",
       "      <td>0</td>\n",
       "      <td>0</td>\n",
       "      <td>0</td>\n",
       "      <td>0</td>\n",
       "      <td>0</td>\n",
       "      <td>0</td>\n",
       "      <td>0</td>\n",
       "      <td>0</td>\n",
       "      <td>0</td>\n",
       "      <td>0</td>\n",
       "      <td>...</td>\n",
       "      <td>0</td>\n",
       "      <td>0</td>\n",
       "      <td>0</td>\n",
       "      <td>0</td>\n",
       "      <td>0</td>\n",
       "      <td>0</td>\n",
       "      <td>0</td>\n",
       "      <td>1</td>\n",
       "      <td>0</td>\n",
       "      <td>0</td>\n",
       "    </tr>\n",
       "    <tr>\n",
       "      <th>2</th>\n",
       "      <td>0</td>\n",
       "      <td>0</td>\n",
       "      <td>0</td>\n",
       "      <td>0</td>\n",
       "      <td>0</td>\n",
       "      <td>0</td>\n",
       "      <td>0</td>\n",
       "      <td>0</td>\n",
       "      <td>0</td>\n",
       "      <td>0</td>\n",
       "      <td>...</td>\n",
       "      <td>0</td>\n",
       "      <td>0</td>\n",
       "      <td>0</td>\n",
       "      <td>0</td>\n",
       "      <td>0</td>\n",
       "      <td>0</td>\n",
       "      <td>0</td>\n",
       "      <td>1</td>\n",
       "      <td>0</td>\n",
       "      <td>0</td>\n",
       "    </tr>\n",
       "    <tr>\n",
       "      <th>3</th>\n",
       "      <td>0</td>\n",
       "      <td>0</td>\n",
       "      <td>0</td>\n",
       "      <td>0</td>\n",
       "      <td>1</td>\n",
       "      <td>0</td>\n",
       "      <td>0</td>\n",
       "      <td>0</td>\n",
       "      <td>0</td>\n",
       "      <td>0</td>\n",
       "      <td>...</td>\n",
       "      <td>0</td>\n",
       "      <td>0</td>\n",
       "      <td>0</td>\n",
       "      <td>0</td>\n",
       "      <td>0</td>\n",
       "      <td>0</td>\n",
       "      <td>0</td>\n",
       "      <td>1</td>\n",
       "      <td>0</td>\n",
       "      <td>0</td>\n",
       "    </tr>\n",
       "    <tr>\n",
       "      <th>4</th>\n",
       "      <td>0</td>\n",
       "      <td>0</td>\n",
       "      <td>0</td>\n",
       "      <td>0</td>\n",
       "      <td>0</td>\n",
       "      <td>0</td>\n",
       "      <td>0</td>\n",
       "      <td>0</td>\n",
       "      <td>0</td>\n",
       "      <td>0</td>\n",
       "      <td>...</td>\n",
       "      <td>0</td>\n",
       "      <td>0</td>\n",
       "      <td>0</td>\n",
       "      <td>0</td>\n",
       "      <td>0</td>\n",
       "      <td>0</td>\n",
       "      <td>0</td>\n",
       "      <td>1</td>\n",
       "      <td>0</td>\n",
       "      <td>0</td>\n",
       "    </tr>\n",
       "    <tr>\n",
       "      <th>...</th>\n",
       "      <td>...</td>\n",
       "      <td>...</td>\n",
       "      <td>...</td>\n",
       "      <td>...</td>\n",
       "      <td>...</td>\n",
       "      <td>...</td>\n",
       "      <td>...</td>\n",
       "      <td>...</td>\n",
       "      <td>...</td>\n",
       "      <td>...</td>\n",
       "      <td>...</td>\n",
       "      <td>...</td>\n",
       "      <td>...</td>\n",
       "      <td>...</td>\n",
       "      <td>...</td>\n",
       "      <td>...</td>\n",
       "      <td>...</td>\n",
       "      <td>...</td>\n",
       "      <td>...</td>\n",
       "      <td>...</td>\n",
       "      <td>...</td>\n",
       "    </tr>\n",
       "    <tr>\n",
       "      <th>1435</th>\n",
       "      <td>0</td>\n",
       "      <td>0</td>\n",
       "      <td>0</td>\n",
       "      <td>0</td>\n",
       "      <td>0</td>\n",
       "      <td>0</td>\n",
       "      <td>0</td>\n",
       "      <td>0</td>\n",
       "      <td>1</td>\n",
       "      <td>0</td>\n",
       "      <td>...</td>\n",
       "      <td>0</td>\n",
       "      <td>0</td>\n",
       "      <td>0</td>\n",
       "      <td>0</td>\n",
       "      <td>0</td>\n",
       "      <td>0</td>\n",
       "      <td>0</td>\n",
       "      <td>0</td>\n",
       "      <td>0</td>\n",
       "      <td>1</td>\n",
       "    </tr>\n",
       "    <tr>\n",
       "      <th>1436</th>\n",
       "      <td>0</td>\n",
       "      <td>0</td>\n",
       "      <td>0</td>\n",
       "      <td>0</td>\n",
       "      <td>0</td>\n",
       "      <td>0</td>\n",
       "      <td>0</td>\n",
       "      <td>0</td>\n",
       "      <td>0</td>\n",
       "      <td>0</td>\n",
       "      <td>...</td>\n",
       "      <td>0</td>\n",
       "      <td>0</td>\n",
       "      <td>0</td>\n",
       "      <td>0</td>\n",
       "      <td>0</td>\n",
       "      <td>0</td>\n",
       "      <td>0</td>\n",
       "      <td>0</td>\n",
       "      <td>0</td>\n",
       "      <td>1</td>\n",
       "    </tr>\n",
       "    <tr>\n",
       "      <th>1437</th>\n",
       "      <td>0</td>\n",
       "      <td>0</td>\n",
       "      <td>0</td>\n",
       "      <td>0</td>\n",
       "      <td>0</td>\n",
       "      <td>0</td>\n",
       "      <td>0</td>\n",
       "      <td>0</td>\n",
       "      <td>0</td>\n",
       "      <td>1</td>\n",
       "      <td>...</td>\n",
       "      <td>0</td>\n",
       "      <td>0</td>\n",
       "      <td>0</td>\n",
       "      <td>0</td>\n",
       "      <td>0</td>\n",
       "      <td>0</td>\n",
       "      <td>0</td>\n",
       "      <td>0</td>\n",
       "      <td>0</td>\n",
       "      <td>1</td>\n",
       "    </tr>\n",
       "    <tr>\n",
       "      <th>1438</th>\n",
       "      <td>0</td>\n",
       "      <td>0</td>\n",
       "      <td>0</td>\n",
       "      <td>0</td>\n",
       "      <td>0</td>\n",
       "      <td>0</td>\n",
       "      <td>0</td>\n",
       "      <td>0</td>\n",
       "      <td>0</td>\n",
       "      <td>0</td>\n",
       "      <td>...</td>\n",
       "      <td>0</td>\n",
       "      <td>0</td>\n",
       "      <td>0</td>\n",
       "      <td>0</td>\n",
       "      <td>0</td>\n",
       "      <td>0</td>\n",
       "      <td>0</td>\n",
       "      <td>0</td>\n",
       "      <td>0</td>\n",
       "      <td>1</td>\n",
       "    </tr>\n",
       "    <tr>\n",
       "      <th>1439</th>\n",
       "      <td>0</td>\n",
       "      <td>0</td>\n",
       "      <td>0</td>\n",
       "      <td>0</td>\n",
       "      <td>0</td>\n",
       "      <td>0</td>\n",
       "      <td>0</td>\n",
       "      <td>0</td>\n",
       "      <td>0</td>\n",
       "      <td>0</td>\n",
       "      <td>...</td>\n",
       "      <td>0</td>\n",
       "      <td>0</td>\n",
       "      <td>0</td>\n",
       "      <td>0</td>\n",
       "      <td>0</td>\n",
       "      <td>0</td>\n",
       "      <td>0</td>\n",
       "      <td>0</td>\n",
       "      <td>0</td>\n",
       "      <td>1</td>\n",
       "    </tr>\n",
       "  </tbody>\n",
       "</table>\n",
       "<p>1440 rows × 241 columns</p>\n",
       "</div>"
      ],
      "text/plain": [
       "      team_Abha  team_Al Baten  team_Al Shabab  team_Al Taawon  \\\n",
       "0             0              0               0               0   \n",
       "1             0              0               0               0   \n",
       "2             0              0               0               0   \n",
       "3             0              0               0               0   \n",
       "4             0              0               0               0   \n",
       "...         ...            ...             ...             ...   \n",
       "1435          0              0               0               0   \n",
       "1436          0              0               0               0   \n",
       "1437          0              0               0               0   \n",
       "1438          0              0               0               0   \n",
       "1439          0              0               0               0   \n",
       "\n",
       "      team_Al Wehda Club  team_Al-Adalah  team_Al-Ahli Jeddah  team_Al-Ain  \\\n",
       "0                      0               0                    0            0   \n",
       "1                      0               0                    0            0   \n",
       "2                      0               0                    0            0   \n",
       "3                      1               0                    0            0   \n",
       "4                      0               0                    0            0   \n",
       "...                  ...             ...                  ...          ...   \n",
       "1435                   0               0                    0            0   \n",
       "1436                   0               0                    0            0   \n",
       "1437                   0               0                    0            0   \n",
       "1438                   0               0                    0            0   \n",
       "1439                   0               0                    0            0   \n",
       "\n",
       "      team_Al-Ettifaq  team_Al-Faisaly FC  ...  opponent_coach_V. Milojević  \\\n",
       "0                   1                   0  ...                            0   \n",
       "1                   0                   0  ...                            0   \n",
       "2                   0                   0  ...                            0   \n",
       "3                   0                   0  ...                            0   \n",
       "4                   0                   0  ...                            0   \n",
       "...               ...                 ...  ...                          ...   \n",
       "1435                1                   0  ...                            0   \n",
       "1436                0                   0  ...                            0   \n",
       "1437                0                   1  ...                            0   \n",
       "1438                0                   0  ...                            0   \n",
       "1439                0                   0  ...                            0   \n",
       "\n",
       "      opponent_coach_Vítor Campelos  opponent_coach_Y. Al Mannai  \\\n",
       "0                                 0                            0   \n",
       "1                                 0                            0   \n",
       "2                                 0                            0   \n",
       "3                                 0                            0   \n",
       "4                                 0                            0   \n",
       "...                             ...                          ...   \n",
       "1435                              0                            0   \n",
       "1436                              0                            0   \n",
       "1437                              0                            0   \n",
       "1438                              0                            0   \n",
       "1439                              0                            0   \n",
       "\n",
       "      opponent_coach_Y. Ferrera  opponent_coach_Yousef Alghadeer  \\\n",
       "0                             0                                0   \n",
       "1                             0                                0   \n",
       "2                             0                                0   \n",
       "3                             0                                0   \n",
       "4                             0                                0   \n",
       "...                         ...                              ...   \n",
       "1435                          0                                0   \n",
       "1436                          0                                0   \n",
       "1437                          0                                0   \n",
       "1438                          0                                0   \n",
       "1439                          0                                0   \n",
       "\n",
       "      opponent_coach_Youssef Anbar  opponent_coach_Z. Mamić  season_2018/2019  \\\n",
       "0                                0                        0                 1   \n",
       "1                                0                        0                 1   \n",
       "2                                0                        0                 1   \n",
       "3                                0                        0                 1   \n",
       "4                                0                        0                 1   \n",
       "...                            ...                      ...               ...   \n",
       "1435                             0                        0                 0   \n",
       "1436                             0                        0                 0   \n",
       "1437                             0                        0                 0   \n",
       "1438                             0                        0                 0   \n",
       "1439                             0                        0                 0   \n",
       "\n",
       "      season_2019/2020  season_2020/2021  \n",
       "0                    0                 0  \n",
       "1                    0                 0  \n",
       "2                    0                 0  \n",
       "3                    0                 0  \n",
       "4                    0                 0  \n",
       "...                ...               ...  \n",
       "1435                 0                 1  \n",
       "1436                 0                 1  \n",
       "1437                 0                 1  \n",
       "1438                 0                 1  \n",
       "1439                 0                 1  \n",
       "\n",
       "[1440 rows x 241 columns]"
      ]
     },
     "execution_count": 65,
     "metadata": {},
     "output_type": "execute_result"
    }
   ],
   "source": [
    "dummy"
   ]
  },
  {
   "cell_type": "code",
   "execution_count": 68,
   "metadata": {},
   "outputs": [],
   "source": [
    "df = pd.concat([df, dummy], axis=1)"
   ]
  },
  {
   "cell_type": "code",
   "execution_count": 70,
   "metadata": {},
   "outputs": [],
   "source": [
    "df.drop(columns=['team', 'formation', \"coach\", \"opponent\",\n",
    "                           \"opponent_formation\", \"opponent_coach\",\"season\"], inplace=True)"
   ]
  },
  {
   "cell_type": "code",
   "execution_count": 71,
   "metadata": {},
   "outputs": [
    {
     "data": {
      "text/plain": [
       "(1440, 259)"
      ]
     },
     "execution_count": 71,
     "metadata": {},
     "output_type": "execute_result"
    }
   ],
   "source": [
    "df.shape"
   ]
  },
  {
   "cell_type": "code",
   "execution_count": 73,
   "metadata": {},
   "outputs": [],
   "source": [
    "train_data = df.loc[~df[\"fixture_id\"].isin(test_fixtures)]\n",
    "test_data =  df.loc[df[\"fixture_id\"].isin(test_fixtures)]"
   ]
  },
  {
   "cell_type": "code",
   "execution_count": 75,
   "metadata": {},
   "outputs": [],
   "source": [
    "train_data.to_csv(\"train.csv\", index=False)\n",
    "test_data.to_csv(\"test.csv\", index=False)"
   ]
  },
  {
   "cell_type": "code",
   "execution_count": 18,
   "metadata": {},
   "outputs": [],
   "source": [
    "train_data = pd.read_csv(\"train.csv\")\n",
    "test_data = pd.read_csv(\"test.csv\")"
   ]
  },
  {
   "cell_type": "markdown",
   "metadata": {},
   "source": [
    "We have to write custom Dataset class so that pytorch's Dataloader can accpet it"
   ]
  },
  {
   "cell_type": "code",
   "execution_count": 77,
   "metadata": {},
   "outputs": [
    {
     "data": {
      "text/plain": [
       "Index(['fixture_id', 'isHome', 'round', 'team_goals', 'opponent_goals', 'pts',\n",
       "       'opponent_pts', 'last_performance', 'opponent_last_performance',\n",
       "       'last_against_performance', 'opponent_last_against_performance',\n",
       "       'pts_difference', 'top_scorrer', 'main_gk', 'main_captain',\n",
       "       'opponent_top_scorrer', 'opponent_main_gk', 'opponent_main_captain',\n",
       "       'team_Abha', 'team_Al Baten'],\n",
       "      dtype='object')"
      ]
     },
     "execution_count": 77,
     "metadata": {},
     "output_type": "execute_result"
    }
   ],
   "source": [
    "df.columns[:20]"
   ]
  },
  {
   "cell_type": "code",
   "execution_count": 159,
   "metadata": {},
   "outputs": [
    {
     "data": {
      "text/html": [
       "<div>\n",
       "<style scoped>\n",
       "    .dataframe tbody tr th:only-of-type {\n",
       "        vertical-align: middle;\n",
       "    }\n",
       "\n",
       "    .dataframe tbody tr th {\n",
       "        vertical-align: top;\n",
       "    }\n",
       "\n",
       "    .dataframe thead th {\n",
       "        text-align: right;\n",
       "    }\n",
       "</style>\n",
       "<table border=\"1\" class=\"dataframe\">\n",
       "  <thead>\n",
       "    <tr style=\"text-align: right;\">\n",
       "      <th></th>\n",
       "      <th>fixture_id</th>\n",
       "      <th>isHome</th>\n",
       "      <th>round</th>\n",
       "      <th>team_goals</th>\n",
       "      <th>opponent_goals</th>\n",
       "      <th>pts</th>\n",
       "      <th>opponent_pts</th>\n",
       "      <th>last_performance</th>\n",
       "      <th>opponent_last_performance</th>\n",
       "      <th>last_against_performance</th>\n",
       "      <th>...</th>\n",
       "      <th>opponent_coach_V. Milojević</th>\n",
       "      <th>opponent_coach_Vítor Campelos</th>\n",
       "      <th>opponent_coach_Y. Al Mannai</th>\n",
       "      <th>opponent_coach_Y. Ferrera</th>\n",
       "      <th>opponent_coach_Yousef Alghadeer</th>\n",
       "      <th>opponent_coach_Youssef Anbar</th>\n",
       "      <th>opponent_coach_Z. Mamić</th>\n",
       "      <th>season_2018/2019</th>\n",
       "      <th>season_2019/2020</th>\n",
       "      <th>season_2020/2021</th>\n",
       "    </tr>\n",
       "  </thead>\n",
       "  <tbody>\n",
       "    <tr>\n",
       "      <th>0</th>\n",
       "      <td>151695</td>\n",
       "      <td>1</td>\n",
       "      <td>0.0</td>\n",
       "      <td>1.0</td>\n",
       "      <td>1.0</td>\n",
       "      <td>0.000000</td>\n",
       "      <td>0.000000</td>\n",
       "      <td>0.517442</td>\n",
       "      <td>0.558140</td>\n",
       "      <td>0.610465</td>\n",
       "      <td>...</td>\n",
       "      <td>0</td>\n",
       "      <td>0</td>\n",
       "      <td>0</td>\n",
       "      <td>0</td>\n",
       "      <td>0</td>\n",
       "      <td>0</td>\n",
       "      <td>0</td>\n",
       "      <td>1</td>\n",
       "      <td>0</td>\n",
       "      <td>0</td>\n",
       "    </tr>\n",
       "    <tr>\n",
       "      <th>1</th>\n",
       "      <td>151695</td>\n",
       "      <td>0</td>\n",
       "      <td>0.0</td>\n",
       "      <td>1.0</td>\n",
       "      <td>1.0</td>\n",
       "      <td>0.000000</td>\n",
       "      <td>0.000000</td>\n",
       "      <td>0.558140</td>\n",
       "      <td>0.517442</td>\n",
       "      <td>0.505814</td>\n",
       "      <td>...</td>\n",
       "      <td>0</td>\n",
       "      <td>0</td>\n",
       "      <td>0</td>\n",
       "      <td>0</td>\n",
       "      <td>0</td>\n",
       "      <td>0</td>\n",
       "      <td>0</td>\n",
       "      <td>1</td>\n",
       "      <td>0</td>\n",
       "      <td>0</td>\n",
       "    </tr>\n",
       "    <tr>\n",
       "      <th>2</th>\n",
       "      <td>151696</td>\n",
       "      <td>1</td>\n",
       "      <td>0.0</td>\n",
       "      <td>0.0</td>\n",
       "      <td>0.0</td>\n",
       "      <td>0.000000</td>\n",
       "      <td>0.000000</td>\n",
       "      <td>0.563953</td>\n",
       "      <td>0.587209</td>\n",
       "      <td>0.558140</td>\n",
       "      <td>...</td>\n",
       "      <td>0</td>\n",
       "      <td>0</td>\n",
       "      <td>0</td>\n",
       "      <td>0</td>\n",
       "      <td>0</td>\n",
       "      <td>0</td>\n",
       "      <td>0</td>\n",
       "      <td>1</td>\n",
       "      <td>0</td>\n",
       "      <td>0</td>\n",
       "    </tr>\n",
       "    <tr>\n",
       "      <th>3</th>\n",
       "      <td>151696</td>\n",
       "      <td>0</td>\n",
       "      <td>0.0</td>\n",
       "      <td>0.0</td>\n",
       "      <td>0.0</td>\n",
       "      <td>0.000000</td>\n",
       "      <td>0.000000</td>\n",
       "      <td>0.587209</td>\n",
       "      <td>0.563953</td>\n",
       "      <td>0.680233</td>\n",
       "      <td>...</td>\n",
       "      <td>0</td>\n",
       "      <td>0</td>\n",
       "      <td>0</td>\n",
       "      <td>0</td>\n",
       "      <td>0</td>\n",
       "      <td>0</td>\n",
       "      <td>0</td>\n",
       "      <td>1</td>\n",
       "      <td>0</td>\n",
       "      <td>0</td>\n",
       "    </tr>\n",
       "    <tr>\n",
       "      <th>4</th>\n",
       "      <td>151697</td>\n",
       "      <td>1</td>\n",
       "      <td>0.0</td>\n",
       "      <td>1.0</td>\n",
       "      <td>2.0</td>\n",
       "      <td>0.000000</td>\n",
       "      <td>0.000000</td>\n",
       "      <td>0.505814</td>\n",
       "      <td>0.674419</td>\n",
       "      <td>0.389535</td>\n",
       "      <td>...</td>\n",
       "      <td>0</td>\n",
       "      <td>0</td>\n",
       "      <td>0</td>\n",
       "      <td>0</td>\n",
       "      <td>0</td>\n",
       "      <td>0</td>\n",
       "      <td>0</td>\n",
       "      <td>1</td>\n",
       "      <td>0</td>\n",
       "      <td>0</td>\n",
       "    </tr>\n",
       "    <tr>\n",
       "      <th>...</th>\n",
       "      <td>...</td>\n",
       "      <td>...</td>\n",
       "      <td>...</td>\n",
       "      <td>...</td>\n",
       "      <td>...</td>\n",
       "      <td>...</td>\n",
       "      <td>...</td>\n",
       "      <td>...</td>\n",
       "      <td>...</td>\n",
       "      <td>...</td>\n",
       "      <td>...</td>\n",
       "      <td>...</td>\n",
       "      <td>...</td>\n",
       "      <td>...</td>\n",
       "      <td>...</td>\n",
       "      <td>...</td>\n",
       "      <td>...</td>\n",
       "      <td>...</td>\n",
       "      <td>...</td>\n",
       "      <td>...</td>\n",
       "      <td>...</td>\n",
       "    </tr>\n",
       "    <tr>\n",
       "      <th>1147</th>\n",
       "      <td>657879</td>\n",
       "      <td>0</td>\n",
       "      <td>1.0</td>\n",
       "      <td>0.0</td>\n",
       "      <td>3.0</td>\n",
       "      <td>0.463768</td>\n",
       "      <td>0.782609</td>\n",
       "      <td>0.383721</td>\n",
       "      <td>0.825581</td>\n",
       "      <td>0.406977</td>\n",
       "      <td>...</td>\n",
       "      <td>0</td>\n",
       "      <td>0</td>\n",
       "      <td>0</td>\n",
       "      <td>0</td>\n",
       "      <td>0</td>\n",
       "      <td>0</td>\n",
       "      <td>0</td>\n",
       "      <td>0</td>\n",
       "      <td>0</td>\n",
       "      <td>1</td>\n",
       "    </tr>\n",
       "    <tr>\n",
       "      <th>1148</th>\n",
       "      <td>657881</td>\n",
       "      <td>1</td>\n",
       "      <td>1.0</td>\n",
       "      <td>3.0</td>\n",
       "      <td>2.0</td>\n",
       "      <td>0.840580</td>\n",
       "      <td>0.521739</td>\n",
       "      <td>0.662791</td>\n",
       "      <td>0.343023</td>\n",
       "      <td>0.616279</td>\n",
       "      <td>...</td>\n",
       "      <td>0</td>\n",
       "      <td>0</td>\n",
       "      <td>0</td>\n",
       "      <td>0</td>\n",
       "      <td>0</td>\n",
       "      <td>0</td>\n",
       "      <td>0</td>\n",
       "      <td>0</td>\n",
       "      <td>0</td>\n",
       "      <td>1</td>\n",
       "    </tr>\n",
       "    <tr>\n",
       "      <th>1149</th>\n",
       "      <td>657881</td>\n",
       "      <td>0</td>\n",
       "      <td>1.0</td>\n",
       "      <td>2.0</td>\n",
       "      <td>3.0</td>\n",
       "      <td>0.521739</td>\n",
       "      <td>0.840580</td>\n",
       "      <td>0.343023</td>\n",
       "      <td>0.662791</td>\n",
       "      <td>0.645349</td>\n",
       "      <td>...</td>\n",
       "      <td>0</td>\n",
       "      <td>0</td>\n",
       "      <td>0</td>\n",
       "      <td>0</td>\n",
       "      <td>0</td>\n",
       "      <td>0</td>\n",
       "      <td>0</td>\n",
       "      <td>0</td>\n",
       "      <td>0</td>\n",
       "      <td>1</td>\n",
       "    </tr>\n",
       "    <tr>\n",
       "      <th>1150</th>\n",
       "      <td>657882</td>\n",
       "      <td>1</td>\n",
       "      <td>1.0</td>\n",
       "      <td>1.0</td>\n",
       "      <td>2.0</td>\n",
       "      <td>0.666667</td>\n",
       "      <td>0.768116</td>\n",
       "      <td>0.651163</td>\n",
       "      <td>0.668605</td>\n",
       "      <td>0.529070</td>\n",
       "      <td>...</td>\n",
       "      <td>0</td>\n",
       "      <td>0</td>\n",
       "      <td>0</td>\n",
       "      <td>0</td>\n",
       "      <td>0</td>\n",
       "      <td>0</td>\n",
       "      <td>0</td>\n",
       "      <td>0</td>\n",
       "      <td>0</td>\n",
       "      <td>1</td>\n",
       "    </tr>\n",
       "    <tr>\n",
       "      <th>1151</th>\n",
       "      <td>657882</td>\n",
       "      <td>0</td>\n",
       "      <td>1.0</td>\n",
       "      <td>2.0</td>\n",
       "      <td>1.0</td>\n",
       "      <td>0.768116</td>\n",
       "      <td>0.666667</td>\n",
       "      <td>0.668605</td>\n",
       "      <td>0.651163</td>\n",
       "      <td>0.534884</td>\n",
       "      <td>...</td>\n",
       "      <td>0</td>\n",
       "      <td>0</td>\n",
       "      <td>0</td>\n",
       "      <td>0</td>\n",
       "      <td>0</td>\n",
       "      <td>0</td>\n",
       "      <td>0</td>\n",
       "      <td>0</td>\n",
       "      <td>0</td>\n",
       "      <td>1</td>\n",
       "    </tr>\n",
       "  </tbody>\n",
       "</table>\n",
       "<p>1064 rows × 259 columns</p>\n",
       "</div>"
      ],
      "text/plain": [
       "      fixture_id  isHome  round  team_goals  opponent_goals       pts  \\\n",
       "0         151695       1    0.0         1.0             1.0  0.000000   \n",
       "1         151695       0    0.0         1.0             1.0  0.000000   \n",
       "2         151696       1    0.0         0.0             0.0  0.000000   \n",
       "3         151696       0    0.0         0.0             0.0  0.000000   \n",
       "4         151697       1    0.0         1.0             2.0  0.000000   \n",
       "...          ...     ...    ...         ...             ...       ...   \n",
       "1147      657879       0    1.0         0.0             3.0  0.463768   \n",
       "1148      657881       1    1.0         3.0             2.0  0.840580   \n",
       "1149      657881       0    1.0         2.0             3.0  0.521739   \n",
       "1150      657882       1    1.0         1.0             2.0  0.666667   \n",
       "1151      657882       0    1.0         2.0             1.0  0.768116   \n",
       "\n",
       "      opponent_pts  last_performance  opponent_last_performance  \\\n",
       "0         0.000000          0.517442                   0.558140   \n",
       "1         0.000000          0.558140                   0.517442   \n",
       "2         0.000000          0.563953                   0.587209   \n",
       "3         0.000000          0.587209                   0.563953   \n",
       "4         0.000000          0.505814                   0.674419   \n",
       "...            ...               ...                        ...   \n",
       "1147      0.782609          0.383721                   0.825581   \n",
       "1148      0.521739          0.662791                   0.343023   \n",
       "1149      0.840580          0.343023                   0.662791   \n",
       "1150      0.768116          0.651163                   0.668605   \n",
       "1151      0.666667          0.668605                   0.651163   \n",
       "\n",
       "      last_against_performance  ...  opponent_coach_V. Milojević  \\\n",
       "0                     0.610465  ...                            0   \n",
       "1                     0.505814  ...                            0   \n",
       "2                     0.558140  ...                            0   \n",
       "3                     0.680233  ...                            0   \n",
       "4                     0.389535  ...                            0   \n",
       "...                        ...  ...                          ...   \n",
       "1147                  0.406977  ...                            0   \n",
       "1148                  0.616279  ...                            0   \n",
       "1149                  0.645349  ...                            0   \n",
       "1150                  0.529070  ...                            0   \n",
       "1151                  0.534884  ...                            0   \n",
       "\n",
       "      opponent_coach_Vítor Campelos  opponent_coach_Y. Al Mannai  \\\n",
       "0                                 0                            0   \n",
       "1                                 0                            0   \n",
       "2                                 0                            0   \n",
       "3                                 0                            0   \n",
       "4                                 0                            0   \n",
       "...                             ...                          ...   \n",
       "1147                              0                            0   \n",
       "1148                              0                            0   \n",
       "1149                              0                            0   \n",
       "1150                              0                            0   \n",
       "1151                              0                            0   \n",
       "\n",
       "      opponent_coach_Y. Ferrera  opponent_coach_Yousef Alghadeer  \\\n",
       "0                             0                                0   \n",
       "1                             0                                0   \n",
       "2                             0                                0   \n",
       "3                             0                                0   \n",
       "4                             0                                0   \n",
       "...                         ...                              ...   \n",
       "1147                          0                                0   \n",
       "1148                          0                                0   \n",
       "1149                          0                                0   \n",
       "1150                          0                                0   \n",
       "1151                          0                                0   \n",
       "\n",
       "      opponent_coach_Youssef Anbar  opponent_coach_Z. Mamić  season_2018/2019  \\\n",
       "0                                0                        0                 1   \n",
       "1                                0                        0                 1   \n",
       "2                                0                        0                 1   \n",
       "3                                0                        0                 1   \n",
       "4                                0                        0                 1   \n",
       "...                            ...                      ...               ...   \n",
       "1147                             0                        0                 0   \n",
       "1148                             0                        0                 0   \n",
       "1149                             0                        0                 0   \n",
       "1150                             0                        0                 0   \n",
       "1151                             0                        0                 0   \n",
       "\n",
       "      season_2019/2020  season_2020/2021  \n",
       "0                    0                 0  \n",
       "1                    0                 0  \n",
       "2                    0                 0  \n",
       "3                    0                 0  \n",
       "4                    0                 0  \n",
       "...                ...               ...  \n",
       "1147                 0                 1  \n",
       "1148                 0                 1  \n",
       "1149                 0                 1  \n",
       "1150                 0                 1  \n",
       "1151                 0                 1  \n",
       "\n",
       "[1064 rows x 259 columns]"
      ]
     },
     "execution_count": 159,
     "metadata": {},
     "output_type": "execute_result"
    }
   ],
   "source": []
  },
  {
   "cell_type": "code",
   "execution_count": 200,
   "metadata": {},
   "outputs": [],
   "source": [
    "from torch.utils.data import  Dataset\n",
    "class SaudiLeagueDataset(torch.utils.data.Dataset):\n",
    "    \n",
    "    def __init__(self, file_path):\n",
    "        \n",
    "        self.data = pd.read_csv(file_path)\n",
    "        self.data.drop(\"fixture_id\", axis=1, inplace=True)\n",
    "        self.data.drop(np.where(self.data['team_goals']>3)[0], inplace=True)\n",
    "        self.data.reset_index(inplace=True, drop=True)\n",
    "    def __len__(self):\n",
    "        return len(self.data)\n",
    "    \n",
    "    def __getitem__(self, index):\n",
    "        # load image as ndarray type (Height * Width * Channels)\n",
    "        # be carefull for converting dtype to np.uint8 [Unsigned integer (0 to 255)]\n",
    "        # in this example, i don't use ToTensor() method of torchvision.transforms\n",
    "        # so you can convert numpy ndarray shape to tensor in PyTorch (H, W, C) --> (C, H, W)\n",
    "        \n",
    "        outcome = self.data.loc[index, [\"team_goals\"]].values.astype(np.float32)\n",
    "\n",
    "        match = self.data.drop(columns=[\"team_goals\", \"opponent_goals\"]).iloc[index].values.astype(np.float32)\n",
    "\n",
    "            \n",
    "        return match, outcome"
   ]
  },
  {
   "cell_type": "code",
   "execution_count": 201,
   "metadata": {},
   "outputs": [],
   "source": [
    "train_dataset = SaudiLeagueDataset(\"train.csv\")\n",
    "test_dataset = SaudiLeagueDataset(\"test.csv\")"
   ]
  },
  {
   "cell_type": "code",
   "execution_count": 202,
   "metadata": {},
   "outputs": [
    {
     "data": {
      "text/plain": [
       "(array([1.        , 0.        , 0.        , 0.        , 0.51744187,\n",
       "        0.55813956, 0.6104651 , 0.5       , 0.50581396, 1.        ,\n",
       "        1.        , 0.        , 1.        , 0.        , 0.        ,\n",
       "        0.        , 0.        , 0.        , 0.        , 0.        ,\n",
       "        0.        , 0.        , 0.        , 1.        , 0.        ,\n",
       "        0.        , 0.        , 0.        , 0.        , 0.        ,\n",
       "        0.        , 0.        , 0.        , 0.        , 0.        ,\n",
       "        0.        , 0.        , 0.        , 0.        , 0.        ,\n",
       "        0.        , 0.        , 0.        , 1.        , 0.        ,\n",
       "        0.        , 0.        , 0.        , 0.        , 0.        ,\n",
       "        0.        , 0.        , 0.        , 0.        , 0.        ,\n",
       "        0.        , 0.        , 0.        , 0.        , 0.        ,\n",
       "        0.        , 0.        , 0.        , 0.        , 0.        ,\n",
       "        0.        , 0.        , 0.        , 0.        , 0.        ,\n",
       "        0.        , 0.        , 0.        , 0.        , 0.        ,\n",
       "        0.        , 0.        , 0.        , 0.        , 0.        ,\n",
       "        0.        , 0.        , 0.        , 0.        , 0.        ,\n",
       "        0.        , 0.        , 0.        , 0.        , 0.        ,\n",
       "        0.        , 1.        , 0.        , 0.        , 0.        ,\n",
       "        0.        , 0.        , 0.        , 0.        , 0.        ,\n",
       "        0.        , 0.        , 0.        , 0.        , 0.        ,\n",
       "        0.        , 0.        , 0.        , 0.        , 0.        ,\n",
       "        0.        , 0.        , 0.        , 0.        , 0.        ,\n",
       "        0.        , 0.        , 0.        , 0.        , 0.        ,\n",
       "        0.        , 0.        , 0.        , 0.        , 0.        ,\n",
       "        0.        , 0.        , 0.        , 0.        , 0.        ,\n",
       "        0.        , 0.        , 0.        , 0.        , 0.        ,\n",
       "        0.        , 0.        , 0.        , 0.        , 0.        ,\n",
       "        0.        , 0.        , 0.        , 0.        , 0.        ,\n",
       "        0.        , 0.        , 0.        , 0.        , 0.        ,\n",
       "        0.        , 1.        , 0.        , 0.        , 0.        ,\n",
       "        0.        , 0.        , 0.        , 0.        , 0.        ,\n",
       "        0.        , 0.        , 1.        , 0.        , 0.        ,\n",
       "        0.        , 0.        , 0.        , 0.        , 0.        ,\n",
       "        0.        , 0.        , 0.        , 0.        , 0.        ,\n",
       "        0.        , 0.        , 0.        , 0.        , 1.        ,\n",
       "        0.        , 0.        , 0.        , 0.        , 0.        ,\n",
       "        0.        , 0.        , 0.        , 0.        , 0.        ,\n",
       "        0.        , 0.        , 0.        , 0.        , 0.        ,\n",
       "        0.        , 0.        , 0.        , 0.        , 0.        ,\n",
       "        0.        , 0.        , 0.        , 0.        , 0.        ,\n",
       "        0.        , 0.        , 0.        , 0.        , 0.        ,\n",
       "        0.        , 0.        , 0.        , 0.        , 0.        ,\n",
       "        0.        , 0.        , 0.        , 0.        , 0.        ,\n",
       "        0.        , 0.        , 0.        , 0.        , 0.        ,\n",
       "        0.        , 0.        , 0.        , 0.        , 0.        ,\n",
       "        0.        , 0.        , 0.        , 0.        , 0.        ,\n",
       "        0.        , 0.        , 0.        , 0.        , 0.        ,\n",
       "        0.        , 0.        , 0.        , 0.        , 0.        ,\n",
       "        0.        , 0.        , 0.        , 0.        , 0.        ,\n",
       "        0.        , 0.        , 0.        , 1.        , 0.        ,\n",
       "        0.        ], dtype=float32),\n",
       " array([1.], dtype=float32))"
      ]
     },
     "execution_count": 202,
     "metadata": {},
     "output_type": "execute_result"
    }
   ],
   "source": [
    "train_dataset[0]"
   ]
  },
  {
   "cell_type": "markdown",
   "metadata": {},
   "source": [
    "### perfect!"
   ]
  },
  {
   "cell_type": "code",
   "execution_count": 203,
   "metadata": {
    "scrolled": true
   },
   "outputs": [
    {
     "data": {
      "text/plain": [
       "1064"
      ]
     },
     "execution_count": 203,
     "metadata": {},
     "output_type": "execute_result"
    }
   ],
   "source": [
    "len(train_dataset)"
   ]
  },
  {
   "cell_type": "code",
   "execution_count": 204,
   "metadata": {},
   "outputs": [
    {
     "data": {
      "text/plain": [
       "263"
      ]
     },
     "execution_count": 204,
     "metadata": {},
     "output_type": "execute_result"
    }
   ],
   "source": [
    "len(test_dataset)"
   ]
  },
  {
   "cell_type": "code",
   "execution_count": 205,
   "metadata": {},
   "outputs": [],
   "source": [
    "from torch.utils.data import DataLoader\n",
    "from torch.utils.data.sampler import SubsetRandomSampler\n",
    "\n",
    "train_size = 1064\n",
    "indices = list(range(train_size))\n",
    "np.random.shuffle(indices)\n",
    "\n",
    "split = int(np.floor(train_size * 0.15)) #get 15% of the training data\n",
    "train_idx, valid_idx = indices[split:], indices[:split]\n",
    "\n",
    "batch_size = 32\n",
    "\n",
    "train_sampler = SubsetRandomSampler(train_idx)\n",
    "valid_sampler = SubsetRandomSampler(valid_idx)\n",
    "\n",
    "loaders = {'train':DataLoader(train_dataset, batch_size=batch_size,\n",
    "    sampler=train_sampler, num_workers=0),\n",
    "                   'valid': DataLoader(train_dataset, batch_size=batch_size, \n",
    "    sampler=valid_sampler, num_workers=0),\n",
    "                   'test': DataLoader(test_dataset, batch_size=batch_size, \n",
    "                                          num_workers=0, shuffle=True, pin_memory=True)}"
   ]
  },
  {
   "cell_type": "code",
   "execution_count": 206,
   "metadata": {},
   "outputs": [
    {
     "name": "stdout",
     "output_type": "stream",
     "text": [
      "tensor([[1.0000, 0.0345, 0.0000,  ..., 1.0000, 0.0000, 0.0000],\n",
      "        [1.0000, 0.1724, 0.0870,  ..., 0.0000, 0.0000, 1.0000],\n",
      "        [0.0000, 1.0000, 0.7681,  ..., 0.0000, 0.0000, 1.0000],\n",
      "        ...,\n",
      "        [1.0000, 0.6207, 0.4783,  ..., 0.0000, 1.0000, 0.0000],\n",
      "        [0.0000, 0.4138, 0.2029,  ..., 1.0000, 0.0000, 0.0000],\n",
      "        [0.0000, 0.1724, 0.1304,  ..., 0.0000, 0.0000, 1.0000]])\n",
      "tensor([[1.],\n",
      "        [1.],\n",
      "        [2.],\n",
      "        [0.],\n",
      "        [0.],\n",
      "        [2.],\n",
      "        [1.],\n",
      "        [0.],\n",
      "        [2.],\n",
      "        [1.],\n",
      "        [1.],\n",
      "        [1.],\n",
      "        [2.],\n",
      "        [1.],\n",
      "        [3.],\n",
      "        [2.],\n",
      "        [3.],\n",
      "        [0.],\n",
      "        [1.],\n",
      "        [0.],\n",
      "        [2.],\n",
      "        [1.],\n",
      "        [2.],\n",
      "        [1.],\n",
      "        [3.],\n",
      "        [0.],\n",
      "        [1.],\n",
      "        [1.],\n",
      "        [2.],\n",
      "        [0.],\n",
      "        [3.],\n",
      "        [1.]])\n"
     ]
    }
   ],
   "source": [
    "for match, outcome in loaders[\"valid\"]:\n",
    "    print(match)\n",
    "    print(outcome)\n",
    "    break"
   ]
  },
  {
   "cell_type": "code",
   "execution_count": 282,
   "metadata": {},
   "outputs": [
    {
     "data": {
      "text/plain": [
       "(256,)"
      ]
     },
     "execution_count": 282,
     "metadata": {},
     "output_type": "execute_result"
    }
   ],
   "source": [
    "train_dataset[0][0].shape"
   ]
  },
  {
   "cell_type": "code",
   "execution_count": 289,
   "metadata": {},
   "outputs": [
    {
     "name": "stdout",
     "output_type": "stream",
     "text": [
      "Net(\n",
      "  (fc1): Linear(in_features=256, out_features=128, bias=True)\n",
      "  (fc2): Linear(in_features=128, out_features=64, bias=True)\n",
      "  (fc3): Linear(in_features=64, out_features=32, bias=True)\n",
      "  (fc4): Linear(in_features=32, out_features=16, bias=True)\n",
      "  (fc5): Linear(in_features=16, out_features=8, bias=True)\n",
      "  (fc6): Linear(in_features=8, out_features=1, bias=True)\n",
      "  (dropout): Dropout(p=0.4, inplace=False)\n",
      ")\n"
     ]
    }
   ],
   "source": [
    "import torch.nn as nn\n",
    "import torch.nn.functional as F\n",
    "\n",
    "class Net(nn.Module):\n",
    "    def __init__(self):\n",
    "        super(Net, self).__init__()\n",
    "        \n",
    "        self.fc1 = nn.Linear(256, 128)\n",
    "        self.fc2 = nn.Linear(128, 64)\n",
    "        self.fc3 = nn.Linear(64, 32)\n",
    "        self.fc4 = nn.Linear(32, 16)\n",
    "        self.fc5 = nn.Linear(16, 8)\n",
    "#         self.fc6 = nn.Linear(8, 4)\n",
    "        self.fc6 = nn.Linear(8, 1)\n",
    "        \n",
    "        self.dropout = nn.Dropout(0.4)\n",
    "        \n",
    "    def forward(self, x):\n",
    "        \n",
    "        x = F.relu(self.fc1(x))\n",
    "        x = self.dropout(x)\n",
    "        x = F.relu(self.fc2(x))\n",
    "        x = self.dropout(x)\n",
    "        x = F.relu(self.fc3(x))\n",
    "        x = self.dropout(x)\n",
    "        x = F.relu(self.fc4(x))\n",
    "        x = self.dropout(x)\n",
    "        x = F.relu(self.fc5(x))\n",
    "#         x = self.dropout(x)\n",
    "#         x = F.relu(self.fc6(x))\n",
    "        x = self.dropout(x)\n",
    "    \n",
    "        x = self.fc6(x)\n",
    "\n",
    "        return x\n",
    "\n",
    "model = Net()\n",
    "print(model)\n",
    "\n",
    "if cuda_available:\n",
    "    model.cuda()"
   ]
  },
  {
   "cell_type": "code",
   "execution_count": 345,
   "metadata": {},
   "outputs": [
    {
     "name": "stdout",
     "output_type": "stream",
     "text": [
      "Net(\n",
      "  (fc1): Linear(in_features=256, out_features=170, bias=True)\n",
      "  (fc2): Linear(in_features=170, out_features=113, bias=True)\n",
      "  (fc3): Linear(in_features=113, out_features=75, bias=True)\n",
      "  (fc4): Linear(in_features=75, out_features=50, bias=True)\n",
      "  (fc5): Linear(in_features=50, out_features=33, bias=True)\n",
      "  (fc6): Linear(in_features=33, out_features=22, bias=True)\n",
      "  (fc7): Linear(in_features=22, out_features=14, bias=True)\n",
      "  (fc8): Linear(in_features=14, out_features=9, bias=True)\n",
      "  (fc9): Linear(in_features=9, out_features=6, bias=True)\n",
      "  (fc10): Linear(in_features=6, out_features=1, bias=True)\n",
      "  (dropout): Dropout(p=0.6, inplace=False)\n",
      ")\n"
     ]
    }
   ],
   "source": [
    "import torch.nn as nn\n",
    "import torch.nn.functional as F\n",
    "\n",
    "class Net(nn.Module):\n",
    "    def __init__(self):\n",
    "        super(Net, self).__init__()\n",
    "        \n",
    "        self.fc1 = nn.Linear(256, 170)\n",
    "        self.fc2 = nn.Linear(170, 113)\n",
    "        self.fc3 = nn.Linear(113, 75)\n",
    "        self.fc4 = nn.Linear(75, 50)\n",
    "        self.fc5 = nn.Linear(50, 33)\n",
    "        self.fc6 = nn.Linear(33, 22)\n",
    "        self.fc7 = nn.Linear(22, 14)\n",
    "        self.fc8 = nn.Linear(14, 9)\n",
    "        self.fc9 = nn.Linear(9, 6)\n",
    "        self.fc10 = nn.Linear(6, 1)\n",
    "        \n",
    "        self.dropout = nn.Dropout(0.6)\n",
    "        \n",
    "    def forward(self, x):\n",
    "        \n",
    "        x = F.relu(self.fc1(x))\n",
    "        x = self.dropout(x)\n",
    "        x = F.relu(self.fc2(x))\n",
    "        x = self.dropout(x)\n",
    "        x = F.relu(self.fc3(x))\n",
    "        x = self.dropout(x)\n",
    "        x = F.relu(self.fc4(x))\n",
    "        x = self.dropout(x)\n",
    "        x = F.relu(self.fc5(x))\n",
    "        x = self.dropout(x)\n",
    "        x = F.relu(self.fc6(x))\n",
    "        x = self.dropout(x)\n",
    "        x = F.relu(self.fc7(x))\n",
    "        x = self.dropout(x)\n",
    "        x = F.relu(self.fc8(x))\n",
    "        x = self.dropout(x)\n",
    "        x = F.relu(self.fc9(x))\n",
    "        x = self.dropout(x)\n",
    "\n",
    "        x = self.fc10(x)\n",
    "\n",
    "        return x\n",
    "\n",
    "model = Net()\n",
    "print(model)\n",
    "\n",
    "if cuda_available:\n",
    "    model.cuda()"
   ]
  },
  {
   "cell_type": "code",
   "execution_count": 346,
   "metadata": {},
   "outputs": [],
   "source": [
    "criterion = torch.nn.MSELoss()\n",
    "\n",
    "\n",
    "optimizer = torch.optim.SGD(model.parameters(), lr = 0.001)\n"
   ]
  },
  {
   "cell_type": "markdown",
   "metadata": {},
   "source": [
    "As we train we'll keep an eye on the validation loss"
   ]
  },
  {
   "cell_type": "code",
   "execution_count": 347,
   "metadata": {},
   "outputs": [
    {
     "name": "stdout",
     "output_type": "stream",
     "text": [
      "Epoch: 1 \tTraining Loss: 1.755447 \tValidation Loss: 0.298532\n",
      "Validation loss decreased (inf --> 0.298532).  Saving model ...\n",
      "Epoch: 2 \tTraining Loss: 1.628073 \tValidation Loss: 0.276531\n",
      "Validation loss decreased (0.298532 --> 0.276531).  Saving model ...\n",
      "Epoch: 3 \tTraining Loss: 1.513330 \tValidation Loss: 0.257593\n",
      "Validation loss decreased (0.276531 --> 0.257593).  Saving model ...\n",
      "Epoch: 4 \tTraining Loss: 1.408167 \tValidation Loss: 0.242211\n",
      "Validation loss decreased (0.257593 --> 0.242211).  Saving model ...\n",
      "Epoch: 5 \tTraining Loss: 1.331793 \tValidation Loss: 0.229255\n",
      "Validation loss decreased (0.242211 --> 0.229255).  Saving model ...\n",
      "Epoch: 6 \tTraining Loss: 1.264035 \tValidation Loss: 0.218304\n",
      "Validation loss decreased (0.229255 --> 0.218304).  Saving model ...\n",
      "Epoch: 7 \tTraining Loss: 1.201668 \tValidation Loss: 0.208443\n",
      "Validation loss decreased (0.218304 --> 0.208443).  Saving model ...\n",
      "Epoch: 8 \tTraining Loss: 1.145523 \tValidation Loss: 0.199858\n",
      "Validation loss decreased (0.208443 --> 0.199858).  Saving model ...\n",
      "Epoch: 9 \tTraining Loss: 1.102687 \tValidation Loss: 0.192417\n",
      "Validation loss decreased (0.199858 --> 0.192417).  Saving model ...\n",
      "Epoch: 10 \tTraining Loss: 1.059893 \tValidation Loss: 0.185592\n",
      "Validation loss decreased (0.192417 --> 0.185592).  Saving model ...\n",
      "Epoch: 11 \tTraining Loss: 1.026789 \tValidation Loss: 0.179632\n",
      "Validation loss decreased (0.185592 --> 0.179632).  Saving model ...\n",
      "Epoch: 12 \tTraining Loss: 0.994257 \tValidation Loss: 0.174506\n",
      "Validation loss decreased (0.179632 --> 0.174506).  Saving model ...\n",
      "Epoch: 13 \tTraining Loss: 0.969474 \tValidation Loss: 0.169861\n",
      "Validation loss decreased (0.174506 --> 0.169861).  Saving model ...\n",
      "Epoch: 14 \tTraining Loss: 0.944282 \tValidation Loss: 0.165858\n",
      "Validation loss decreased (0.169861 --> 0.165858).  Saving model ...\n",
      "Epoch: 15 \tTraining Loss: 0.922384 \tValidation Loss: 0.162187\n",
      "Validation loss decreased (0.165858 --> 0.162187).  Saving model ...\n",
      "Epoch: 16 \tTraining Loss: 0.894966 \tValidation Loss: 0.158971\n",
      "Validation loss decreased (0.162187 --> 0.158971).  Saving model ...\n",
      "Epoch: 17 \tTraining Loss: 0.884248 \tValidation Loss: 0.156195\n",
      "Validation loss decreased (0.158971 --> 0.156195).  Saving model ...\n",
      "Epoch: 18 \tTraining Loss: 0.863649 \tValidation Loss: 0.153803\n",
      "Validation loss decreased (0.156195 --> 0.153803).  Saving model ...\n",
      "Epoch: 19 \tTraining Loss: 0.857015 \tValidation Loss: 0.151616\n",
      "Validation loss decreased (0.153803 --> 0.151616).  Saving model ...\n",
      "Epoch: 20 \tTraining Loss: 0.846568 \tValidation Loss: 0.149609\n",
      "Validation loss decreased (0.151616 --> 0.149609).  Saving model ...\n",
      "Epoch: 21 \tTraining Loss: 0.837215 \tValidation Loss: 0.147873\n",
      "Validation loss decreased (0.149609 --> 0.147873).  Saving model ...\n",
      "Epoch: 22 \tTraining Loss: 0.828224 \tValidation Loss: 0.146348\n",
      "Validation loss decreased (0.147873 --> 0.146348).  Saving model ...\n",
      "Epoch: 23 \tTraining Loss: 0.815905 \tValidation Loss: 0.144978\n",
      "Validation loss decreased (0.146348 --> 0.144978).  Saving model ...\n",
      "Epoch: 24 \tTraining Loss: 0.811797 \tValidation Loss: 0.143883\n",
      "Validation loss decreased (0.144978 --> 0.143883).  Saving model ...\n",
      "Epoch: 25 \tTraining Loss: 0.803570 \tValidation Loss: 0.142905\n",
      "Validation loss decreased (0.143883 --> 0.142905).  Saving model ...\n",
      "Epoch: 26 \tTraining Loss: 0.801253 \tValidation Loss: 0.141991\n",
      "Validation loss decreased (0.142905 --> 0.141991).  Saving model ...\n",
      "Epoch: 27 \tTraining Loss: 0.796146 \tValidation Loss: 0.141183\n",
      "Validation loss decreased (0.141991 --> 0.141183).  Saving model ...\n",
      "Epoch: 28 \tTraining Loss: 0.797142 \tValidation Loss: 0.140480\n",
      "Validation loss decreased (0.141183 --> 0.140480).  Saving model ...\n",
      "Epoch: 29 \tTraining Loss: 0.785599 \tValidation Loss: 0.139854\n",
      "Validation loss decreased (0.140480 --> 0.139854).  Saving model ...\n",
      "Epoch: 30 \tTraining Loss: 0.786619 \tValidation Loss: 0.139305\n",
      "Validation loss decreased (0.139854 --> 0.139305).  Saving model ...\n",
      "Epoch: 31 \tTraining Loss: 0.782394 \tValidation Loss: 0.138814\n",
      "Validation loss decreased (0.139305 --> 0.138814).  Saving model ...\n",
      "Epoch: 32 \tTraining Loss: 0.780635 \tValidation Loss: 0.138408\n",
      "Validation loss decreased (0.138814 --> 0.138408).  Saving model ...\n",
      "Epoch: 33 \tTraining Loss: 0.780213 \tValidation Loss: 0.138049\n",
      "Validation loss decreased (0.138408 --> 0.138049).  Saving model ...\n",
      "Epoch: 34 \tTraining Loss: 0.774995 \tValidation Loss: 0.137687\n",
      "Validation loss decreased (0.138049 --> 0.137687).  Saving model ...\n",
      "Epoch: 35 \tTraining Loss: 0.769909 \tValidation Loss: 0.137371\n",
      "Validation loss decreased (0.137687 --> 0.137371).  Saving model ...\n",
      "Epoch: 36 \tTraining Loss: 0.768971 \tValidation Loss: 0.137074\n",
      "Validation loss decreased (0.137371 --> 0.137074).  Saving model ...\n",
      "Epoch: 37 \tTraining Loss: 0.763606 \tValidation Loss: 0.136815\n",
      "Validation loss decreased (0.137074 --> 0.136815).  Saving model ...\n",
      "Epoch: 38 \tTraining Loss: 0.771117 \tValidation Loss: 0.136591\n",
      "Validation loss decreased (0.136815 --> 0.136591).  Saving model ...\n",
      "Epoch: 39 \tTraining Loss: 0.771928 \tValidation Loss: 0.136421\n",
      "Validation loss decreased (0.136591 --> 0.136421).  Saving model ...\n",
      "Epoch: 40 \tTraining Loss: 0.763167 \tValidation Loss: 0.136224\n",
      "Validation loss decreased (0.136421 --> 0.136224).  Saving model ...\n",
      "Epoch: 41 \tTraining Loss: 0.760599 \tValidation Loss: 0.136066\n",
      "Validation loss decreased (0.136224 --> 0.136066).  Saving model ...\n",
      "Epoch: 42 \tTraining Loss: 0.768112 \tValidation Loss: 0.135952\n",
      "Validation loss decreased (0.136066 --> 0.135952).  Saving model ...\n",
      "Epoch: 43 \tTraining Loss: 0.770531 \tValidation Loss: 0.135839\n",
      "Validation loss decreased (0.135952 --> 0.135839).  Saving model ...\n",
      "Epoch: 44 \tTraining Loss: 0.760331 \tValidation Loss: 0.135737\n",
      "Validation loss decreased (0.135839 --> 0.135737).  Saving model ...\n",
      "Epoch: 45 \tTraining Loss: 0.763716 \tValidation Loss: 0.135653\n",
      "Validation loss decreased (0.135737 --> 0.135653).  Saving model ...\n",
      "Epoch: 46 \tTraining Loss: 0.771778 \tValidation Loss: 0.135583\n",
      "Validation loss decreased (0.135653 --> 0.135583).  Saving model ...\n",
      "Epoch: 47 \tTraining Loss: 0.771033 \tValidation Loss: 0.135530\n",
      "Validation loss decreased (0.135583 --> 0.135530).  Saving model ...\n",
      "Epoch: 48 \tTraining Loss: 0.756857 \tValidation Loss: 0.135476\n",
      "Validation loss decreased (0.135530 --> 0.135476).  Saving model ...\n",
      "Epoch: 49 \tTraining Loss: 0.759210 \tValidation Loss: 0.135382\n",
      "Validation loss decreased (0.135476 --> 0.135382).  Saving model ...\n",
      "Epoch: 50 \tTraining Loss: 0.761786 \tValidation Loss: 0.135338\n",
      "Validation loss decreased (0.135382 --> 0.135338).  Saving model ...\n",
      "Epoch: 51 \tTraining Loss: 0.762378 \tValidation Loss: 0.135285\n",
      "Validation loss decreased (0.135338 --> 0.135285).  Saving model ...\n",
      "Epoch: 52 \tTraining Loss: 0.756267 \tValidation Loss: 0.135234\n",
      "Validation loss decreased (0.135285 --> 0.135234).  Saving model ...\n",
      "Epoch: 53 \tTraining Loss: 0.763594 \tValidation Loss: 0.135221\n",
      "Validation loss decreased (0.135234 --> 0.135221).  Saving model ...\n",
      "Epoch: 54 \tTraining Loss: 0.757963 \tValidation Loss: 0.135179\n",
      "Validation loss decreased (0.135221 --> 0.135179).  Saving model ...\n",
      "Epoch: 55 \tTraining Loss: 0.757927 \tValidation Loss: 0.135135\n",
      "Validation loss decreased (0.135179 --> 0.135135).  Saving model ...\n",
      "Epoch: 56 \tTraining Loss: 0.767886 \tValidation Loss: 0.135132\n",
      "Validation loss decreased (0.135135 --> 0.135132).  Saving model ...\n",
      "Epoch: 57 \tTraining Loss: 0.759710 \tValidation Loss: 0.135097\n",
      "Validation loss decreased (0.135132 --> 0.135097).  Saving model ...\n",
      "Epoch: 58 \tTraining Loss: 0.760196 \tValidation Loss: 0.135077\n",
      "Validation loss decreased (0.135097 --> 0.135077).  Saving model ...\n",
      "Epoch: 59 \tTraining Loss: 0.754640 \tValidation Loss: 0.135062\n",
      "Validation loss decreased (0.135077 --> 0.135062).  Saving model ...\n",
      "Epoch: 60 \tTraining Loss: 0.765416 \tValidation Loss: 0.135046\n",
      "Validation loss decreased (0.135062 --> 0.135046).  Saving model ...\n",
      "Epoch: 61 \tTraining Loss: 0.753696 \tValidation Loss: 0.135013\n",
      "Validation loss decreased (0.135046 --> 0.135013).  Saving model ...\n",
      "Epoch: 62 \tTraining Loss: 0.761715 \tValidation Loss: 0.135005\n",
      "Validation loss decreased (0.135013 --> 0.135005).  Saving model ...\n",
      "Epoch: 63 \tTraining Loss: 0.759890 \tValidation Loss: 0.134992\n",
      "Validation loss decreased (0.135005 --> 0.134992).  Saving model ...\n"
     ]
    },
    {
     "name": "stdout",
     "output_type": "stream",
     "text": [
      "Epoch: 64 \tTraining Loss: 0.755857 \tValidation Loss: 0.134978\n",
      "Validation loss decreased (0.134992 --> 0.134978).  Saving model ...\n",
      "Epoch: 65 \tTraining Loss: 0.756657 \tValidation Loss: 0.134967\n",
      "Validation loss decreased (0.134978 --> 0.134967).  Saving model ...\n",
      "Epoch: 66 \tTraining Loss: 0.758283 \tValidation Loss: 0.134951\n",
      "Validation loss decreased (0.134967 --> 0.134951).  Saving model ...\n",
      "Epoch: 67 \tTraining Loss: 0.757086 \tValidation Loss: 0.134947\n",
      "Validation loss decreased (0.134951 --> 0.134947).  Saving model ...\n",
      "Epoch: 68 \tTraining Loss: 0.758786 \tValidation Loss: 0.134935\n",
      "Validation loss decreased (0.134947 --> 0.134935).  Saving model ...\n",
      "Epoch: 69 \tTraining Loss: 0.753675 \tValidation Loss: 0.134933\n",
      "Validation loss decreased (0.134935 --> 0.134933).  Saving model ...\n"
     ]
    },
    {
     "ename": "KeyboardInterrupt",
     "evalue": "",
     "output_type": "error",
     "traceback": [
      "\u001b[0;31m---------------------------------------------------------------------------\u001b[0m",
      "\u001b[0;31mKeyboardInterrupt\u001b[0m                         Traceback (most recent call last)",
      "\u001b[0;32m<ipython-input-347-68b2a87909bf>\u001b[0m in \u001b[0;36m<module>\u001b[0;34m\u001b[0m\n\u001b[1;32m     14\u001b[0m     \u001b[0;31m###################\u001b[0m\u001b[0;34m\u001b[0m\u001b[0;34m\u001b[0m\u001b[0;34m\u001b[0m\u001b[0m\n\u001b[1;32m     15\u001b[0m     \u001b[0mmodel\u001b[0m\u001b[0;34m.\u001b[0m\u001b[0mtrain\u001b[0m\u001b[0;34m(\u001b[0m\u001b[0;34m)\u001b[0m\u001b[0;34m\u001b[0m\u001b[0;34m\u001b[0m\u001b[0m\n\u001b[0;32m---> 16\u001b[0;31m     \u001b[0;32mfor\u001b[0m \u001b[0mmatches\u001b[0m\u001b[0;34m,\u001b[0m \u001b[0moutcomes\u001b[0m \u001b[0;32min\u001b[0m \u001b[0mloaders\u001b[0m\u001b[0;34m[\u001b[0m\u001b[0;34m\"train\"\u001b[0m\u001b[0;34m]\u001b[0m\u001b[0;34m:\u001b[0m\u001b[0;34m\u001b[0m\u001b[0;34m\u001b[0m\u001b[0m\n\u001b[0m\u001b[1;32m     17\u001b[0m         \u001b[0;31m# move tensors to GPU if CUDA is available\u001b[0m\u001b[0;34m\u001b[0m\u001b[0;34m\u001b[0m\u001b[0;34m\u001b[0m\u001b[0m\n\u001b[1;32m     18\u001b[0m         \u001b[0;32mif\u001b[0m \u001b[0mcuda_available\u001b[0m\u001b[0;34m:\u001b[0m\u001b[0;34m\u001b[0m\u001b[0;34m\u001b[0m\u001b[0m\n",
      "\u001b[0;32m~/anaconda3/lib/python3.7/site-packages/torch/utils/data/dataloader.py\u001b[0m in \u001b[0;36m__next__\u001b[0;34m(self)\u001b[0m\n\u001b[1;32m    519\u001b[0m             \u001b[0;32mif\u001b[0m \u001b[0mself\u001b[0m\u001b[0;34m.\u001b[0m\u001b[0m_sampler_iter\u001b[0m \u001b[0;32mis\u001b[0m \u001b[0;32mNone\u001b[0m\u001b[0;34m:\u001b[0m\u001b[0;34m\u001b[0m\u001b[0;34m\u001b[0m\u001b[0m\n\u001b[1;32m    520\u001b[0m                 \u001b[0mself\u001b[0m\u001b[0;34m.\u001b[0m\u001b[0m_reset\u001b[0m\u001b[0;34m(\u001b[0m\u001b[0;34m)\u001b[0m\u001b[0;34m\u001b[0m\u001b[0;34m\u001b[0m\u001b[0m\n\u001b[0;32m--> 521\u001b[0;31m             \u001b[0mdata\u001b[0m \u001b[0;34m=\u001b[0m \u001b[0mself\u001b[0m\u001b[0;34m.\u001b[0m\u001b[0m_next_data\u001b[0m\u001b[0;34m(\u001b[0m\u001b[0;34m)\u001b[0m\u001b[0;34m\u001b[0m\u001b[0;34m\u001b[0m\u001b[0m\n\u001b[0m\u001b[1;32m    522\u001b[0m             \u001b[0mself\u001b[0m\u001b[0;34m.\u001b[0m\u001b[0m_num_yielded\u001b[0m \u001b[0;34m+=\u001b[0m \u001b[0;36m1\u001b[0m\u001b[0;34m\u001b[0m\u001b[0;34m\u001b[0m\u001b[0m\n\u001b[1;32m    523\u001b[0m             \u001b[0;32mif\u001b[0m \u001b[0mself\u001b[0m\u001b[0;34m.\u001b[0m\u001b[0m_dataset_kind\u001b[0m \u001b[0;34m==\u001b[0m \u001b[0m_DatasetKind\u001b[0m\u001b[0;34m.\u001b[0m\u001b[0mIterable\u001b[0m \u001b[0;32mand\u001b[0m\u001b[0;31m \u001b[0m\u001b[0;31m\\\u001b[0m\u001b[0;34m\u001b[0m\u001b[0;34m\u001b[0m\u001b[0m\n",
      "\u001b[0;32m~/anaconda3/lib/python3.7/site-packages/torch/utils/data/dataloader.py\u001b[0m in \u001b[0;36m_next_data\u001b[0;34m(self)\u001b[0m\n\u001b[1;32m    559\u001b[0m     \u001b[0;32mdef\u001b[0m \u001b[0m_next_data\u001b[0m\u001b[0;34m(\u001b[0m\u001b[0mself\u001b[0m\u001b[0;34m)\u001b[0m\u001b[0;34m:\u001b[0m\u001b[0;34m\u001b[0m\u001b[0;34m\u001b[0m\u001b[0m\n\u001b[1;32m    560\u001b[0m         \u001b[0mindex\u001b[0m \u001b[0;34m=\u001b[0m \u001b[0mself\u001b[0m\u001b[0;34m.\u001b[0m\u001b[0m_next_index\u001b[0m\u001b[0;34m(\u001b[0m\u001b[0;34m)\u001b[0m  \u001b[0;31m# may raise StopIteration\u001b[0m\u001b[0;34m\u001b[0m\u001b[0;34m\u001b[0m\u001b[0m\n\u001b[0;32m--> 561\u001b[0;31m         \u001b[0mdata\u001b[0m \u001b[0;34m=\u001b[0m \u001b[0mself\u001b[0m\u001b[0;34m.\u001b[0m\u001b[0m_dataset_fetcher\u001b[0m\u001b[0;34m.\u001b[0m\u001b[0mfetch\u001b[0m\u001b[0;34m(\u001b[0m\u001b[0mindex\u001b[0m\u001b[0;34m)\u001b[0m  \u001b[0;31m# may raise StopIteration\u001b[0m\u001b[0;34m\u001b[0m\u001b[0;34m\u001b[0m\u001b[0m\n\u001b[0m\u001b[1;32m    562\u001b[0m         \u001b[0;32mif\u001b[0m \u001b[0mself\u001b[0m\u001b[0;34m.\u001b[0m\u001b[0m_pin_memory\u001b[0m\u001b[0;34m:\u001b[0m\u001b[0;34m\u001b[0m\u001b[0;34m\u001b[0m\u001b[0m\n\u001b[1;32m    563\u001b[0m             \u001b[0mdata\u001b[0m \u001b[0;34m=\u001b[0m \u001b[0m_utils\u001b[0m\u001b[0;34m.\u001b[0m\u001b[0mpin_memory\u001b[0m\u001b[0;34m.\u001b[0m\u001b[0mpin_memory\u001b[0m\u001b[0;34m(\u001b[0m\u001b[0mdata\u001b[0m\u001b[0;34m)\u001b[0m\u001b[0;34m\u001b[0m\u001b[0;34m\u001b[0m\u001b[0m\n",
      "\u001b[0;32m~/anaconda3/lib/python3.7/site-packages/torch/utils/data/_utils/fetch.py\u001b[0m in \u001b[0;36mfetch\u001b[0;34m(self, possibly_batched_index)\u001b[0m\n\u001b[1;32m     42\u001b[0m     \u001b[0;32mdef\u001b[0m \u001b[0mfetch\u001b[0m\u001b[0;34m(\u001b[0m\u001b[0mself\u001b[0m\u001b[0;34m,\u001b[0m \u001b[0mpossibly_batched_index\u001b[0m\u001b[0;34m)\u001b[0m\u001b[0;34m:\u001b[0m\u001b[0;34m\u001b[0m\u001b[0;34m\u001b[0m\u001b[0m\n\u001b[1;32m     43\u001b[0m         \u001b[0;32mif\u001b[0m \u001b[0mself\u001b[0m\u001b[0;34m.\u001b[0m\u001b[0mauto_collation\u001b[0m\u001b[0;34m:\u001b[0m\u001b[0;34m\u001b[0m\u001b[0;34m\u001b[0m\u001b[0m\n\u001b[0;32m---> 44\u001b[0;31m             \u001b[0mdata\u001b[0m \u001b[0;34m=\u001b[0m \u001b[0;34m[\u001b[0m\u001b[0mself\u001b[0m\u001b[0;34m.\u001b[0m\u001b[0mdataset\u001b[0m\u001b[0;34m[\u001b[0m\u001b[0midx\u001b[0m\u001b[0;34m]\u001b[0m \u001b[0;32mfor\u001b[0m \u001b[0midx\u001b[0m \u001b[0;32min\u001b[0m \u001b[0mpossibly_batched_index\u001b[0m\u001b[0;34m]\u001b[0m\u001b[0;34m\u001b[0m\u001b[0;34m\u001b[0m\u001b[0m\n\u001b[0m\u001b[1;32m     45\u001b[0m         \u001b[0;32melse\u001b[0m\u001b[0;34m:\u001b[0m\u001b[0;34m\u001b[0m\u001b[0;34m\u001b[0m\u001b[0m\n\u001b[1;32m     46\u001b[0m             \u001b[0mdata\u001b[0m \u001b[0;34m=\u001b[0m \u001b[0mself\u001b[0m\u001b[0;34m.\u001b[0m\u001b[0mdataset\u001b[0m\u001b[0;34m[\u001b[0m\u001b[0mpossibly_batched_index\u001b[0m\u001b[0;34m]\u001b[0m\u001b[0;34m\u001b[0m\u001b[0;34m\u001b[0m\u001b[0m\n",
      "\u001b[0;32m~/anaconda3/lib/python3.7/site-packages/torch/utils/data/_utils/fetch.py\u001b[0m in \u001b[0;36m<listcomp>\u001b[0;34m(.0)\u001b[0m\n\u001b[1;32m     42\u001b[0m     \u001b[0;32mdef\u001b[0m \u001b[0mfetch\u001b[0m\u001b[0;34m(\u001b[0m\u001b[0mself\u001b[0m\u001b[0;34m,\u001b[0m \u001b[0mpossibly_batched_index\u001b[0m\u001b[0;34m)\u001b[0m\u001b[0;34m:\u001b[0m\u001b[0;34m\u001b[0m\u001b[0;34m\u001b[0m\u001b[0m\n\u001b[1;32m     43\u001b[0m         \u001b[0;32mif\u001b[0m \u001b[0mself\u001b[0m\u001b[0;34m.\u001b[0m\u001b[0mauto_collation\u001b[0m\u001b[0;34m:\u001b[0m\u001b[0;34m\u001b[0m\u001b[0;34m\u001b[0m\u001b[0m\n\u001b[0;32m---> 44\u001b[0;31m             \u001b[0mdata\u001b[0m \u001b[0;34m=\u001b[0m \u001b[0;34m[\u001b[0m\u001b[0mself\u001b[0m\u001b[0;34m.\u001b[0m\u001b[0mdataset\u001b[0m\u001b[0;34m[\u001b[0m\u001b[0midx\u001b[0m\u001b[0;34m]\u001b[0m \u001b[0;32mfor\u001b[0m \u001b[0midx\u001b[0m \u001b[0;32min\u001b[0m \u001b[0mpossibly_batched_index\u001b[0m\u001b[0;34m]\u001b[0m\u001b[0;34m\u001b[0m\u001b[0;34m\u001b[0m\u001b[0m\n\u001b[0m\u001b[1;32m     45\u001b[0m         \u001b[0;32melse\u001b[0m\u001b[0;34m:\u001b[0m\u001b[0;34m\u001b[0m\u001b[0;34m\u001b[0m\u001b[0m\n\u001b[1;32m     46\u001b[0m             \u001b[0mdata\u001b[0m \u001b[0;34m=\u001b[0m \u001b[0mself\u001b[0m\u001b[0;34m.\u001b[0m\u001b[0mdataset\u001b[0m\u001b[0;34m[\u001b[0m\u001b[0mpossibly_batched_index\u001b[0m\u001b[0;34m]\u001b[0m\u001b[0;34m\u001b[0m\u001b[0;34m\u001b[0m\u001b[0m\n",
      "\u001b[0;32m<ipython-input-200-b9a3e03004a8>\u001b[0m in \u001b[0;36m__getitem__\u001b[0;34m(self, index)\u001b[0m\n\u001b[1;32m     17\u001b[0m         \u001b[0;31m# so you can convert numpy ndarray shape to tensor in PyTorch (H, W, C) --> (C, H, W)\u001b[0m\u001b[0;34m\u001b[0m\u001b[0;34m\u001b[0m\u001b[0;34m\u001b[0m\u001b[0m\n\u001b[1;32m     18\u001b[0m \u001b[0;34m\u001b[0m\u001b[0m\n\u001b[0;32m---> 19\u001b[0;31m         \u001b[0moutcome\u001b[0m \u001b[0;34m=\u001b[0m \u001b[0mself\u001b[0m\u001b[0;34m.\u001b[0m\u001b[0mdata\u001b[0m\u001b[0;34m.\u001b[0m\u001b[0mloc\u001b[0m\u001b[0;34m[\u001b[0m\u001b[0mindex\u001b[0m\u001b[0;34m,\u001b[0m \u001b[0;34m[\u001b[0m\u001b[0;34m\"team_goals\"\u001b[0m\u001b[0;34m]\u001b[0m\u001b[0;34m]\u001b[0m\u001b[0;34m.\u001b[0m\u001b[0mvalues\u001b[0m\u001b[0;34m.\u001b[0m\u001b[0mastype\u001b[0m\u001b[0;34m(\u001b[0m\u001b[0mnp\u001b[0m\u001b[0;34m.\u001b[0m\u001b[0mfloat32\u001b[0m\u001b[0;34m)\u001b[0m\u001b[0;34m\u001b[0m\u001b[0;34m\u001b[0m\u001b[0m\n\u001b[0m\u001b[1;32m     20\u001b[0m \u001b[0;34m\u001b[0m\u001b[0m\n\u001b[1;32m     21\u001b[0m         \u001b[0mmatch\u001b[0m \u001b[0;34m=\u001b[0m \u001b[0mself\u001b[0m\u001b[0;34m.\u001b[0m\u001b[0mdata\u001b[0m\u001b[0;34m.\u001b[0m\u001b[0mdrop\u001b[0m\u001b[0;34m(\u001b[0m\u001b[0mcolumns\u001b[0m\u001b[0;34m=\u001b[0m\u001b[0;34m[\u001b[0m\u001b[0;34m\"team_goals\"\u001b[0m\u001b[0;34m,\u001b[0m \u001b[0;34m\"opponent_goals\"\u001b[0m\u001b[0;34m]\u001b[0m\u001b[0;34m)\u001b[0m\u001b[0;34m.\u001b[0m\u001b[0miloc\u001b[0m\u001b[0;34m[\u001b[0m\u001b[0mindex\u001b[0m\u001b[0;34m]\u001b[0m\u001b[0;34m.\u001b[0m\u001b[0mvalues\u001b[0m\u001b[0;34m.\u001b[0m\u001b[0mastype\u001b[0m\u001b[0;34m(\u001b[0m\u001b[0mnp\u001b[0m\u001b[0;34m.\u001b[0m\u001b[0mfloat32\u001b[0m\u001b[0;34m)\u001b[0m\u001b[0;34m\u001b[0m\u001b[0;34m\u001b[0m\u001b[0m\n",
      "\u001b[0;32m~/anaconda3/lib/python3.7/site-packages/pandas/core/indexing.py\u001b[0m in \u001b[0;36m__getitem__\u001b[0;34m(self, key)\u001b[0m\n\u001b[1;32m    887\u001b[0m                     \u001b[0;31m# AttributeError for IntervalTree get_value\u001b[0m\u001b[0;34m\u001b[0m\u001b[0;34m\u001b[0m\u001b[0;34m\u001b[0m\u001b[0m\n\u001b[1;32m    888\u001b[0m                     \u001b[0;32mreturn\u001b[0m \u001b[0mself\u001b[0m\u001b[0;34m.\u001b[0m\u001b[0mobj\u001b[0m\u001b[0;34m.\u001b[0m\u001b[0m_get_value\u001b[0m\u001b[0;34m(\u001b[0m\u001b[0;34m*\u001b[0m\u001b[0mkey\u001b[0m\u001b[0;34m,\u001b[0m \u001b[0mtakeable\u001b[0m\u001b[0;34m=\u001b[0m\u001b[0mself\u001b[0m\u001b[0;34m.\u001b[0m\u001b[0m_takeable\u001b[0m\u001b[0;34m)\u001b[0m\u001b[0;34m\u001b[0m\u001b[0;34m\u001b[0m\u001b[0m\n\u001b[0;32m--> 889\u001b[0;31m             \u001b[0;32mreturn\u001b[0m \u001b[0mself\u001b[0m\u001b[0;34m.\u001b[0m\u001b[0m_getitem_tuple\u001b[0m\u001b[0;34m(\u001b[0m\u001b[0mkey\u001b[0m\u001b[0;34m)\u001b[0m\u001b[0;34m\u001b[0m\u001b[0;34m\u001b[0m\u001b[0m\n\u001b[0m\u001b[1;32m    890\u001b[0m         \u001b[0;32melse\u001b[0m\u001b[0;34m:\u001b[0m\u001b[0;34m\u001b[0m\u001b[0;34m\u001b[0m\u001b[0m\n\u001b[1;32m    891\u001b[0m             \u001b[0;31m# we by definition only have the 0th axis\u001b[0m\u001b[0;34m\u001b[0m\u001b[0;34m\u001b[0m\u001b[0;34m\u001b[0m\u001b[0m\n",
      "\u001b[0;32m~/anaconda3/lib/python3.7/site-packages/pandas/core/indexing.py\u001b[0m in \u001b[0;36m_getitem_tuple\u001b[0;34m(self, tup)\u001b[0m\n\u001b[1;32m   1058\u001b[0m     \u001b[0;32mdef\u001b[0m \u001b[0m_getitem_tuple\u001b[0m\u001b[0;34m(\u001b[0m\u001b[0mself\u001b[0m\u001b[0;34m,\u001b[0m \u001b[0mtup\u001b[0m\u001b[0;34m:\u001b[0m \u001b[0mTuple\u001b[0m\u001b[0;34m)\u001b[0m\u001b[0;34m:\u001b[0m\u001b[0;34m\u001b[0m\u001b[0;34m\u001b[0m\u001b[0m\n\u001b[1;32m   1059\u001b[0m         \u001b[0;32mwith\u001b[0m \u001b[0msuppress\u001b[0m\u001b[0;34m(\u001b[0m\u001b[0mIndexingError\u001b[0m\u001b[0;34m)\u001b[0m\u001b[0;34m:\u001b[0m\u001b[0;34m\u001b[0m\u001b[0;34m\u001b[0m\u001b[0m\n\u001b[0;32m-> 1060\u001b[0;31m             \u001b[0;32mreturn\u001b[0m \u001b[0mself\u001b[0m\u001b[0;34m.\u001b[0m\u001b[0m_getitem_lowerdim\u001b[0m\u001b[0;34m(\u001b[0m\u001b[0mtup\u001b[0m\u001b[0;34m)\u001b[0m\u001b[0;34m\u001b[0m\u001b[0;34m\u001b[0m\u001b[0m\n\u001b[0m\u001b[1;32m   1061\u001b[0m \u001b[0;34m\u001b[0m\u001b[0m\n\u001b[1;32m   1062\u001b[0m         \u001b[0;31m# no multi-index, so validate all of the indexers\u001b[0m\u001b[0;34m\u001b[0m\u001b[0;34m\u001b[0m\u001b[0;34m\u001b[0m\u001b[0m\n",
      "\u001b[0;32m~/anaconda3/lib/python3.7/site-packages/pandas/core/indexing.py\u001b[0m in \u001b[0;36m_getitem_lowerdim\u001b[0;34m(self, tup)\u001b[0m\n\u001b[1;32m    829\u001b[0m                     \u001b[0;32mreturn\u001b[0m \u001b[0msection\u001b[0m\u001b[0;34m\u001b[0m\u001b[0;34m\u001b[0m\u001b[0m\n\u001b[1;32m    830\u001b[0m                 \u001b[0;31m# This is an elided recursive call to iloc/loc\u001b[0m\u001b[0;34m\u001b[0m\u001b[0;34m\u001b[0m\u001b[0;34m\u001b[0m\u001b[0m\n\u001b[0;32m--> 831\u001b[0;31m                 \u001b[0;32mreturn\u001b[0m \u001b[0mgetattr\u001b[0m\u001b[0;34m(\u001b[0m\u001b[0msection\u001b[0m\u001b[0;34m,\u001b[0m \u001b[0mself\u001b[0m\u001b[0;34m.\u001b[0m\u001b[0mname\u001b[0m\u001b[0;34m)\u001b[0m\u001b[0;34m[\u001b[0m\u001b[0mnew_key\u001b[0m\u001b[0;34m]\u001b[0m\u001b[0;34m\u001b[0m\u001b[0;34m\u001b[0m\u001b[0m\n\u001b[0m\u001b[1;32m    832\u001b[0m \u001b[0;34m\u001b[0m\u001b[0m\n\u001b[1;32m    833\u001b[0m         \u001b[0;32mraise\u001b[0m \u001b[0mIndexingError\u001b[0m\u001b[0;34m(\u001b[0m\u001b[0;34m\"not applicable\"\u001b[0m\u001b[0;34m)\u001b[0m\u001b[0;34m\u001b[0m\u001b[0;34m\u001b[0m\u001b[0m\n",
      "\u001b[0;32m~/anaconda3/lib/python3.7/site-packages/pandas/core/indexing.py\u001b[0m in \u001b[0;36m__getitem__\u001b[0;34m(self, key)\u001b[0m\n\u001b[1;32m    893\u001b[0m \u001b[0;34m\u001b[0m\u001b[0m\n\u001b[1;32m    894\u001b[0m             \u001b[0mmaybe_callable\u001b[0m \u001b[0;34m=\u001b[0m \u001b[0mcom\u001b[0m\u001b[0;34m.\u001b[0m\u001b[0mapply_if_callable\u001b[0m\u001b[0;34m(\u001b[0m\u001b[0mkey\u001b[0m\u001b[0;34m,\u001b[0m \u001b[0mself\u001b[0m\u001b[0;34m.\u001b[0m\u001b[0mobj\u001b[0m\u001b[0;34m)\u001b[0m\u001b[0;34m\u001b[0m\u001b[0;34m\u001b[0m\u001b[0m\n\u001b[0;32m--> 895\u001b[0;31m             \u001b[0;32mreturn\u001b[0m \u001b[0mself\u001b[0m\u001b[0;34m.\u001b[0m\u001b[0m_getitem_axis\u001b[0m\u001b[0;34m(\u001b[0m\u001b[0mmaybe_callable\u001b[0m\u001b[0;34m,\u001b[0m \u001b[0maxis\u001b[0m\u001b[0;34m=\u001b[0m\u001b[0maxis\u001b[0m\u001b[0;34m)\u001b[0m\u001b[0;34m\u001b[0m\u001b[0;34m\u001b[0m\u001b[0m\n\u001b[0m\u001b[1;32m    896\u001b[0m \u001b[0;34m\u001b[0m\u001b[0m\n\u001b[1;32m    897\u001b[0m     \u001b[0;32mdef\u001b[0m \u001b[0m_is_scalar_access\u001b[0m\u001b[0;34m(\u001b[0m\u001b[0mself\u001b[0m\u001b[0;34m,\u001b[0m \u001b[0mkey\u001b[0m\u001b[0;34m:\u001b[0m \u001b[0mTuple\u001b[0m\u001b[0;34m)\u001b[0m\u001b[0;34m:\u001b[0m\u001b[0;34m\u001b[0m\u001b[0;34m\u001b[0m\u001b[0m\n",
      "\u001b[0;32m~/anaconda3/lib/python3.7/site-packages/pandas/core/indexing.py\u001b[0m in \u001b[0;36m_getitem_axis\u001b[0;34m(self, key, axis)\u001b[0m\n\u001b[1;32m   1111\u001b[0m                     \u001b[0;32mraise\u001b[0m \u001b[0mValueError\u001b[0m\u001b[0;34m(\u001b[0m\u001b[0;34m\"Cannot index with multidimensional key\"\u001b[0m\u001b[0;34m)\u001b[0m\u001b[0;34m\u001b[0m\u001b[0;34m\u001b[0m\u001b[0m\n\u001b[1;32m   1112\u001b[0m \u001b[0;34m\u001b[0m\u001b[0m\n\u001b[0;32m-> 1113\u001b[0;31m                 \u001b[0;32mreturn\u001b[0m \u001b[0mself\u001b[0m\u001b[0;34m.\u001b[0m\u001b[0m_getitem_iterable\u001b[0m\u001b[0;34m(\u001b[0m\u001b[0mkey\u001b[0m\u001b[0;34m,\u001b[0m \u001b[0maxis\u001b[0m\u001b[0;34m=\u001b[0m\u001b[0maxis\u001b[0m\u001b[0;34m)\u001b[0m\u001b[0;34m\u001b[0m\u001b[0;34m\u001b[0m\u001b[0m\n\u001b[0m\u001b[1;32m   1114\u001b[0m \u001b[0;34m\u001b[0m\u001b[0m\n\u001b[1;32m   1115\u001b[0m             \u001b[0;31m# nested tuple slicing\u001b[0m\u001b[0;34m\u001b[0m\u001b[0;34m\u001b[0m\u001b[0;34m\u001b[0m\u001b[0m\n",
      "\u001b[0;32m~/anaconda3/lib/python3.7/site-packages/pandas/core/indexing.py\u001b[0m in \u001b[0;36m_getitem_iterable\u001b[0;34m(self, key, axis)\u001b[0m\n\u001b[1;32m   1053\u001b[0m         \u001b[0mkeyarr\u001b[0m\u001b[0;34m,\u001b[0m \u001b[0mindexer\u001b[0m \u001b[0;34m=\u001b[0m \u001b[0mself\u001b[0m\u001b[0;34m.\u001b[0m\u001b[0m_get_listlike_indexer\u001b[0m\u001b[0;34m(\u001b[0m\u001b[0mkey\u001b[0m\u001b[0;34m,\u001b[0m \u001b[0maxis\u001b[0m\u001b[0;34m,\u001b[0m \u001b[0mraise_missing\u001b[0m\u001b[0;34m=\u001b[0m\u001b[0;32mFalse\u001b[0m\u001b[0;34m)\u001b[0m\u001b[0;34m\u001b[0m\u001b[0;34m\u001b[0m\u001b[0m\n\u001b[1;32m   1054\u001b[0m         return self.obj._reindex_with_indexers(\n\u001b[0;32m-> 1055\u001b[0;31m             \u001b[0;34m{\u001b[0m\u001b[0maxis\u001b[0m\u001b[0;34m:\u001b[0m \u001b[0;34m[\u001b[0m\u001b[0mkeyarr\u001b[0m\u001b[0;34m,\u001b[0m \u001b[0mindexer\u001b[0m\u001b[0;34m]\u001b[0m\u001b[0;34m}\u001b[0m\u001b[0;34m,\u001b[0m \u001b[0mcopy\u001b[0m\u001b[0;34m=\u001b[0m\u001b[0;32mTrue\u001b[0m\u001b[0;34m,\u001b[0m \u001b[0mallow_dups\u001b[0m\u001b[0;34m=\u001b[0m\u001b[0;32mTrue\u001b[0m\u001b[0;34m\u001b[0m\u001b[0;34m\u001b[0m\u001b[0m\n\u001b[0m\u001b[1;32m   1056\u001b[0m         )\n\u001b[1;32m   1057\u001b[0m \u001b[0;34m\u001b[0m\u001b[0m\n",
      "\u001b[0;32m~/anaconda3/lib/python3.7/site-packages/pandas/core/generic.py\u001b[0m in \u001b[0;36m_reindex_with_indexers\u001b[0;34m(self, reindexers, fill_value, copy, allow_dups)\u001b[0m\n\u001b[1;32m   4881\u001b[0m                 \u001b[0mfill_value\u001b[0m\u001b[0;34m=\u001b[0m\u001b[0mfill_value\u001b[0m\u001b[0;34m,\u001b[0m\u001b[0;34m\u001b[0m\u001b[0;34m\u001b[0m\u001b[0m\n\u001b[1;32m   4882\u001b[0m                 \u001b[0mallow_dups\u001b[0m\u001b[0;34m=\u001b[0m\u001b[0mallow_dups\u001b[0m\u001b[0;34m,\u001b[0m\u001b[0;34m\u001b[0m\u001b[0;34m\u001b[0m\u001b[0m\n\u001b[0;32m-> 4883\u001b[0;31m                 \u001b[0mcopy\u001b[0m\u001b[0;34m=\u001b[0m\u001b[0mcopy\u001b[0m\u001b[0;34m,\u001b[0m\u001b[0;34m\u001b[0m\u001b[0;34m\u001b[0m\u001b[0m\n\u001b[0m\u001b[1;32m   4884\u001b[0m             )\n\u001b[1;32m   4885\u001b[0m             \u001b[0;31m# If we've made a copy once, no need to make another one\u001b[0m\u001b[0;34m\u001b[0m\u001b[0;34m\u001b[0m\u001b[0;34m\u001b[0m\u001b[0m\n",
      "\u001b[0;32m~/anaconda3/lib/python3.7/site-packages/pandas/core/internals/managers.py\u001b[0m in \u001b[0;36mreindex_indexer\u001b[0;34m(self, new_axis, indexer, axis, fill_value, allow_dups, copy, consolidate, only_slice)\u001b[0m\n\u001b[1;32m   1306\u001b[0m         \u001b[0;32mif\u001b[0m \u001b[0maxis\u001b[0m \u001b[0;34m==\u001b[0m \u001b[0;36m0\u001b[0m\u001b[0;34m:\u001b[0m\u001b[0;34m\u001b[0m\u001b[0;34m\u001b[0m\u001b[0m\n\u001b[1;32m   1307\u001b[0m             new_blocks = self._slice_take_blocks_ax0(\n\u001b[0;32m-> 1308\u001b[0;31m                 \u001b[0mindexer\u001b[0m\u001b[0;34m,\u001b[0m \u001b[0mfill_value\u001b[0m\u001b[0;34m=\u001b[0m\u001b[0mfill_value\u001b[0m\u001b[0;34m,\u001b[0m \u001b[0monly_slice\u001b[0m\u001b[0;34m=\u001b[0m\u001b[0monly_slice\u001b[0m\u001b[0;34m\u001b[0m\u001b[0;34m\u001b[0m\u001b[0m\n\u001b[0m\u001b[1;32m   1309\u001b[0m             )\n\u001b[1;32m   1310\u001b[0m         \u001b[0;32melse\u001b[0m\u001b[0;34m:\u001b[0m\u001b[0;34m\u001b[0m\u001b[0;34m\u001b[0m\u001b[0m\n",
      "\u001b[0;32m~/anaconda3/lib/python3.7/site-packages/pandas/core/internals/managers.py\u001b[0m in \u001b[0;36m_slice_take_blocks_ax0\u001b[0;34m(self, slice_or_indexer, fill_value, only_slice)\u001b[0m\n\u001b[1;32m   1378\u001b[0m                             \u001b[0maxis\u001b[0m\u001b[0;34m=\u001b[0m\u001b[0;36m0\u001b[0m\u001b[0;34m,\u001b[0m\u001b[0;34m\u001b[0m\u001b[0;34m\u001b[0m\u001b[0m\n\u001b[1;32m   1379\u001b[0m                             \u001b[0mnew_mgr_locs\u001b[0m\u001b[0;34m=\u001b[0m\u001b[0mslice\u001b[0m\u001b[0;34m(\u001b[0m\u001b[0;36m0\u001b[0m\u001b[0;34m,\u001b[0m \u001b[0msllen\u001b[0m\u001b[0;34m)\u001b[0m\u001b[0;34m,\u001b[0m\u001b[0;34m\u001b[0m\u001b[0;34m\u001b[0m\u001b[0m\n\u001b[0;32m-> 1380\u001b[0;31m                             \u001b[0mfill_value\u001b[0m\u001b[0;34m=\u001b[0m\u001b[0mfill_value\u001b[0m\u001b[0;34m,\u001b[0m\u001b[0;34m\u001b[0m\u001b[0;34m\u001b[0m\u001b[0m\n\u001b[0m\u001b[1;32m   1381\u001b[0m                         )\n\u001b[1;32m   1382\u001b[0m                     ]\n",
      "\u001b[0;32m~/anaconda3/lib/python3.7/site-packages/pandas/core/internals/blocks.py\u001b[0m in \u001b[0;36mtake_nd\u001b[0;34m(self, indexer, axis, new_mgr_locs, fill_value)\u001b[0m\n\u001b[1;32m   1403\u001b[0m \u001b[0;34m\u001b[0m\u001b[0m\n\u001b[1;32m   1404\u001b[0m         new_values = algos.take_nd(\n\u001b[0;32m-> 1405\u001b[0;31m             \u001b[0mvalues\u001b[0m\u001b[0;34m,\u001b[0m \u001b[0mindexer\u001b[0m\u001b[0;34m,\u001b[0m \u001b[0maxis\u001b[0m\u001b[0;34m=\u001b[0m\u001b[0maxis\u001b[0m\u001b[0;34m,\u001b[0m \u001b[0mallow_fill\u001b[0m\u001b[0;34m=\u001b[0m\u001b[0mallow_fill\u001b[0m\u001b[0;34m,\u001b[0m \u001b[0mfill_value\u001b[0m\u001b[0;34m=\u001b[0m\u001b[0mfill_value\u001b[0m\u001b[0;34m\u001b[0m\u001b[0;34m\u001b[0m\u001b[0m\n\u001b[0m\u001b[1;32m   1406\u001b[0m         )\n\u001b[1;32m   1407\u001b[0m \u001b[0;34m\u001b[0m\u001b[0m\n",
      "\u001b[0;32m~/anaconda3/lib/python3.7/site-packages/pandas/core/algorithms.py\u001b[0m in \u001b[0;36mtake_nd\u001b[0;34m(arr, indexer, axis, out, fill_value, allow_fill)\u001b[0m\n\u001b[1;32m   1755\u001b[0m \u001b[0;34m\u001b[0m\u001b[0m\n\u001b[1;32m   1756\u001b[0m     func = _get_take_nd_function(\n\u001b[0;32m-> 1757\u001b[0;31m         \u001b[0marr\u001b[0m\u001b[0;34m.\u001b[0m\u001b[0mndim\u001b[0m\u001b[0;34m,\u001b[0m \u001b[0marr\u001b[0m\u001b[0;34m.\u001b[0m\u001b[0mdtype\u001b[0m\u001b[0;34m,\u001b[0m \u001b[0mout\u001b[0m\u001b[0;34m.\u001b[0m\u001b[0mdtype\u001b[0m\u001b[0;34m,\u001b[0m \u001b[0maxis\u001b[0m\u001b[0;34m=\u001b[0m\u001b[0maxis\u001b[0m\u001b[0;34m,\u001b[0m \u001b[0mmask_info\u001b[0m\u001b[0;34m=\u001b[0m\u001b[0mmask_info\u001b[0m\u001b[0;34m\u001b[0m\u001b[0;34m\u001b[0m\u001b[0m\n\u001b[0m\u001b[1;32m   1758\u001b[0m     )\n\u001b[1;32m   1759\u001b[0m     \u001b[0mfunc\u001b[0m\u001b[0;34m(\u001b[0m\u001b[0marr\u001b[0m\u001b[0;34m,\u001b[0m \u001b[0mindexer\u001b[0m\u001b[0;34m,\u001b[0m \u001b[0mout\u001b[0m\u001b[0;34m,\u001b[0m \u001b[0mfill_value\u001b[0m\u001b[0;34m)\u001b[0m\u001b[0;34m\u001b[0m\u001b[0;34m\u001b[0m\u001b[0m\n",
      "\u001b[0;32m~/anaconda3/lib/python3.7/site-packages/pandas/core/algorithms.py\u001b[0m in \u001b[0;36m_get_take_nd_function\u001b[0;34m(ndim, arr_dtype, out_dtype, axis, mask_info)\u001b[0m\n\u001b[1;32m   1536\u001b[0m ):\n\u001b[1;32m   1537\u001b[0m     \u001b[0;32mif\u001b[0m \u001b[0mndim\u001b[0m \u001b[0;34m<=\u001b[0m \u001b[0;36m2\u001b[0m\u001b[0;34m:\u001b[0m\u001b[0;34m\u001b[0m\u001b[0;34m\u001b[0m\u001b[0m\n\u001b[0;32m-> 1538\u001b[0;31m         \u001b[0mtup\u001b[0m \u001b[0;34m=\u001b[0m \u001b[0;34m(\u001b[0m\u001b[0marr_dtype\u001b[0m\u001b[0;34m.\u001b[0m\u001b[0mname\u001b[0m\u001b[0;34m,\u001b[0m \u001b[0mout_dtype\u001b[0m\u001b[0;34m.\u001b[0m\u001b[0mname\u001b[0m\u001b[0;34m)\u001b[0m\u001b[0;34m\u001b[0m\u001b[0;34m\u001b[0m\u001b[0m\n\u001b[0m\u001b[1;32m   1539\u001b[0m         \u001b[0;32mif\u001b[0m \u001b[0mndim\u001b[0m \u001b[0;34m==\u001b[0m \u001b[0;36m1\u001b[0m\u001b[0;34m:\u001b[0m\u001b[0;34m\u001b[0m\u001b[0;34m\u001b[0m\u001b[0m\n\u001b[1;32m   1540\u001b[0m             \u001b[0mfunc\u001b[0m \u001b[0;34m=\u001b[0m \u001b[0m_take_1d_dict\u001b[0m\u001b[0;34m.\u001b[0m\u001b[0mget\u001b[0m\u001b[0;34m(\u001b[0m\u001b[0mtup\u001b[0m\u001b[0;34m,\u001b[0m \u001b[0;32mNone\u001b[0m\u001b[0;34m)\u001b[0m\u001b[0;34m\u001b[0m\u001b[0;34m\u001b[0m\u001b[0m\n",
      "\u001b[0;32m~/anaconda3/lib/python3.7/site-packages/numpy/core/_dtype.py\u001b[0m in \u001b[0;36m_name_get\u001b[0;34m(dtype)\u001b[0m\n\u001b[1;32m    330\u001b[0m         \u001b[0mname\u001b[0m \u001b[0;34m=\u001b[0m \u001b[0mdtype\u001b[0m\u001b[0;34m.\u001b[0m\u001b[0mtype\u001b[0m\u001b[0;34m.\u001b[0m\u001b[0m__name__\u001b[0m\u001b[0;34m\u001b[0m\u001b[0;34m\u001b[0m\u001b[0m\n\u001b[1;32m    331\u001b[0m     \u001b[0;32melse\u001b[0m\u001b[0;34m:\u001b[0m\u001b[0;34m\u001b[0m\u001b[0;34m\u001b[0m\u001b[0m\n\u001b[0;32m--> 332\u001b[0;31m         \u001b[0mname\u001b[0m \u001b[0;34m=\u001b[0m \u001b[0m_kind_name\u001b[0m\u001b[0;34m(\u001b[0m\u001b[0mdtype\u001b[0m\u001b[0;34m)\u001b[0m\u001b[0;34m\u001b[0m\u001b[0;34m\u001b[0m\u001b[0m\n\u001b[0m\u001b[1;32m    333\u001b[0m \u001b[0;34m\u001b[0m\u001b[0m\n\u001b[1;32m    334\u001b[0m     \u001b[0;31m# append bit counts\u001b[0m\u001b[0;34m\u001b[0m\u001b[0;34m\u001b[0m\u001b[0;34m\u001b[0m\u001b[0m\n",
      "\u001b[0;32m~/anaconda3/lib/python3.7/site-packages/numpy/core/_dtype.py\u001b[0m in \u001b[0;36m_kind_name\u001b[0;34m(dtype)\u001b[0m\n\u001b[1;32m     24\u001b[0m \u001b[0;32mdef\u001b[0m \u001b[0m_kind_name\u001b[0m\u001b[0;34m(\u001b[0m\u001b[0mdtype\u001b[0m\u001b[0;34m)\u001b[0m\u001b[0;34m:\u001b[0m\u001b[0;34m\u001b[0m\u001b[0;34m\u001b[0m\u001b[0m\n\u001b[1;32m     25\u001b[0m     \u001b[0;32mtry\u001b[0m\u001b[0;34m:\u001b[0m\u001b[0;34m\u001b[0m\u001b[0;34m\u001b[0m\u001b[0m\n\u001b[0;32m---> 26\u001b[0;31m         \u001b[0;32mreturn\u001b[0m \u001b[0m_kind_to_stem\u001b[0m\u001b[0;34m[\u001b[0m\u001b[0mdtype\u001b[0m\u001b[0;34m.\u001b[0m\u001b[0mkind\u001b[0m\u001b[0;34m]\u001b[0m\u001b[0;34m\u001b[0m\u001b[0;34m\u001b[0m\u001b[0m\n\u001b[0m\u001b[1;32m     27\u001b[0m     \u001b[0;32mexcept\u001b[0m \u001b[0mKeyError\u001b[0m \u001b[0;32mas\u001b[0m \u001b[0me\u001b[0m\u001b[0;34m:\u001b[0m\u001b[0;34m\u001b[0m\u001b[0;34m\u001b[0m\u001b[0m\n\u001b[1;32m     28\u001b[0m         raise RuntimeError(\n",
      "\u001b[0;31mKeyboardInterrupt\u001b[0m: "
     ]
    }
   ],
   "source": [
    "# number of epochs to train the model\n",
    "n_epochs = 100\n",
    "\n",
    "valid_loss_min = np.Inf # track change in validation loss\n",
    "\n",
    "for epoch in range(1, n_epochs+1):\n",
    "\n",
    "    # keep track of training and validation loss\n",
    "    train_loss = 0.0\n",
    "    valid_loss = 0.0\n",
    "    \n",
    "    ###################\n",
    "    # train the model #\n",
    "    ###################\n",
    "    model.train()\n",
    "    for matches, outcomes in loaders[\"train\"]:\n",
    "        # move tensors to GPU if CUDA is available\n",
    "        if cuda_available:\n",
    "            matches, outcomes = matches.cuda(), outcomes.cuda()\n",
    "        # clear the gradients of all optimized variables\n",
    "        optimizer.zero_grad()\n",
    "        # forward pass: compute predicted outputs by passing inputs to the model\n",
    "        output = model(matches)\n",
    "        # calculate the batch loss\n",
    "        loss = criterion(output, outcomes)\n",
    "        # backward pass: compute gradient of the loss with respect to model parameters\n",
    "        loss.backward()\n",
    "        # perform a single optimization step (parameter update)\n",
    "        optimizer.step()\n",
    "        # update training loss\n",
    "        train_loss += loss.item()*matches.size(0)\n",
    "        \n",
    "    ######################    \n",
    "    # validate the model #\n",
    "    ######################\n",
    "    model.eval()\n",
    "    for matches, outcomes in loaders[\"valid\"]:\n",
    "        # move tensors to GPU if CUDA is available\n",
    "        if cuda_available: \n",
    "            matches, outcomes = matches.cuda(), outcomes.cuda()\n",
    "        # forward pass: compute predicted outputs by passing inputs to the model\n",
    "        output = model(matches)\n",
    "        # calculate the batch loss\n",
    "        loss = criterion(output, outcomes)\n",
    "        # update average validation loss \n",
    "        valid_loss += loss.item()*matches.size(0)\n",
    "    \n",
    "    # calculate average losses\n",
    "    train_loss = train_loss/len(loaders[\"train\"].dataset)\n",
    "    valid_loss = valid_loss/len(loaders[\"valid\"].dataset)\n",
    "        \n",
    "    # print training/validation statistics \n",
    "    print('Epoch: {} \\tTraining Loss: {:.6f} \\tValidation Loss: {:.6f}'.format(\n",
    "        epoch, train_loss, valid_loss))\n",
    "    \n",
    "    # save model if validation loss has decreased\n",
    "    if valid_loss <= valid_loss_min:\n",
    "        print('Validation loss decreased ({:.6f} --> {:.6f}).  Saving model ...'.format(\n",
    "        valid_loss_min,\n",
    "        valid_loss))\n",
    "        torch.save(model.state_dict(), 'model.pt')\n",
    "        valid_loss_min = valid_loss"
   ]
  },
  {
   "cell_type": "code",
   "execution_count": 348,
   "metadata": {},
   "outputs": [
    {
     "name": "stdout",
     "output_type": "stream",
     "text": [
      "0.13493284230169497\n"
     ]
    }
   ],
   "source": [
    "print(valid_loss_min)"
   ]
  },
  {
   "cell_type": "code",
   "execution_count": 349,
   "metadata": {},
   "outputs": [
    {
     "data": {
      "text/plain": [
       "<All keys matched successfully>"
      ]
     },
     "execution_count": 349,
     "metadata": {},
     "output_type": "execute_result"
    }
   ],
   "source": [
    "model.load_state_dict(torch.load('model.pt'))"
   ]
  },
  {
   "cell_type": "code",
   "execution_count": 350,
   "metadata": {},
   "outputs": [
    {
     "name": "stdout",
     "output_type": "stream",
     "text": [
      "Test Loss: 1.0114068454662657\n",
      "\n",
      "Test accuracy: 36.50190114068441\n",
      "\n"
     ]
    }
   ],
   "source": [
    "test_loss = 0.0\n",
    "correct = 0\n",
    "count=0\n",
    "\n",
    "model.eval()\n",
    "# iterate over test data\n",
    "for matches, outcomes in loaders[\"test\"]:\n",
    "    # move tensors to GPU if CUDA is available\n",
    "    if cuda_available:\n",
    "        matches, outcomes  = matches.cuda(), outcomes.cuda()\n",
    "    # forward pass: compute predicted outputs by passing inputs to the model\n",
    "    output = torch.round(model(matches))\n",
    "\n",
    "    # calculate the batch loss\n",
    "    loss = criterion(output, outcomes)\n",
    "    # update test loss \n",
    "    test_loss += loss.item()*matches.size(0)\n",
    "    try:\n",
    "        for i in range(batch_size):\n",
    "            result = outcomes.data[i]\n",
    "            if torch.round(output[i]).eq(result):\n",
    "                correct+=1\n",
    "            count+=1\n",
    "    except:\n",
    "        pass\n",
    "    \n",
    "# average test loss\n",
    "test_loss = test_loss/len(loaders[\"test\"].dataset)\n",
    "print('Test Loss: {}\\n'.format(test_loss))\n",
    "print('Test accuracy: {}\\n'.format((correct / len(loaders[\"test\"].dataset))*100))\n"
   ]
  },
  {
   "cell_type": "markdown",
   "metadata": {},
   "source": [
    "## Trying out different regression models"
   ]
  },
  {
   "cell_type": "markdown",
   "metadata": {},
   "source": [
    "train_data[\"result\"] = \"\"\n",
    "test_data[\"result\"] = \"\"\n",
    "\n",
    "for i in train_data.index:\n",
    "    if train_data.loc[i, \"team_goals\"] > train_data.loc[i, \"opponent_goals\"]:\n",
    "        \n",
    "        train_data.loc[i, \"result\"] = \"0\"\n",
    "    elif train_data.loc[i, \"team_goals\"] < train_data.loc[i, \"opponent_goals\"]:\n",
    "        train_data.loc[i, \"result\"] = '1'\n",
    "    else:\n",
    "        train_data.loc[i, \"result\"] = '2'\n",
    "\n",
    "for i in test_data.index:\n",
    "    if test_data.loc[i, \"team_goals\"] > test_data.loc[i, \"opponent_goals\"]:\n",
    "        \n",
    "        test_data.loc[i, \"result\"] = '0'\n",
    "    elif test_data.loc[i, \"team_goals\"] < test_data.loc[i, \"opponent_goals\"]:\n",
    "        test_data.loc[i, \"result\"] = '1'\n",
    "    else:\n",
    "        test_data.loc[i, \"result\"] = '2'\n",
    "\n",
    "\n",
    "train_data.drop()\n",
    "test\n",
    "\n"
   ]
  },
  {
   "cell_type": "code",
   "execution_count": 358,
   "metadata": {},
   "outputs": [],
   "source": [
    "from sklearn.metrics import mean_squared_error, accuracy_score"
   ]
  },
  {
   "cell_type": "markdown",
   "metadata": {},
   "source": [
    "##### 1. Random forest regressor"
   ]
  },
  {
   "cell_type": "code",
   "execution_count": 373,
   "metadata": {},
   "outputs": [],
   "source": [
    "train_data.drop(np.where(train_data[\"team_goals\"]>3)[0], inplace=True)\n",
    "test_data.drop(np.where(test_data[\"team_goals\"]>3)[0], inplace=True)"
   ]
  },
  {
   "cell_type": "code",
   "execution_count": 372,
   "metadata": {},
   "outputs": [],
   "source": [
    "from sklearn.ensemble import RandomForestRegressor"
   ]
  },
  {
   "cell_type": "code",
   "execution_count": 374,
   "metadata": {},
   "outputs": [],
   "source": [
    "model_rf = RandomForestRegressor()"
   ]
  },
  {
   "cell_type": "code",
   "execution_count": 375,
   "metadata": {},
   "outputs": [
    {
     "data": {
      "text/plain": [
       "RandomForestRegressor()"
      ]
     },
     "execution_count": 375,
     "metadata": {},
     "output_type": "execute_result"
    }
   ],
   "source": [
    "model_rf.fit(train_data.drop(columns=[\"fixture_id\", \"team_goals\", 'opponent_goals']), train_data[\"team_goals\"])"
   ]
  },
  {
   "cell_type": "code",
   "execution_count": 376,
   "metadata": {},
   "outputs": [],
   "source": [
    "preds_rf = np.round(model_rf.predict(test_data.drop(columns=[\"fixture_id\", \"team_goals\", 'opponent_goals'])))"
   ]
  },
  {
   "cell_type": "code",
   "execution_count": 377,
   "metadata": {},
   "outputs": [
    {
     "data": {
      "text/plain": [
       "1.0114068441064639"
      ]
     },
     "execution_count": 377,
     "metadata": {},
     "output_type": "execute_result"
    }
   ],
   "source": [
    "mean_squared_error(test_data.team_goals, preds_rf)"
   ]
  },
  {
   "cell_type": "code",
   "execution_count": 378,
   "metadata": {
    "scrolled": true
   },
   "outputs": [
    {
     "data": {
      "text/plain": [
       "0.35361216730038025"
      ]
     },
     "execution_count": 378,
     "metadata": {},
     "output_type": "execute_result"
    }
   ],
   "source": [
    "accuracy_score(test_data.team_goals, preds_rf)"
   ]
  },
  {
   "cell_type": "code",
   "execution_count": 379,
   "metadata": {},
   "outputs": [],
   "source": [
    "model_sv = sklearn.svm.SVR()"
   ]
  },
  {
   "cell_type": "code",
   "execution_count": 380,
   "metadata": {},
   "outputs": [
    {
     "data": {
      "text/plain": [
       "SVR()"
      ]
     },
     "execution_count": 380,
     "metadata": {},
     "output_type": "execute_result"
    }
   ],
   "source": [
    "model_sv.fit(train_data.drop(columns=[\"fixture_id\", \"team_goals\", 'opponent_goals']), train_data[\"team_goals\"])"
   ]
  },
  {
   "cell_type": "code",
   "execution_count": 381,
   "metadata": {},
   "outputs": [],
   "source": [
    "preds_sv = np.round(model_sv.predict(test_data.drop(columns=[\"fixture_id\", \"team_goals\", 'opponent_goals'])))"
   ]
  },
  {
   "cell_type": "code",
   "execution_count": 382,
   "metadata": {},
   "outputs": [
    {
     "data": {
      "text/plain": [
       "1.0190114068441065"
      ]
     },
     "execution_count": 382,
     "metadata": {},
     "output_type": "execute_result"
    }
   ],
   "source": [
    "mean_squared_error(test_data.team_goals, preds_sv)"
   ]
  },
  {
   "cell_type": "code",
   "execution_count": 383,
   "metadata": {
    "scrolled": true
   },
   "outputs": [
    {
     "data": {
      "text/plain": [
       "0.33460076045627374"
      ]
     },
     "execution_count": 383,
     "metadata": {},
     "output_type": "execute_result"
    }
   ],
   "source": [
    "accuracy_score(test_data.team_goals, preds_sv)"
   ]
  },
  {
   "cell_type": "code",
   "execution_count": 385,
   "metadata": {},
   "outputs": [],
   "source": [
    "from sklearn.linear_model import LogisticRegression"
   ]
  },
  {
   "cell_type": "code",
   "execution_count": 386,
   "metadata": {},
   "outputs": [],
   "source": [
    "model_lr = LogisticRegression()"
   ]
  },
  {
   "cell_type": "code",
   "execution_count": 387,
   "metadata": {
    "scrolled": false
   },
   "outputs": [
    {
     "name": "stderr",
     "output_type": "stream",
     "text": [
      "/Users/yazeed/anaconda3/lib/python3.7/site-packages/sklearn/linear_model/_logistic.py:765: ConvergenceWarning: lbfgs failed to converge (status=1):\n",
      "STOP: TOTAL NO. of ITERATIONS REACHED LIMIT.\n",
      "\n",
      "Increase the number of iterations (max_iter) or scale the data as shown in:\n",
      "    https://scikit-learn.org/stable/modules/preprocessing.html\n",
      "Please also refer to the documentation for alternative solver options:\n",
      "    https://scikit-learn.org/stable/modules/linear_model.html#logistic-regression\n",
      "  extra_warning_msg=_LOGISTIC_SOLVER_CONVERGENCE_MSG)\n"
     ]
    },
    {
     "data": {
      "text/plain": [
       "LogisticRegression()"
      ]
     },
     "execution_count": 387,
     "metadata": {},
     "output_type": "execute_result"
    }
   ],
   "source": [
    "model_lr.fit(train_data.drop(columns=[\"fixture_id\", \"team_goals\", 'opponent_goals']), train_data[\"team_goals\"])"
   ]
  },
  {
   "cell_type": "code",
   "execution_count": 389,
   "metadata": {},
   "outputs": [],
   "source": [
    "preds_lr = np.round(model_lr.predict(test_data.drop(columns=[\"fixture_id\", \"team_goals\", 'opponent_goals'])))"
   ]
  },
  {
   "cell_type": "code",
   "execution_count": 390,
   "metadata": {},
   "outputs": [
    {
     "data": {
      "text/plain": [
       "1.3231939163498099"
      ]
     },
     "execution_count": 390,
     "metadata": {},
     "output_type": "execute_result"
    }
   ],
   "source": [
    "mean_squared_error(test_data.team_goals, preds_lr)"
   ]
  },
  {
   "cell_type": "code",
   "execution_count": 391,
   "metadata": {
    "scrolled": false
   },
   "outputs": [
    {
     "data": {
      "text/plain": [
       "0.35361216730038025"
      ]
     },
     "execution_count": 391,
     "metadata": {},
     "output_type": "execute_result"
    }
   ],
   "source": [
    "accuracy_score(test_data.team_goals, preds_lr)"
   ]
  },
  {
   "cell_type": "markdown",
   "metadata": {},
   "source": [
    "<br>"
   ]
  },
  {
   "cell_type": "code",
   "execution_count": 392,
   "metadata": {},
   "outputs": [],
   "source": [
    "from sklearn.kernel_ridge import KernelRidge"
   ]
  },
  {
   "cell_type": "code",
   "execution_count": 589,
   "metadata": {},
   "outputs": [],
   "source": [
    "model_krr = KernelRidge(alpha=0.2, kernel='polynomial', degree=1, coef0=1)\n"
   ]
  },
  {
   "cell_type": "code",
   "execution_count": 590,
   "metadata": {},
   "outputs": [
    {
     "data": {
      "text/plain": [
       "KernelRidge(alpha=0.2, degree=1, kernel='polynomial')"
      ]
     },
     "execution_count": 590,
     "metadata": {},
     "output_type": "execute_result"
    }
   ],
   "source": [
    "model_krr.fit(train_data.drop(columns=[\"fixture_id\", \"team_goals\", 'opponent_goals']), train_data[\"team_goals\"])"
   ]
  },
  {
   "cell_type": "code",
   "execution_count": 591,
   "metadata": {},
   "outputs": [],
   "source": [
    "preds_krr = np.round(model_krr.predict(test_data.drop(columns=[\"fixture_id\", \"team_goals\", 'opponent_goals'])))"
   ]
  },
  {
   "cell_type": "code",
   "execution_count": 592,
   "metadata": {},
   "outputs": [
    {
     "data": {
      "text/plain": [
       "1.015209125475285"
      ]
     },
     "execution_count": 592,
     "metadata": {},
     "output_type": "execute_result"
    }
   ],
   "source": [
    "mean_squared_error(test_data.team_goals, preds_krr)"
   ]
  },
  {
   "cell_type": "code",
   "execution_count": 593,
   "metadata": {
    "scrolled": false
   },
   "outputs": [
    {
     "data": {
      "text/plain": [
       "0.3840304182509506"
      ]
     },
     "execution_count": 593,
     "metadata": {},
     "output_type": "execute_result"
    }
   ],
   "source": [
    "accuracy_score(test_data.team_goals, preds_krr)"
   ]
  },
  {
   "cell_type": "code",
   "execution_count": 597,
   "metadata": {},
   "outputs": [],
   "source": [
    "from sklearn.linear_model import ElasticNet"
   ]
  },
  {
   "cell_type": "code",
   "execution_count": 686,
   "metadata": {},
   "outputs": [],
   "source": [
    "model_en = ElasticNet(alpha=0.005, l1_ratio=.86)"
   ]
  },
  {
   "cell_type": "code",
   "execution_count": 683,
   "metadata": {},
   "outputs": [
    {
     "data": {
      "text/plain": [
       "ElasticNet(alpha=0.005, l1_ratio=0.86)"
      ]
     },
     "execution_count": 683,
     "metadata": {},
     "output_type": "execute_result"
    }
   ],
   "source": [
    "model_en.fit(train_data.drop(columns=[\"fixture_id\", \"team_goals\", 'opponent_goals']), train_data[\"team_goals\"])"
   ]
  },
  {
   "cell_type": "code",
   "execution_count": 684,
   "metadata": {},
   "outputs": [],
   "source": [
    "preds_en = np.round(model_en.predict(test_data.drop(columns=[\"fixture_id\", \"team_goals\", 'opponent_goals'])))"
   ]
  },
  {
   "cell_type": "code",
   "execution_count": 685,
   "metadata": {
    "scrolled": true
   },
   "outputs": [
    {
     "data": {
      "text/plain": [
       "0.3840304182509506"
      ]
     },
     "execution_count": 685,
     "metadata": {},
     "output_type": "execute_result"
    }
   ],
   "source": [
    "accuracy_score(test_data.team_goals, preds_en)"
   ]
  },
  {
   "cell_type": "code",
   "execution_count": 689,
   "metadata": {},
   "outputs": [],
   "source": [
    "from sklearn.ensemble import GradientBoostingRegressor"
   ]
  },
  {
   "cell_type": "code",
   "execution_count": null,
   "metadata": {},
   "outputs": [],
   "source": [
    "{‘friedman_mse’, ‘mse’, ‘mae’}"
   ]
  },
  {
   "cell_type": "code",
   "execution_count": 888,
   "metadata": {},
   "outputs": [],
   "source": [
    "model_gb = GradientBoostingRegressor(n_estimators=1000, learning_rate=0.01,\n",
    "                                   max_depth=4, max_features='sqrt',\n",
    "                                   min_samples_leaf=16, min_samples_split=30, \n",
    "                                   loss='huber', random_state =5)"
   ]
  },
  {
   "cell_type": "code",
   "execution_count": 889,
   "metadata": {},
   "outputs": [
    {
     "data": {
      "text/plain": [
       "GradientBoostingRegressor(learning_rate=0.01, loss='huber', max_depth=4,\n",
       "                          max_features='sqrt', min_samples_leaf=16,\n",
       "                          min_samples_split=30, n_estimators=1000,\n",
       "                          random_state=5)"
      ]
     },
     "execution_count": 889,
     "metadata": {},
     "output_type": "execute_result"
    }
   ],
   "source": [
    "model_gb.fit(train_data.drop(columns=[\"fixture_id\", \"team_goals\", 'opponent_goals']), train_data[\"team_goals\"])"
   ]
  },
  {
   "cell_type": "code",
   "execution_count": 890,
   "metadata": {},
   "outputs": [],
   "source": [
    "preds_gb = np.round(model_gb.predict(test_data.drop(columns=[\"fixture_id\", \"team_goals\", 'opponent_goals'])))"
   ]
  },
  {
   "cell_type": "code",
   "execution_count": 891,
   "metadata": {
    "scrolled": true
   },
   "outputs": [
    {
     "data": {
      "text/plain": [
       "0.39923954372623577"
      ]
     },
     "execution_count": 891,
     "metadata": {},
     "output_type": "execute_result"
    }
   ],
   "source": [
    "accuracy_score(test_data.team_goals, preds_gb)"
   ]
  },
  {
   "cell_type": "code",
   "execution_count": 893,
   "metadata": {},
   "outputs": [],
   "source": [
    "import xgboost as xgb"
   ]
  },
  {
   "cell_type": "code",
   "execution_count": 1242,
   "metadata": {},
   "outputs": [],
   "source": [
    "model_xgb = xgb.XGBRegressor(base_score = 0.5, colsample_bytree=0.466, gamma=0.01, \n",
    "                             learning_rate=0.01, max_depth=3, \n",
    "                             min_child_weight=5, n_estimators=980,\n",
    "                             reg_alpha=0.5, reg_lambda=0.05,\n",
    "                             subsample=0.72, random_state =5, nthread = 2)"
   ]
  },
  {
   "cell_type": "code",
   "execution_count": 1243,
   "metadata": {},
   "outputs": [
    {
     "data": {
      "text/plain": [
       "XGBRegressor(base_score=0.5, booster='gbtree', colsample_bylevel=1,\n",
       "             colsample_bynode=1, colsample_bytree=0.466, gamma=0.01, gpu_id=-1,\n",
       "             importance_type='gain', interaction_constraints='',\n",
       "             learning_rate=0.01, max_delta_step=0, max_depth=3,\n",
       "             min_child_weight=5, missing=nan, monotone_constraints='()',\n",
       "             n_estimators=980, n_jobs=2, nthread=2, num_parallel_tree=1,\n",
       "             random_state=5, reg_alpha=0.5, reg_lambda=0.05, scale_pos_weight=1,\n",
       "             subsample=0.72, tree_method='exact', validate_parameters=1,\n",
       "             verbosity=None)"
      ]
     },
     "execution_count": 1243,
     "metadata": {},
     "output_type": "execute_result"
    }
   ],
   "source": [
    "model_xgb.fit(train_data.drop(columns=[\"fixture_id\", \"team_goals\", 'opponent_goals']), train_data[\"team_goals\"])"
   ]
  },
  {
   "cell_type": "code",
   "execution_count": 1244,
   "metadata": {},
   "outputs": [],
   "source": [
    "preds_xgb = np.round(model_xgb.predict(test_data.drop(columns=[\"fixture_id\", \"team_goals\", 'opponent_goals'])))"
   ]
  },
  {
   "cell_type": "code",
   "execution_count": 1245,
   "metadata": {},
   "outputs": [
    {
     "data": {
      "text/plain": [
       "0.41064638783269963"
      ]
     },
     "execution_count": 1245,
     "metadata": {},
     "output_type": "execute_result"
    }
   ],
   "source": [
    "accuracy_score(test_data.team_goals, preds_xgb)"
   ]
  }
 ],
 "metadata": {
  "kernelspec": {
   "display_name": "Python 3",
   "language": "python",
   "name": "python3"
  },
  "language_info": {
   "codemirror_mode": {
    "name": "ipython",
    "version": 3
   },
   "file_extension": ".py",
   "mimetype": "text/x-python",
   "name": "python",
   "nbconvert_exporter": "python",
   "pygments_lexer": "ipython3",
   "version": "3.7.6"
  }
 },
 "nbformat": 4,
 "nbformat_minor": 4
}
